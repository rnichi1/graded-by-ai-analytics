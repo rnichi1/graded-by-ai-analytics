{
 "cells": [
  {
   "cell_type": "code",
   "id": "initial_id",
   "metadata": {
    "collapsed": true,
    "ExecuteTime": {
     "end_time": "2025-01-13T13:58:01.661249Z",
     "start_time": "2025-01-13T13:58:00.917072Z"
    }
   },
   "source": [
    "import pandas as pd\n",
    "from sqlalchemy import create_engine\n",
    "import psycopg2"
   ],
   "outputs": [],
   "execution_count": 2
  },
  {
   "metadata": {},
   "cell_type": "markdown",
   "source": "# Step 1: Connect to the PostgreSQL database\n",
   "id": "a3552b96ff490727"
  },
  {
   "metadata": {
    "ExecuteTime": {
     "end_time": "2025-01-13T13:58:02.208237Z",
     "start_time": "2025-01-13T13:58:02.184308Z"
    }
   },
   "cell_type": "code",
   "source": [
    "db_user = 'postgres'\n",
    "db_password = 'postgres'\n",
    "db_host = 'localhost'\n",
    "db_port = '5432'\n",
    "db_name = 'access'\n",
    "\n",
    "engine = create_engine(f'postgresql://{db_user}:{db_password}@{db_host}:{db_port}/{db_name}')\n"
   ],
   "id": "7535281a7698d92f",
   "outputs": [],
   "execution_count": 3
  },
  {
   "metadata": {},
   "cell_type": "markdown",
   "source": [
    "\n",
    "# Step 2: Query necessary data from the database\n"
   ],
   "id": "d5d01df590fc208d"
  },
  {
   "metadata": {
    "ExecuteTime": {
     "end_time": "2025-01-13T13:58:04.832697Z",
     "start_time": "2025-01-13T13:58:04.709918Z"
    }
   },
   "cell_type": "code",
   "source": [
    "# Get courses of interest\n",
    "courses_query = \"\"\"\n",
    "SELECT id, slug AS moduleslug\n",
    "FROM course\n",
    "WHERE slug IN ('fs24-sta120', 'fs24-mat183')\n",
    "\"\"\"\n",
    "courses_df = pd.read_sql_query(courses_query, engine)\n",
    "\n",
    "# Rename moduleslug to moduleSlug\n",
    "courses_df.rename(columns={'moduleslug': 'moduleSlug'}, inplace=True)\n",
    "print(courses_df)\n"
   ],
   "id": "7e8558bbbde6025",
   "outputs": [
    {
     "name": "stdout",
     "output_type": "stream",
     "text": [
      "   id   moduleSlug\n",
      "0   2  fs24-sta120\n",
      "1   3  fs24-mat183\n"
     ]
    }
   ],
   "execution_count": 4
  },
  {
   "metadata": {
    "ExecuteTime": {
     "end_time": "2024-12-10T12:35:02.416448Z",
     "start_time": "2024-12-10T12:35:02.410382Z"
    }
   },
   "cell_type": "code",
   "source": [
    "\n",
    "# Get assignments for the selected courses\n",
    "assignments_query = \"\"\"\n",
    "SELECT *\n",
    "FROM assignment\n",
    "WHERE assignment.course_id IN (SELECT id FROM course WHERE slug IN ('fs24-sta120', 'fs24-mat183'))\n",
    "\"\"\"\n",
    "assignments_df = pd.read_sql_query(assignments_query, engine)\n",
    "\n",
    "print(assignments_df)\n"
   ],
   "id": "93500383d469f196",
   "outputs": [
    {
     "name": "stdout",
     "output_type": "stream",
     "text": [
      "     id  enabled            end_date  ordinal_num           slug  \\\n",
      "0   402     True 2024-03-05 23:59:00            1   week1_mat183   \n",
      "1   352     True 2024-03-04 23:45:00            2   week2_sta120   \n",
      "2   302     True 2024-03-04 23:45:00            1   week1_sta120   \n",
      "3   452     True 2024-03-11 23:45:00            3   week3_sta120   \n",
      "4   453     True 2024-03-12 23:59:00            2   week2_mat183   \n",
      "5   502     True 2024-03-19 23:59:00            3   week3_mat183   \n",
      "6   503     True 2024-03-18 23:45:00            4   week4_sta120   \n",
      "7   552     True 2024-03-25 23:45:00            5   week5_sta120   \n",
      "8   553     True 2024-03-26 23:59:00            4   week4_mat183   \n",
      "9   602     True 2024-04-09 23:59:00            5   week5_mat183   \n",
      "10  603     True 2024-04-08 23:45:00            6   week6_sta120   \n",
      "11  604     True 2024-04-16 23:59:00            6   week6_mat183   \n",
      "12  605     True 2024-04-15 23:45:00            7   week7_sta120   \n",
      "13  652     True 2024-04-22 23:45:00            8   week8_sta120   \n",
      "14  653     True 2024-04-23 23:59:00            7   week7_mat183   \n",
      "15  655     True 2024-04-29 23:45:00            9   week9_sta120   \n",
      "16  654     True 2024-05-07 23:59:00            8   week8_mat183   \n",
      "17  656     True 2024-05-06 23:45:00           10  week10_sta120   \n",
      "18  702     True 2024-05-14 23:59:00            9   week9_mat183   \n",
      "19  703     True 2024-05-13 23:45:00           11  week11_sta120   \n",
      "20  752     True 2024-05-20 23:45:00           12  week12_sta120   \n",
      "21  753     True 2024-05-27 23:45:00           13  week13_sta120   \n",
      "22  754     True 2024-05-21 23:59:00           10  week10_mat183   \n",
      "23  755     True 2024-05-28 23:59:00           11  week11_mat183   \n",
      "\n",
      "            start_date  course_id  \n",
      "0  2023-12-01 13:00:00          3  \n",
      "1  2024-02-26 23:45:00          2  \n",
      "2  2024-02-19 08:00:00          2  \n",
      "3  2024-03-04 23:45:00          2  \n",
      "4  2023-12-01 13:00:00          3  \n",
      "5  2023-12-01 13:00:00          3  \n",
      "6  2024-03-11 23:45:00          2  \n",
      "7  2024-03-18 23:45:00          2  \n",
      "8  2023-12-01 13:00:00          3  \n",
      "9  2023-12-01 13:00:00          3  \n",
      "10 2024-03-25 23:45:00          2  \n",
      "11 2023-12-01 13:00:00          3  \n",
      "12 2024-04-08 23:45:00          2  \n",
      "13 2024-04-15 23:45:00          2  \n",
      "14 2023-12-01 13:00:00          3  \n",
      "15 2024-04-22 23:45:00          2  \n",
      "16 2023-12-01 13:00:00          3  \n",
      "17 2024-04-29 23:45:00          2  \n",
      "18 2023-12-01 13:00:00          3  \n",
      "19 2024-05-06 23:45:00          2  \n",
      "20 2024-05-13 23:45:00          2  \n",
      "21 2024-05-20 23:45:00          2  \n",
      "22 2023-12-01 13:00:00          3  \n",
      "23 2023-12-01 13:00:00          3  \n"
     ]
    }
   ],
   "execution_count": 129
  },
  {
   "metadata": {
    "ExecuteTime": {
     "end_time": "2024-12-10T12:37:10.656177Z",
     "start_time": "2024-12-10T12:37:10.640296Z"
    }
   },
   "cell_type": "code",
   "source": [
    "# Get tasks for the selected assignments\n",
    "tasks_query = \"\"\"\n",
    "SELECT\n",
    "    task.id,\n",
    "    task.slug,\n",
    "    task.assignment_id,\n",
    "    task.max_points,\n",
    "    solution_file.id AS solution_file_id,\n",
    "    solution_file.name AS solution_file_name,\n",
    "    solution_file.mime_type AS solution_file_mime_type,\n",
    "    solution_file.template AS solution,\n",
    "    instruction_file.id AS instruction_file_id,\n",
    "    instruction_file.name AS instruction_file_name,\n",
    "    instruction_file.mime_type AS instruction_file_mime_type,\n",
    "    instruction_file.template AS instruction,\n",
    "    course.slug AS course_slug\n",
    "FROM task\n",
    "LEFT JOIN task_file AS solution_file \n",
    "    ON task.id = solution_file.task_id AND solution_file.solution = TRUE\n",
    "LEFT JOIN task_file AS instruction_file \n",
    "    ON task.id = instruction_file.task_id AND instruction_file.instruction = TRUE\n",
    "LEFT JOIN assignment ON task.assignment_id = assignment.id\n",
    "LEFT JOIN course ON assignment.course_id = course.id\n",
    "WHERE task.assignment_id IN (\n",
    "    SELECT id \n",
    "    FROM assignment \n",
    "    WHERE course_id IN (\n",
    "        SELECT id \n",
    "        FROM course \n",
    "        WHERE slug IN ('fs24-sta120', 'fs24-mat183')\n",
    "    )\n",
    ")\n",
    "\n",
    "\"\"\"\n",
    "tasks_df = pd.read_sql_query(tasks_query, engine)\n",
    "print(tasks_df.head())"
   ],
   "id": "9c8a9e848860a32c",
   "outputs": [
    {
     "name": "stdout",
     "output_type": "stream",
     "text": [
      "    id            slug  assignment_id  max_points  solution_file_id  \\\n",
      "0  402  1_week1_sta120            302         1.0               606   \n",
      "1  403  2_week1_sta120            302         1.0               611   \n",
      "2  753  2_week8_sta120            652         1.0              1261   \n",
      "3  709  3_week6_sta120            603         1.0              1146   \n",
      "4  404  3_week1_sta120            302         1.0               617   \n",
      "\n",
      "  solution_file_name solution_file_mime_type  \\\n",
      "0           script.R              text/plain   \n",
      "1           script.R              text/plain   \n",
      "2           script.R              text/plain   \n",
      "3           script.R              text/plain   \n",
      "4           script.R              text/plain   \n",
      "\n",
      "                                            solution  instruction_file_id  \\\n",
      "0  png(file = \"solution.png\")\\nrequire(fields) # ...                  602   \n",
      "1                                 demo(persp) \\n\\n\\n                  607   \n",
      "2   png(file=\"solution.png\")\\nmu <- c(1, 2)\\n sig...                 1257   \n",
      "3  n <- 95\\nx <- 8\\nex_CI <- binom.test(x, n)$con...                 1142   \n",
      "4  png(file=\"solution.png\")\\ndat <- read.csv(\"res...                  612   \n",
      "\n",
      "  instruction_file_name instruction_file_mime_type  \\\n",
      "0       instructions.md                 text/plain   \n",
      "1       instructions.md                 text/plain   \n",
      "2       instructions.md                 text/plain   \n",
      "3       instructions.md                 text/plain   \n",
      "4       instructions.md                 text/plain   \n",
      "\n",
      "                                         instruction  course_slug  \n",
      "0  Require the package fields. Display the volcan...  fs24-sta120  \n",
      "1  Use the the R help function to find out the pu...  fs24-sta120  \n",
      "2  Plot the density of $X$ (as defined in the pre...  fs24-sta120  \n",
      "3  Suppose that among $n=95$ Swiss males, eight a...  fs24-sta120  \n",
      "4  On www.isleroyalewolf.org/data/data/home.html ...  fs24-sta120  \n"
     ]
    }
   ],
   "execution_count": 137
  },
  {
   "metadata": {
    "ExecuteTime": {
     "end_time": "2024-12-10T12:37:13.037819Z",
     "start_time": "2024-12-10T12:37:13.034253Z"
    }
   },
   "cell_type": "code",
   "source": "print(len(tasks_df))",
   "id": "856f9308217a60a6",
   "outputs": [
    {
     "name": "stdout",
     "output_type": "stream",
     "text": [
      "168\n"
     ]
    }
   ],
   "execution_count": 138
  },
  {
   "metadata": {
    "ExecuteTime": {
     "end_time": "2024-12-10T12:37:15.218796Z",
     "start_time": "2024-12-10T12:37:15.211652Z"
    }
   },
   "cell_type": "code",
   "source": [
    "# Get user entities (students)\n",
    "users_query = \"\"\"\n",
    "SELECT id AS user_id, email, username\n",
    "FROM user_entity\n",
    "\"\"\"\n",
    "users_df = pd.read_sql_query(users_query, engine)\n",
    "print(users_df.head())"
   ],
   "id": "c501618f07f97656",
   "outputs": [
    {
     "name": "stdout",
     "output_type": "stream",
     "text": [
      "                                user_id                 email  \\\n",
      "0  d95603c0-5a0f-4c9a-85f2-f2036892966d        student@uzh.ch   \n",
      "1  a08fc0d2-854a-4860-9f12-6c06b17df93e     supervisor@uzh.ch   \n",
      "2  c3b197c2-6295-4b30-a764-d06d6935f9d5  shubhi.pareek@uzh.ch   \n",
      "3  b2e59824-54a6-4dd2-aff5-b1c87c04b2f9                  None   \n",
      "4  7a5d43de-f501-4a44-9edb-6fa564804984                  None   \n",
      "\n",
      "                           username  \n",
      "0                    student@uzh.ch  \n",
      "1                 supervisor@uzh.ch  \n",
      "2              shubhi.pareek@uzh.ch  \n",
      "3  service-account-realm-management  \n",
      "4                             admin  \n"
     ]
    }
   ],
   "execution_count": 139
  },
  {
   "metadata": {
    "ExecuteTime": {
     "end_time": "2024-12-10T12:37:16.127320Z",
     "start_time": "2024-12-10T12:37:15.548027Z"
    }
   },
   "cell_type": "code",
   "source": [
    "# Get submissions for the selected tasks with submission file content and grade\n",
    "submissions_query = \"\"\"\n",
    "SELECT \n",
    "    submission.id,\n",
    "    submission.points,\n",
    "    submission.valid,\n",
    "    submission.evaluation_id,\n",
    "    submission.user_id,\n",
    "    evaluation.best_score,\n",
    "    submission_file.content,\n",
    "    evaluation.task_id\n",
    "FROM submission\n",
    "LEFT JOIN evaluation ON submission.evaluation_id = evaluation.id\n",
    "LEFT JOIN submission_file ON submission.id = submission_file.submission_id\n",
    "WHERE submission.command = 'GRADE'\n",
    "  AND evaluation.task_id IN (\n",
    "      SELECT id \n",
    "      FROM task \n",
    "      WHERE assignment_id IN (\n",
    "          SELECT id \n",
    "          FROM assignment \n",
    "          WHERE course_id IN (\n",
    "              SELECT id \n",
    "              FROM course \n",
    "              WHERE slug IN ('fs24-sta120', 'fs24-mat183')\n",
    "          )\n",
    "      )\n",
    "  )\n",
    "\n",
    "\"\"\" \n",
    "\n",
    "\n",
    "submissions_df = pd.read_sql_query(submissions_query, engine)\n",
    "print(submissions_df.head())"
   ],
   "id": "617ce598aae9de06",
   "outputs": [
    {
     "name": "stdout",
     "output_type": "stream",
     "text": [
      "       id  points  valid  evaluation_id                      user_id  \\\n",
      "0  357735     1.0   True          49202  julianpatrick.stoerr@uzh.ch   \n",
      "1  357739     0.0   True          49204            floxmas@gmail.com   \n",
      "2  357741     1.0   True          49203  julianpatrick.stoerr@uzh.ch   \n",
      "3  350328     0.0   True          47315  anjana.thatheeskumar@uzh.ch   \n",
      "4  350330     1.0   True          47315  anjana.thatheeskumar@uzh.ch   \n",
      "\n",
      "   best_score                                            content  task_id  \n",
      "0         1.0  png(file = \"solution.png\")\\n\\n## Uniforme Vert...      761  \n",
      "1         1.0  png(file = \"solution.png\")\\n\\n## Normalverteil...      762  \n",
      "2         1.0  png(file = \"solution.png\")\\n\\n## Normalverteil...      762  \n",
      "3         1.0  png(file = \"solution.png\")\\n\\n## Normalverteil...      762  \n",
      "4         1.0  png(file = \"solution.png\")\\n\\n## Normalverteil...      762  \n"
     ]
    }
   ],
   "execution_count": 140
  },
  {
   "metadata": {
    "ExecuteTime": {
     "end_time": "2024-12-10T12:37:16.725989Z",
     "start_time": "2024-12-10T12:37:16.722344Z"
    }
   },
   "cell_type": "code",
   "source": "print(len(submissions_df))",
   "id": "adf7f0aa075dbfa2",
   "outputs": [
    {
     "name": "stdout",
     "output_type": "stream",
     "text": [
      "55289\n"
     ]
    }
   ],
   "execution_count": 141
  },
  {
   "metadata": {},
   "cell_type": "markdown",
   "source": "# Step 4: Save Data",
   "id": "3badfb882ae91a42"
  },
  {
   "metadata": {
    "ExecuteTime": {
     "end_time": "2024-12-10T12:37:19.179622Z",
     "start_time": "2024-12-10T12:37:18.691747Z"
    }
   },
   "cell_type": "code",
   "source": [
    "tasks_df.to_csv('data/tasks_df.csv', index=False)\n",
    "submissions_df.to_csv('data/submissions_df.csv', index=False)\n",
    "users_df.to_csv('data/users_df.csv', index=False)\n"
   ],
   "id": "4d770d6b387defae",
   "outputs": [],
   "execution_count": 143
  }
 ],
 "metadata": {
  "kernelspec": {
   "display_name": "Python 3",
   "language": "python",
   "name": "python3"
  },
  "language_info": {
   "codemirror_mode": {
    "name": "ipython",
    "version": 2
   },
   "file_extension": ".py",
   "mimetype": "text/x-python",
   "name": "python",
   "nbconvert_exporter": "python",
   "pygments_lexer": "ipython2",
   "version": "2.7.6"
  }
 },
 "nbformat": 4,
 "nbformat_minor": 5
}
