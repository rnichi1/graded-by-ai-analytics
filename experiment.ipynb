{
 "cells": [
  {
   "metadata": {},
   "cell_type": "markdown",
   "source": [
    "# Evaluate the data with the backend\n",
    "We are evaluating the gpt integration by simulating student responses from previous real data and comparing the feedback and results with real human grading."
   ],
   "id": "e186944daa93318e"
  },
  {
   "metadata": {},
   "cell_type": "markdown",
   "source": "## Load Data",
   "id": "b5b9e7afdc995621"
  },
  {
   "metadata": {
    "ExecuteTime": {
     "end_time": "2024-12-13T06:47:32.021273Z",
     "start_time": "2024-12-13T06:47:32.009452Z"
    }
   },
   "cell_type": "code",
   "source": "import pandas as pd",
   "id": "7614196371373c3",
   "outputs": [],
   "execution_count": 200
  },
  {
   "cell_type": "code",
   "id": "initial_id",
   "metadata": {
    "collapsed": true,
    "ExecuteTime": {
     "end_time": "2024-12-13T06:47:32.410364Z",
     "start_time": "2024-12-13T06:47:32.046124Z"
    }
   },
   "source": [
    "tasks_df = pd.read_csv('data/tasks_df.csv')\n",
    "submissions_df = pd.read_csv('data/submissions_df.csv')\n",
    "users_df = pd.read_csv('data/users_df.csv')\n"
   ],
   "outputs": [],
   "execution_count": 201
  },
  {
   "metadata": {},
   "cell_type": "markdown",
   "source": "## Join Data",
   "id": "28f17a2fba269e1b"
  },
  {
   "metadata": {
    "ExecuteTime": {
     "end_time": "2024-12-13T06:47:32.422222Z",
     "start_time": "2024-12-13T06:47:32.411704Z"
    }
   },
   "cell_type": "code",
   "source": [
    "print(\"---Tasks---\")\n",
    "print(tasks_df.head())\n",
    "print(\"---Submissions---\")\n",
    "print(submissions_df.head())\n",
    "print(\"---Users---\")\n",
    "print(users_df.head())"
   ],
   "id": "80d623b75990897c",
   "outputs": [
    {
     "name": "stdout",
     "output_type": "stream",
     "text": [
      "---Tasks---\n",
      "    id            slug  assignment_id  max_points  solution_file_id  \\\n",
      "0  402  1_week1_sta120            302         1.0               606   \n",
      "1  403  2_week1_sta120            302         1.0               611   \n",
      "2  753  2_week8_sta120            652         1.0              1261   \n",
      "3  709  3_week6_sta120            603         1.0              1146   \n",
      "4  404  3_week1_sta120            302         1.0               617   \n",
      "\n",
      "  solution_file_name solution_file_mime_type  \\\n",
      "0           script.R              text/plain   \n",
      "1           script.R              text/plain   \n",
      "2           script.R              text/plain   \n",
      "3           script.R              text/plain   \n",
      "4           script.R              text/plain   \n",
      "\n",
      "                                            solution  instruction_file_id  \\\n",
      "0  png(file = \"solution.png\")\\nrequire(fields) # ...                  602   \n",
      "1                                 demo(persp) \\n\\n\\n                  607   \n",
      "2   png(file=\"solution.png\")\\nmu <- c(1, 2)\\n sig...                 1257   \n",
      "3  n <- 95\\nx <- 8\\nex_CI <- binom.test(x, n)$con...                 1142   \n",
      "4  png(file=\"solution.png\")\\ndat <- read.csv(\"res...                  612   \n",
      "\n",
      "  instruction_file_name instruction_file_mime_type  \\\n",
      "0       instructions.md                 text/plain   \n",
      "1       instructions.md                 text/plain   \n",
      "2       instructions.md                 text/plain   \n",
      "3       instructions.md                 text/plain   \n",
      "4       instructions.md                 text/plain   \n",
      "\n",
      "                                         instruction  course_slug  \n",
      "0  Require the package fields. Display the volcan...  fs24-sta120  \n",
      "1  Use the the R help function to find out the pu...  fs24-sta120  \n",
      "2  Plot the density of $X$ (as defined in the pre...  fs24-sta120  \n",
      "3  Suppose that among $n=95$ Swiss males, eight a...  fs24-sta120  \n",
      "4  On www.isleroyalewolf.org/data/data/home.html ...  fs24-sta120  \n",
      "---Submissions---\n",
      "       id  points  valid  evaluation_id                      user_id  \\\n",
      "0  357735     1.0   True          49202  julianpatrick.stoerr@uzh.ch   \n",
      "1  357739     0.0   True          49204            floxmas@gmail.com   \n",
      "2  357741     1.0   True          49203  julianpatrick.stoerr@uzh.ch   \n",
      "3  350328     0.0   True          47315  anjana.thatheeskumar@uzh.ch   \n",
      "4  350330     1.0   True          47315  anjana.thatheeskumar@uzh.ch   \n",
      "\n",
      "   best_score                                            content  task_id  \n",
      "0         1.0  png(file = \"solution.png\")\\n\\n## Uniforme Vert...      761  \n",
      "1         1.0  png(file = \"solution.png\")\\n\\n## Normalverteil...      762  \n",
      "2         1.0  png(file = \"solution.png\")\\n\\n## Normalverteil...      762  \n",
      "3         1.0  png(file = \"solution.png\")\\n\\n## Normalverteil...      762  \n",
      "4         1.0  png(file = \"solution.png\")\\n\\n## Normalverteil...      762  \n",
      "---Users---\n",
      "                                user_id                 email  \\\n",
      "0  d95603c0-5a0f-4c9a-85f2-f2036892966d        student@uzh.ch   \n",
      "1  a08fc0d2-854a-4860-9f12-6c06b17df93e     supervisor@uzh.ch   \n",
      "2  c3b197c2-6295-4b30-a764-d06d6935f9d5  shubhi.pareek@uzh.ch   \n",
      "3  b2e59824-54a6-4dd2-aff5-b1c87c04b2f9                   NaN   \n",
      "4  7a5d43de-f501-4a44-9edb-6fa564804984                   NaN   \n",
      "\n",
      "                           username  \n",
      "0                    student@uzh.ch  \n",
      "1                 supervisor@uzh.ch  \n",
      "2              shubhi.pareek@uzh.ch  \n",
      "3  service-account-realm-management  \n",
      "4                             admin  \n"
     ]
    }
   ],
   "execution_count": 202
  },
  {
   "metadata": {
    "ExecuteTime": {
     "end_time": "2024-12-13T06:47:51.465875Z",
     "start_time": "2024-12-13T06:47:32.422986Z"
    }
   },
   "cell_type": "code",
   "source": [
    "# Prepare the evaluation data\n",
    "evaluation_data_stat = []\n",
    "evaluation_data_mat = []\n",
    "for _, submission in submissions_df.iterrows():\n",
    "    course = tasks_df.loc[tasks_df['id'] == submission['task_id'], 'course_slug'].values[0]\n",
    "    if course == \"fs24-sta120\":\n",
    "        evaluation_data_stat.append({\n",
    "            \"question\": tasks_df.loc[tasks_df['id'] == submission['task_id'], 'instruction'].values[0], # Get the question from the tasks_df using the task_id in the submissions_df\n",
    "            \"answer\":  submission['content'],\n",
    "            \"modelSolution\": tasks_df.loc[tasks_df['id'] == submission['task_id'], 'solution'].values[0],\n",
    "            \"maxPoints\": tasks_df.loc[tasks_df['id'] == submission['task_id'], 'max_points'].values[0],\n",
    "            \"minPoints\": 0,  # Default minPoints\n",
    "            \"pointStep\": 0.5,  # Default pointStep\n",
    "            \"human_points\": submission['points']\n",
    "        })\n",
    "    elif course == \"fs24-mat183\":\n",
    "        evaluation_data_mat.append({\n",
    "            \"question\": tasks_df.loc[tasks_df['id'] == submission['task_id'], 'instruction'].values[0], # Get the question from the tasks_df using the task_id in the submissions_df\n",
    "            \"answer\":  submission['content'],\n",
    "            \"modelSolution\": tasks_df.loc[tasks_df['id'] == submission['task_id'], 'solution'].values[0],\n",
    "            \"maxPoints\": tasks_df.loc[tasks_df['id'] == submission['task_id'], 'max_points'].values[0],\n",
    "            \"minPoints\": 0,  # Default minPoints\n",
    "            \"pointStep\": 0.5,  # Default pointStep\n",
    "            \"human_points\": submission['points']\n",
    "        })\n",
    "    else:\n",
    "        print(f\"Unknown course_slug: {course}\")\n",
    "    "
   ],
   "id": "7d9eda6480993a08",
   "outputs": [],
   "execution_count": 203
  },
  {
   "metadata": {
    "ExecuteTime": {
     "end_time": "2024-12-13T06:47:51.470599Z",
     "start_time": "2024-12-13T06:47:51.467644Z"
    }
   },
   "cell_type": "code",
   "source": [
    "print(evaluation_data_stat[:5])\n",
    "print(evaluation_data_mat[:5])\n",
    "print(f\"Total submissions to evaluate: {len(evaluation_data_stat)}\")\n",
    "print(f\"Total submissions to evaluate: {len(evaluation_data_mat)}\")"
   ],
   "id": "27fc85787c8dce33",
   "outputs": [
    {
     "name": "stdout",
     "output_type": "stream",
     "text": [
      "[{'question': \"The dataset Oral is available in the R package spam and contains oral cavity cancer counts for $544$ districts in Germany.\\nSimulate a 95\\\\% confidence interval for the sample mean of the variable SRM based on the following bootstrap scheme (sampling with replacement):\\nRepeat $10'000$ times\\n    - Sample $544$ observations $Z_{i}$ with replacement\\\\\\n    - Calculate and store the mean of these sampled observations\\\\\\nConstruct the confidence interval by taking the 2.5\\\\% and the 97.5\\\\% quantiles of the stored means.\\n\", 'answer': 'require(spam)\\ndata(Oral)\\n\\nn <- 544\\nset.seed(3)\\n\\n# Room for creativity!\\nboot_means <- replicate(10000, {\\n  sampled_indices <- sample(1:n, replace = TRUE)\\n  mean(Oral$q[sampled_indices])\\n})\\n\\nsol <- quantile(boot_means, c(0.025, 0.975), na.rm = TRUE)\\n', 'modelSolution': 'require(spam) \\ndata(Oral) \\nn <- 544\\nmybootstrap <- function(n.replications){ \\n temporary <- array(0, dim = n.replications) # Preallocation is always advisable! \\n for(i in 1:n.replications){ \\n   temporary[i] = mean(sample(Oral$SMR, size = n, replace = T)) \\n } \\n return(as.numeric(temporary)) \\n} \\nset.seed(3) \\nsim.mean2 <- mybootstrap(10000) \\nsol <- quantile(sim.mean2, c(0.025, 0.975)) ', 'maxPoints': np.float64(1.0), 'minPoints': 0, 'pointStep': 0.5, 'human_points': 0.5}, {'question': 'For the case below, specify the null and alternative hypothesis. \\nThen use R to perform the $t$-tests.\\n$\\\\mu_{\\\\text{Hb S}\\\\beta} = \\\\mu_{\\\\text{Hb SS}}$ ($\\\\alpha = 1\\\\%$, two-sided).\\nAs the solution, return the p.value from the t.test, the alternative hypothesis of the test, and the confidence interval for the difference in the means between two groups. \\nMake sure you get those from the attributes of the t.test object and not manually (so that it can be automatically compared).\\n', 'answer': 'HbSS <- c(7.2, 7.7, 8, 8.1, 8.3, 8.4, 8.4, 8.5, 8.6, 8.7, 9.1,\\n          9.1, 9.1, 9.8, 10.1, 10.3)\\nHbSb <- c(8.1, 9.2, 10, 10.4, 10.6, 10.9, 11.1, 11.9, 12.0, 12.1)\\n\\ntt <- t.test(HbSS, HbSb, var.equal = TRUE, conf.level = 0.99)\\n\\np_value <- tt$p.value\\nci <- tt$conf.int\\nalt_hyp <- tt$alternative\\n\\nsol <- list(p_value = p_value, ci = ci, alt_hyp = alt_hyp)', 'modelSolution': 'HbSS <- c(7.2, 7.7, 8, 8.1, 8.3, 8.4, 8.4, 8.5, 8.6, 8.7, 9.1,\\n          9.1, 9.1, 9.8, 10.1, 10.3)\\nHbSb <- c(8.1, 9.2, 10, 10.4, 10.6, 10.9, 11.1, 11.9, 12.0, 12.1)\\n\\ntt <- t.test(HbSb, HbSS, var.equal = TRUE, conf = 0.99)\\n\\np_value <- tt$p.value\\nci <- tt$conf.int\\nalt_hyp <- tt$alternative\\n\\nsol <- list(p_value = p_value, alt_hyp = alt_hyp)', 'maxPoints': np.float64(1.0), 'minPoints': 0, 'pointStep': 0.5, 'human_points': 0.5}, {'question': 'What changes, if in a one-sided test is performed instead, compared to Exercise 1?\\n', 'answer': 'HbSb <- c(8.1, 9.2, 10, 10.4, 10.6, 10.9, 11.1, 11.9, 12.0, 12.1)\\n\\ntt_two_sided <- t.test( HbSb , mu = 10 ) # same call as in Task 01\\ntt_one_sided <- t.test( HbSb , mu = 10 , alternative = \"greater\" )\\n\\np_ratio <- tt_two_sided$p.value / tt_one_sided$p.value # What is the ratio of the two p values? Numerator the one like Task 01, Denominator the current one.\\n\\nsol <- list(ratio = p_ratio)', 'modelSolution': 'HbSb <- c(8.1, 9.2, 10, 10.4, 10.6, 10.9, 11.1, 11.9, 12.0, 12.1)\\n\\ntt_two_sided <- t.test( HbSb , mu = 10 ) # same call as in Task 01\\ntt_one_sided <- t.test(HbSb, mu = 10, alternative = \"greater\")\\n\\np_ratio <- tt_two_sided$p.value /  tt_one_sided$p.value # What is the ratio of the two p values? Numerator the one like Task 01, Denominator the current one.\\n\\nsol<- list(ratio = p_ratio)', 'maxPoints': np.float64(1.0), 'minPoints': 0, 'pointStep': 0.5, 'human_points': 1.0}, {'question': 'We now use all data jointly and use ```districtSize``` as a predictor as well. \\nHowever, ```districtSize``` is not numerical, rather categorical and thus we set ```mydata$districtSize <- as.factor(mydata$districtSize)```.   \\nFit a linear model using ```salary``` as the response variable and ```districtSize``` and ```experience``` as the predictors.  \\nIs there an effect of ```experience``` and/or ```districtSize```?   \\nHow can we interpret the parameter estimates?\\n', 'answer': 'png(file=\"solution.png\")\\nset.seed(16)\\nmydata <- read.table(\"resource/10salary.txt\", header = TRUE, sep = \",\")\\nmydata$districtSize <- as.factor( mydata$districtSize )\\nstr( mydata )\\nlength(unique( mydata ))\\n#Note that the elements in the column District are all distinct, so they can be thought as \\'\\'labels\\'\\' for the observations. Therefore, we discard such columns when fitting the linear model.\\nfit <- lm(salary ~ districtSize + experience , data = mydata)\\nsummary(fit)\\npar(mfrow = c(2, 2))\\nplot(fit)\\ndev.off()', 'modelSolution': 'png(file=\"solution.png\")\\nset.seed(16)\\nmydata <- read.table(\"resource/10salary.txt\", header = TRUE, sep = \",\")\\nmydata$districtSize <- as.factor(mydata$districtSize)\\nstr(mydata)\\nlength(unique(mydata$District))\\n#Note that the elements in the column District are all distinct, so they can be thought as \\'\\'labels\\'\\' for the observations. Therefore, we discard such columns when fitting the linear model.\\nfit <- lm(salary ~ experience + districtSize, data = mydata)\\nsummary(fit)\\npar(mfrow = c(2, 2))\\nplot(fit)\\ndev.off()', 'maxPoints': np.float64(1.0), 'minPoints': 0, 'pointStep': 0.5, 'human_points': 1.0}, {'question': 'Require the package fields. Display the volcano data with the function image.plot(). What is the maximum height of the volcano?', 'answer': 'png(file = \"solution.png\")\\nrequire(fields) # Or library(fields) \\nimage.plot(volcano) # Check out the plot in your R-Studio\\n# function which.max() returns you the highest value of your dataset (there is also which.min())\\n\\nmax_height <- which.max(volcano)\\ndev.off()\\n\\n', 'modelSolution': 'png(file = \"solution.png\")\\nrequire(fields) # Or library(fields) \\nimage.plot(volcano) # Check out the plot in your R-Studio\\n# function which.max() returns you the heighest value of your dataset (there is also which.min())\\n\\nmax_height <- volcano[which.max(volcano)] \\ndev.off()\\n\\n', 'maxPoints': np.float64(1.0), 'minPoints': 0, 'pointStep': 0.5, 'human_points': 1.0}]\n",
      "[{'question': 'And now plot the density function of this continuous distribution:\\n\\n* Uniform distribution, $X\\\\sim U[0, 3]$.\\n\\n', 'answer': 'png(file = \"solution.png\")\\n\\n## Uniforme Verteilung\\na <- 0\\nb <- 3\\nx <- seq(a, b, 0.1)\\ny = dunif(x,min = a, max = b)\\nplot(\\n\\tx, \\n\\ty , \\n\\ttype=\"s\", \\n\\tlwd=5, \\n\\txlab=\"x\", \\n\\tylab=\"f(x)\", \\n\\txaxt=\"n\",\\n\\txlim=c(a-1, b+1), \\n\\tmain=\"Uniform, X~U[0,3]\", \\n\\tcol=\"blue\"\\n)\\naxis(1, at=x, labels=x)\\nev <- (a + b) / 2\\nabline(h=0, lty=3)\\nabline(v=ev, lwd=2) # Erwartungswert\\n\\n# Erwartungswert +/- Standardabweichung: \\n#abline(v=c(... - ..., ... + ... ), lty=2)\\n\\ndev.off()\\n', 'modelSolution': 'png(file = \"solution.png\")\\n\\n## Uniforme Verteilung\\na <- 0\\nb <- 3\\nx <- seq(a, b, 0.1)\\nplot(x, dunif(x, min=a, max=b), type=\"s\", lwd=5, xlab=\"x\", ylab=\"f(x)\", xaxt=\"n\",\\n\\txlim=c(a-1, b+1), main=\"Uniform, X~U[0,3]\", col=\"blue\")\\naxis(1, at=x, labels=x)\\nabline(h=0, lty=3)\\nabline(v=(a+b)/2, lwd=2) # Erwartungswert\\n\\n# Erwartungswert +/- Standardabweichung: \\nabline(v=c((a+b)/2-sqrt((b-a)^2/12), (a+b)/2+sqrt((b-a)^2/12)), lty=2)\\n\\ndev.off()\\n', 'maxPoints': np.float64(1.0), 'minPoints': 0, 'pointStep': 0.5, 'human_points': 1.0}, {'question': 'Plot the density function of this continuous distribution:\\n    \\n* Normal distribution, $X\\\\sim N(0,3)$,\\n\\nEx.: the distribution of length variations in some machined parts, with standard deviation $\\\\sqrt{3}$.\\n', 'answer': 'png(file = \"solution.png\")\\n\\n## Normalverteilung\\nx <- seq(-7, 7, 0.1)\\nmu <- 0\\nsigma2 <- 3\\nplot(\\n\\tx, \\n\\tdnorm(x, mean=0, sd=3, log=FALSE), \\n\\ttype=\"l\", \\n\\tlwd=5, \\n\\tylab=\"f(x)\", \\n\\tmain=\"Normal, X~N(0, 3)\", \\n\\tcol=\"blue\"\\n)\\naxis(1, at=-10:10,labels=-10:10)\\nabline(h=0, lty=3)\\nabline(v=0, lwd=2) # Erwartungswert\\n\\n# Erwartungswert +/- Standardabweichung: \\nabline(v=c(0 - sqrt(3), 0 + sqrt(3) ), lty=2)\\n\\ndev.off()\\n', 'modelSolution': 'png(file = \"solution.png\")\\n\\n## Normalverteilung\\nx <- seq(-7, 7, 0.1)\\nmu <- 0\\nsigma2 <- 3\\nplot(x, dnorm(x, mean=mu, sd=sqrt(sigma2)), type=\"l\", lwd=5, ylab=\"f(x)\", \\n\\tmain=\"Normal, X~N(0, 3)\", col=\"blue\")\\naxis(1, at=-10:10,labels=-10:10)\\nabline(h=0, lty=3)\\nabline(v=mu, lwd=2) # Erwartungswert\\n\\n# Erwartungswert +/- Standardabweichung: \\nabline(v=c(mu-sqrt(sigma2), mu+sqrt(sigma2)), lty=2)\\n\\ndev.off()\\n', 'maxPoints': np.float64(1.0), 'minPoints': 0, 'pointStep': 0.5, 'human_points': 0.0}, {'question': 'Plot the density function of this continuous distribution:\\n    \\n* Normal distribution, $X\\\\sim N(0,3)$,\\n\\nEx.: the distribution of length variations in some machined parts, with standard deviation $\\\\sqrt{3}$.\\n', 'answer': 'png(file = \"solution.png\")\\n\\n## Normalverteilung\\nx <- seq(-7, 7, 0.1)\\nmu <- 0\\nsigma2 <- 3\\nsigma <- sqrt(sigma2)\\ny <- dnorm(x, mean = mu, sd = sigma, )\\nplot(\\n\\tx, \\n\\ty, \\n\\ttype=\"l\", \\n\\tlwd=5, \\n\\tylab=\"f(x)\", \\n\\tmain=\"Normal, X~N(0, 3)\", \\n\\tcol=\"blue\"\\n)\\naxis(1, at=-10:10,labels=-10:10)\\nabline(h=0, lty=3)\\nabline(v=mu, lwd=2) # Erwartungswert\\n\\n# Erwartungswert +/- Standardabweichung: \\nabline(v=c(mu -sigma, mu + sigma ), lty=2)\\n\\ndev.off()\\n', 'modelSolution': 'png(file = \"solution.png\")\\n\\n## Normalverteilung\\nx <- seq(-7, 7, 0.1)\\nmu <- 0\\nsigma2 <- 3\\nplot(x, dnorm(x, mean=mu, sd=sqrt(sigma2)), type=\"l\", lwd=5, ylab=\"f(x)\", \\n\\tmain=\"Normal, X~N(0, 3)\", col=\"blue\")\\naxis(1, at=-10:10,labels=-10:10)\\nabline(h=0, lty=3)\\nabline(v=mu, lwd=2) # Erwartungswert\\n\\n# Erwartungswert +/- Standardabweichung: \\nabline(v=c(mu-sqrt(sigma2), mu+sqrt(sigma2)), lty=2)\\n\\ndev.off()\\n', 'maxPoints': np.float64(1.0), 'minPoints': 0, 'pointStep': 0.5, 'human_points': 1.0}, {'question': 'Plot the density function of this continuous distribution:\\n    \\n* Normal distribution, $X\\\\sim N(0,3)$,\\n\\nEx.: the distribution of length variations in some machined parts, with standard deviation $\\\\sqrt{3}$.\\n', 'answer': 'png(file = \"solution.png\")\\n\\n## Normalverteilung\\nx <- seq(-7, 7, 0.1)\\nmu <- 0\\nsigma2 <- 3\\nplot(\\n\\tx, \\n\\tdnorm(x,mean=0,sd=sqrt(3)), \\n\\ttype=\"l\", \\n\\tlwd=5, \\n\\tylab=\"f(x)\", \\n\\tmain=\"Normal, X~N(0, 3)\", \\n\\tcol=\"blue\"\\n)\\naxis(1, at=-10:10,labels=-10:10)\\nabline(h=0, lty=3)\\nabline(v=0, lwd=2) # Erwartungswert\\n\\n# Erwartungswert +/- Standardabweichung: \\nabline(v=c(0 - sqrt(3), 0 + sqrt(8) ), lty=2)\\n\\ndev.off()\\n', 'modelSolution': 'png(file = \"solution.png\")\\n\\n## Normalverteilung\\nx <- seq(-7, 7, 0.1)\\nmu <- 0\\nsigma2 <- 3\\nplot(x, dnorm(x, mean=mu, sd=sqrt(sigma2)), type=\"l\", lwd=5, ylab=\"f(x)\", \\n\\tmain=\"Normal, X~N(0, 3)\", col=\"blue\")\\naxis(1, at=-10:10,labels=-10:10)\\nabline(h=0, lty=3)\\nabline(v=mu, lwd=2) # Erwartungswert\\n\\n# Erwartungswert +/- Standardabweichung: \\nabline(v=c(mu-sqrt(sigma2), mu+sqrt(sigma2)), lty=2)\\n\\ndev.off()\\n', 'maxPoints': np.float64(1.0), 'minPoints': 0, 'pointStep': 0.5, 'human_points': 0.0}, {'question': 'Plot the density function of this continuous distribution:\\n    \\n* Normal distribution, $X\\\\sim N(0,3)$,\\n\\nEx.: the distribution of length variations in some machined parts, with standard deviation $\\\\sqrt{3}$.\\n', 'answer': 'png(file = \"solution.png\")\\n\\n## Normalverteilung\\nx <- seq(-7, 7, 0.1)\\nmu <- 0\\nsigma2 <- 3\\nplot(\\n\\tx, \\n\\tdnorm(x,mean=0,sd=sqrt(3)), \\n\\ttype=\"l\", \\n\\tlwd=5, \\n\\tylab=\"f(x)\", \\n\\tmain=\"Normal, X~N(0, 3)\", \\n\\tcol=\"blue\"\\n)\\naxis(1, at=-10:10,labels=-10:10)\\nabline(h=0, lty=3)\\nabline(v=0, lwd=2) # Erwartungswert\\n\\n# Erwartungswert +/- Standardabweichung: \\nabline(v=c(0 - sqrt(3), 0 + sqrt(3) ), lty=2)\\n\\ndev.off()\\n', 'modelSolution': 'png(file = \"solution.png\")\\n\\n## Normalverteilung\\nx <- seq(-7, 7, 0.1)\\nmu <- 0\\nsigma2 <- 3\\nplot(x, dnorm(x, mean=mu, sd=sqrt(sigma2)), type=\"l\", lwd=5, ylab=\"f(x)\", \\n\\tmain=\"Normal, X~N(0, 3)\", col=\"blue\")\\naxis(1, at=-10:10,labels=-10:10)\\nabline(h=0, lty=3)\\nabline(v=mu, lwd=2) # Erwartungswert\\n\\n# Erwartungswert +/- Standardabweichung: \\nabline(v=c(mu-sqrt(sigma2), mu+sqrt(sigma2)), lty=2)\\n\\ndev.off()\\n', 'maxPoints': np.float64(1.0), 'minPoints': 0, 'pointStep': 0.5, 'human_points': 1.0}]\n",
      "Total submissions to evaluate: 18267\n",
      "Total submissions to evaluate: 37022\n"
     ]
    }
   ],
   "execution_count": 204
  },
  {
   "metadata": {},
   "cell_type": "markdown",
   "source": "## Send Request to Service",
   "id": "4f14664798609f37"
  },
  {
   "metadata": {
    "ExecuteTime": {
     "end_time": "2024-12-13T06:47:51.476446Z",
     "start_time": "2024-12-13T06:47:51.471243Z"
    }
   },
   "cell_type": "code",
   "source": [
    "import requests\n",
    "from tqdm.notebook import tqdm  # Use notebook-friendly tqdm\n",
    "from IPython.display import display, Markdown\n",
    "\n",
    "def evaluate(to_evaluate):\n",
    "    EVALUATION_URL = \"http://localhost:4000/evaluate\"    \n",
    "    tracker = []\n",
    "    accuracy_tracker = []\n",
    "    logs = []  # Collect logs for later display\n",
    "\n",
    "    def calculate_accuracy(human_points, llm_points, max_points):\n",
    "        if max_points == 0:\n",
    "            return 1  # This should never happen, but just in case, so we don't divide by zero\n",
    "        diff = abs(human_points - llm_points)\n",
    "        return 1 - diff / max_points\n",
    "\n",
    "    # Use tqdm for progress bar\n",
    "    for idx, submission in enumerate(tqdm(to_evaluate, desc=\"Evaluating submissions\"), start=1):\n",
    "        data = {\n",
    "            \"question\": submission.get(\"question\", \"\"),\n",
    "            \"answer\": submission.get(\"answer\", \"\"),\n",
    "            \"modelSolution\": submission.get(\"modelSolution\", \"\"),\n",
    "            \"maxPoints\": float(submission.get(\"maxPoints\")),\n",
    "            \"minPoints\": float(submission.get(\"minPoints\")),\n",
    "            \"pointStep\": float(submission.get(\"pointStep\")),\n",
    "            \"llmType\": \"gpt\"\n",
    "        }\n",
    "\n",
    "        try:\n",
    "            response = requests.post(EVALUATION_URL, json=data, headers={\"Content-Type\": \"application/json\"})\n",
    "            response.raise_for_status()\n",
    "            evaluation_result = response.json()\n",
    "\n",
    "            llm_points = evaluation_result.get(\"points\", 0)\n",
    "            human_points = submission[\"human_points\"]\n",
    "            max_points = submission[\"maxPoints\"]\n",
    "\n",
    "            # Calculate accuracy\n",
    "            accuracy = calculate_accuracy(human_points, llm_points, max_points)\n",
    "            tracker.append({\n",
    "                \"human_points\": human_points,\n",
    "                \"gpt_points\": llm_points,\n",
    "                \"accuracy\": accuracy,\n",
    "                \"evaluation_result\": evaluation_result,\n",
    "                \"submission\": submission,\n",
    "            })\n",
    "            accuracy_tracker.append(accuracy)\n",
    "\n",
    "            logs.append(f\"Submission {idx} Result: {evaluation_result}\")\n",
    "            logs.append(f\"Human Points: {human_points}, GPT Points: {llm_points}\")\n",
    "            logs.append(f\"Accuracy: {accuracy:.2%}\")\n",
    "        except requests.exceptions.RequestException as e:\n",
    "            logs.append(f\"Error evaluating submission {idx}: {e}\")\n",
    "\n",
    "    # Calculate average accuracy\n",
    "    average_accuracy = sum(accuracy_tracker) / len(accuracy_tracker)\n",
    "\n",
    "    return tracker, average_accuracy, logs\n"
   ],
   "id": "20e01b2caae76170",
   "outputs": [],
   "execution_count": 205
  },
  {
   "metadata": {
    "ExecuteTime": {
     "end_time": "2024-12-13T06:47:51.480162Z",
     "start_time": "2024-12-13T06:47:51.477102Z"
    }
   },
   "cell_type": "code",
   "source": [
    "# Parallel evaluation setup\n",
    "from helpers.parallel_evaluate import parallel_evaluate\n",
    "#TODO Try Voting Mechanism to see if accuracy improves!\n",
    "num_threads = 4  # Adjust based on your CPU cores\n",
    "batch_size = 250\n",
    "sample_size = 1000\n",
    "num_groups = 10"
   ],
   "id": "afa16e6fc858df13",
   "outputs": [],
   "execution_count": 206
  },
  {
   "metadata": {
    "ExecuteTime": {
     "end_time": "2024-12-13T06:58:31.074374Z",
     "start_time": "2024-12-13T06:47:51.480802Z"
    }
   },
   "cell_type": "code",
   "source": [
    "from helpers.stratified_sample import stratified_random_sample\n",
    "\n",
    "# Get well distributed sample (assuming maxPoints = rough difficulty)\n",
    "evaluation_data_stat_rand = stratified_random_sample(evaluation_data_stat, sample_size=sample_size, num_groups=num_groups)\n",
    "\n",
    "stat_tracker, stat_accuracy, stat_logs = parallel_evaluate(evaluation_data_stat_rand, func=evaluate, num_threads=num_threads, batch_size=batch_size)\n",
    "print(f\"Average Accuracy: {stat_accuracy:.2%}\")"
   ],
   "id": "72d5670872cd7265",
   "outputs": [
    {
     "data": {
      "text/plain": [
       "Evaluating submissions:   0%|          | 0/250 [00:00<?, ?it/s]"
      ],
      "application/vnd.jupyter.widget-view+json": {
       "version_major": 2,
       "version_minor": 0,
       "model_id": "fe4839ce40524aa6959d1e18c520be92"
      }
     },
     "metadata": {},
     "output_type": "display_data"
    },
    {
     "data": {
      "text/plain": [
       "Evaluating submissions:   0%|          | 0/250 [00:00<?, ?it/s]"
      ],
      "application/vnd.jupyter.widget-view+json": {
       "version_major": 2,
       "version_minor": 0,
       "model_id": "db57aeba01b44f059a1396aba8475ca1"
      }
     },
     "metadata": {},
     "output_type": "display_data"
    },
    {
     "data": {
      "text/plain": [
       "Evaluating submissions:   0%|          | 0/250 [00:00<?, ?it/s]"
      ],
      "application/vnd.jupyter.widget-view+json": {
       "version_major": 2,
       "version_minor": 0,
       "model_id": "34bf7bed303a464c8f32e73bcaaa2fce"
      }
     },
     "metadata": {},
     "output_type": "display_data"
    },
    {
     "data": {
      "text/plain": [
       "Evaluating submissions:   0%|          | 0/250 [00:00<?, ?it/s]"
      ],
      "application/vnd.jupyter.widget-view+json": {
       "version_major": 2,
       "version_minor": 0,
       "model_id": "9588aa76815942c7ace03d1cf102a141"
      }
     },
     "metadata": {},
     "output_type": "display_data"
    },
    {
     "name": "stdout",
     "output_type": "stream",
     "text": [
      "Average Accuracy: nan%\n"
     ]
    }
   ],
   "execution_count": 207
  },
  {
   "metadata": {
    "ExecuteTime": {
     "end_time": "2024-12-13T07:08:23.841784Z",
     "start_time": "2024-12-13T06:58:31.077229Z"
    }
   },
   "cell_type": "code",
   "source": [
    "\n",
    "# evaluate random subset of mat\n",
    "evaluation_data_mat_rand = stratified_random_sample(evaluation_data_mat, sample_size=sample_size, num_groups=num_groups)\n",
    "\n",
    "mat_tracker, mat_accuracy, mat_logs = parallel_evaluate(evaluation_data_mat_rand, func=evaluate, num_threads=num_threads, batch_size=batch_size)\n",
    "print(f\"Average Accuracy: {mat_accuracy:.2%}\")"
   ],
   "id": "ff1e5379ac8f9026",
   "outputs": [
    {
     "data": {
      "text/plain": [
       "Evaluating submissions:   0%|          | 0/250 [00:00<?, ?it/s]"
      ],
      "application/vnd.jupyter.widget-view+json": {
       "version_major": 2,
       "version_minor": 0,
       "model_id": "6fbf32f446094141803620e774a9f7a3"
      }
     },
     "metadata": {},
     "output_type": "display_data"
    },
    {
     "data": {
      "text/plain": [
       "Evaluating submissions:   0%|          | 0/250 [00:00<?, ?it/s]"
      ],
      "application/vnd.jupyter.widget-view+json": {
       "version_major": 2,
       "version_minor": 0,
       "model_id": "7c21e9f2498746168340bf488e6bf3b3"
      }
     },
     "metadata": {},
     "output_type": "display_data"
    },
    {
     "data": {
      "text/plain": [
       "Evaluating submissions:   0%|          | 0/250 [00:00<?, ?it/s]"
      ],
      "application/vnd.jupyter.widget-view+json": {
       "version_major": 2,
       "version_minor": 0,
       "model_id": "ec1c3899411e4bb7974745c3843a8866"
      }
     },
     "metadata": {},
     "output_type": "display_data"
    },
    {
     "data": {
      "text/plain": [
       "Evaluating submissions:   0%|          | 0/250 [00:00<?, ?it/s]"
      ],
      "application/vnd.jupyter.widget-view+json": {
       "version_major": 2,
       "version_minor": 0,
       "model_id": "6ba0f74a9e0f43458a0deadb431c2159"
      }
     },
     "metadata": {},
     "output_type": "display_data"
    },
    {
     "name": "stdout",
     "output_type": "stream",
     "text": [
      "Average Accuracy: 198.30%\n"
     ]
    }
   ],
   "execution_count": 208
  },
  {
   "metadata": {
    "ExecuteTime": {
     "end_time": "2024-12-13T07:21:03.740723Z",
     "start_time": "2024-12-13T07:10:38.680010Z"
    }
   },
   "cell_type": "code",
   "source": [
    "# evaluate the same random subset of mat without including solutions\n",
    "evaluation_data_stat_no_solutions_rand = []\n",
    "for submission in evaluation_data_stat_rand:\n",
    "    evaluation_data_stat_no_solutions_rand.append({\n",
    "        \"question\": submission.get(\"question\", \"\"),\n",
    "        \"answer\": submission.get(\"answer\", \"\"),\n",
    "        \"modelSolution\": \"undefined\",\n",
    "        \"maxPoints\": float(submission.get(\"maxPoints\")),\n",
    "        \"minPoints\": float(submission.get(\"minPoints\")),\n",
    "        \"pointStep\": float(submission.get(\"pointStep\")),\n",
    "        \"human_points\": submission[\"human_points\"]\n",
    "    })\n",
    "\n",
    "\n",
    "# evaluate random subset of stat without including solutions\n",
    "stat_tracker_no_solutions, stat_accuracy_no_solutions, stat_logs_no_solutions = parallel_evaluate(\n",
    "    evaluation_data_stat_no_solutions_rand, func=evaluate, num_threads=num_threads, batch_size=batch_size\n",
    ")\n",
    "\n",
    "print(f\"Average Accuracy: {stat_accuracy_no_solutions:.2%}\")\n"
   ],
   "id": "ab323220ffb480c1",
   "outputs": [
    {
     "data": {
      "text/plain": [
       "Evaluating submissions:   0%|          | 0/250 [00:00<?, ?it/s]"
      ],
      "application/vnd.jupyter.widget-view+json": {
       "version_major": 2,
       "version_minor": 0,
       "model_id": "e79f4ec15b9c441f98556109af613d9e"
      }
     },
     "metadata": {},
     "output_type": "display_data"
    },
    {
     "data": {
      "text/plain": [
       "Evaluating submissions:   0%|          | 0/250 [00:00<?, ?it/s]"
      ],
      "application/vnd.jupyter.widget-view+json": {
       "version_major": 2,
       "version_minor": 0,
       "model_id": "cd58a3b4cfdc4ae682bb96073963682a"
      }
     },
     "metadata": {},
     "output_type": "display_data"
    },
    {
     "data": {
      "text/plain": [
       "Evaluating submissions:   0%|          | 0/250 [00:00<?, ?it/s]"
      ],
      "application/vnd.jupyter.widget-view+json": {
       "version_major": 2,
       "version_minor": 0,
       "model_id": "353ebf552a6245e899e8b857fcfbc896"
      }
     },
     "metadata": {},
     "output_type": "display_data"
    },
    {
     "data": {
      "text/plain": [
       "Evaluating submissions:   0%|          | 0/250 [00:00<?, ?it/s]"
      ],
      "application/vnd.jupyter.widget-view+json": {
       "version_major": 2,
       "version_minor": 0,
       "model_id": "05c9db98245541bbbd518ca804ebd7f9"
      }
     },
     "metadata": {},
     "output_type": "display_data"
    },
    {
     "name": "stdout",
     "output_type": "stream",
     "text": [
      "Average Accuracy: nan%\n"
     ]
    }
   ],
   "execution_count": 214
  },
  {
   "metadata": {
    "ExecuteTime": {
     "end_time": "2024-12-13T07:31:27.224047Z",
     "start_time": "2024-12-13T07:21:03.744021Z"
    }
   },
   "cell_type": "code",
   "source": [
    "# evaluate the same random subset of mat without including solutions\n",
    "evaluation_data_mat_no_solutions_rand = []\n",
    "for submission in evaluation_data_mat_rand:\n",
    "    evaluation_data_mat_no_solutions_rand.append({\n",
    "        \"question\": submission.get(\"question\", \"\"),\n",
    "        \"answer\": submission.get(\"answer\", \"\"),\n",
    "        \"modelSolution\": \"undefined\",\n",
    "        \"maxPoints\": float(submission.get(\"maxPoints\")),\n",
    "        \"minPoints\": float(submission.get(\"minPoints\")),\n",
    "        \"pointStep\": float(submission.get(\"pointStep\")),\n",
    "        \"human_points\": submission[\"human_points\"]\n",
    "    })\n",
    "\n",
    "mat_tracker_no_solutions, mat_accuracy_no_solutions, mat_logs_no_solutions = parallel_evaluate(evaluation_data_mat_no_solutions_rand, func=evaluate, num_threads=num_threads, batch_size=batch_size)\n",
    "print(f\"Average Accuracy: {mat_accuracy_no_solutions:.2%}\")"
   ],
   "id": "a7e347fa1efbdc5f",
   "outputs": [
    {
     "data": {
      "text/plain": [
       "Evaluating submissions:   0%|          | 0/250 [00:00<?, ?it/s]"
      ],
      "application/vnd.jupyter.widget-view+json": {
       "version_major": 2,
       "version_minor": 0,
       "model_id": "3fbd10ce65714e9ea313b41384e59469"
      }
     },
     "metadata": {},
     "output_type": "display_data"
    },
    {
     "data": {
      "text/plain": [
       "Evaluating submissions:   0%|          | 0/250 [00:00<?, ?it/s]"
      ],
      "application/vnd.jupyter.widget-view+json": {
       "version_major": 2,
       "version_minor": 0,
       "model_id": "514d7c43c53a44b3a8ccb10d795570aa"
      }
     },
     "metadata": {},
     "output_type": "display_data"
    },
    {
     "data": {
      "text/plain": [
       "Evaluating submissions:   0%|          | 0/250 [00:00<?, ?it/s]"
      ],
      "application/vnd.jupyter.widget-view+json": {
       "version_major": 2,
       "version_minor": 0,
       "model_id": "8d0a50656c9e4b6c8318e9282661824d"
      }
     },
     "metadata": {},
     "output_type": "display_data"
    },
    {
     "data": {
      "text/plain": [
       "Evaluating submissions:   0%|          | 0/250 [00:00<?, ?it/s]"
      ],
      "application/vnd.jupyter.widget-view+json": {
       "version_major": 2,
       "version_minor": 0,
       "model_id": "a4c60899da5f4d7aa30a6c63a31c16df"
      }
     },
     "metadata": {},
     "output_type": "display_data"
    },
    {
     "name": "stdout",
     "output_type": "stream",
     "text": [
      "Average Accuracy: 189.85%\n"
     ]
    }
   ],
   "execution_count": 215
  },
  {
   "metadata": {
    "ExecuteTime": {
     "end_time": "2024-12-13T07:31:33.146749Z",
     "start_time": "2024-12-13T07:31:33.142520Z"
    }
   },
   "cell_type": "code",
   "source": [
    "def get_average_accuracy(tracker):\n",
    "    cleaned_tracker = []\n",
    "    accuracy_sum = 0\n",
    "    for x in tracker:\n",
    "        # check nan \n",
    "        if x['accuracy'] == x['accuracy'] and x['accuracy'] >= 0:        \n",
    "            cleaned_tracker.append(x)\n",
    "            accuracy_sum += x['accuracy']\n",
    "        else:\n",
    "            # Add 0 for wrong data to still count it in the average\n",
    "            cleaned_tracker.append(0)\n",
    "    average = accuracy_sum / len(cleaned_tracker)\n",
    "    return average, cleaned_tracker"
   ],
   "id": "9415c368c7476ee6",
   "outputs": [],
   "execution_count": 216
  },
  {
   "metadata": {
    "ExecuteTime": {
     "end_time": "2024-12-13T07:31:33.703723Z",
     "start_time": "2024-12-13T07:31:33.700381Z"
    }
   },
   "cell_type": "code",
   "source": [
    "# Since something went wrong with one request during the evaluation, we need to clean the data\n",
    "average_stat_accuracy, _ = get_average_accuracy(stat_tracker)\n",
    "print(f\"Average Accuracy Statistics cleaned: {average_stat_accuracy:.2%}\")"
   ],
   "id": "9bc5ab2055381b0d",
   "outputs": [
    {
     "name": "stdout",
     "output_type": "stream",
     "text": [
      "Average Accuracy Statistics cleaned: 66.12%\n"
     ]
    }
   ],
   "execution_count": 217
  },
  {
   "metadata": {
    "ExecuteTime": {
     "end_time": "2024-12-13T07:31:34.291179Z",
     "start_time": "2024-12-13T07:31:34.287998Z"
    }
   },
   "cell_type": "code",
   "source": [
    "# Since something went wrong with one request during the evaluation, we need to clean the data\n",
    "average_mat_accuracy, _ = get_average_accuracy(mat_tracker)\n",
    "print(f\"Average Accuracy Statistics cleaned: {average_mat_accuracy:.2%}\")"
   ],
   "id": "98e2457c1dd2099e",
   "outputs": [
    {
     "name": "stdout",
     "output_type": "stream",
     "text": [
      "Average Accuracy Statistics cleaned: 66.90%\n"
     ]
    }
   ],
   "execution_count": 218
  },
  {
   "metadata": {
    "ExecuteTime": {
     "end_time": "2024-12-13T07:31:34.805490Z",
     "start_time": "2024-12-13T07:31:34.802317Z"
    }
   },
   "cell_type": "code",
   "source": [
    "# Since something went wrong with one request during the evaluation, we need to clean the data\n",
    "average_stat_no_solution_accuracy, _ = get_average_accuracy(stat_tracker_no_solutions)\n",
    "print(f\"Average Accuracy Statistics cleaned: {average_stat_no_solution_accuracy:.2%}\")"
   ],
   "id": "9ff74a6e5f645776",
   "outputs": [
    {
     "name": "stdout",
     "output_type": "stream",
     "text": [
      "Average Accuracy Statistics cleaned: 61.60%\n"
     ]
    }
   ],
   "execution_count": 219
  },
  {
   "metadata": {
    "ExecuteTime": {
     "end_time": "2024-12-13T07:31:36.288806Z",
     "start_time": "2024-12-13T07:31:36.284350Z"
    }
   },
   "cell_type": "code",
   "source": [
    "# Since something went wrong with one request during the evaluation, we need to clean the data\n",
    "average_mat_no_solution_accuracy, _ = get_average_accuracy(mat_tracker_no_solutions)\n",
    "print(f\"Average Accuracy Statistics cleaned: {average_mat_no_solution_accuracy:.2%}\")"
   ],
   "id": "96c5917e7bfb5b01",
   "outputs": [
    {
     "name": "stdout",
     "output_type": "stream",
     "text": [
      "Average Accuracy Statistics cleaned: 64.48%\n"
     ]
    }
   ],
   "execution_count": 220
  },
  {
   "metadata": {
    "ExecuteTime": {
     "end_time": "2024-12-13T07:31:59.624675Z",
     "start_time": "2024-12-13T07:31:59.620059Z"
    }
   },
   "cell_type": "code",
   "source": [
    "import pandas as pd\n",
    "\n",
    "def save_evaluation_result(tracker, filename):\n",
    "    \"\"\"\n",
    "    Save the evaluation results from a list of dictionaries to a CSV file.\n",
    "    \n",
    "    Args:\n",
    "        tracker (list): A list of dictionaries containing evaluation data.\n",
    "        filename (str): The name of the file to save the results to.\n",
    "    \"\"\"\n",
    "    # Convert the tracker list to a DataFrame\n",
    "    df = pd.DataFrame(tracker)\n",
    "\n",
    "    # Flatten 'evaluation_result'\n",
    "    eval_df = df['evaluation_result'].apply(pd.Series)\n",
    "\n",
    "    # Flatten 'submission' and drop the 'human_points' column from it\n",
    "    submission_df = df['submission'].apply(pd.Series)\n",
    "    submission_df = submission_df.drop(columns=['human_points', 'modelSolution', 'question', 'answer'], errors='ignore')  # Remove 'human_points'\n",
    "\n",
    "    # Concatenate the flattened DataFrames with the original, after dropping the nested columns\n",
    "    df = pd.concat([df.drop(columns=['evaluation_result', 'submission']), eval_df, submission_df], axis=1)\n",
    "\n",
    "    # Save the resulting DataFrame to a CSV file\n",
    "    df.to_csv(filename, index=False)\n",
    "\n",
    "    # Optional: Return the DataFrame for verification if needed\n",
    "    return df\n"
   ],
   "id": "23d85fcf07e600d7",
   "outputs": [],
   "execution_count": 221
  },
  {
   "metadata": {
    "ExecuteTime": {
     "end_time": "2024-12-13T07:32:36.547501Z",
     "start_time": "2024-12-13T07:32:36.144851Z"
    }
   },
   "cell_type": "code",
   "source": [
    "save_evaluation_result(stat_tracker, 'results/stat_evaluation_result.csv')\n",
    "save_evaluation_result(mat_tracker, 'results/mat_evaluation_result.csv')"
   ],
   "id": "35ddaa6597ecc667",
   "outputs": [
    {
     "data": {
      "text/plain": [
       "     human_points  gpt_points  accuracy      status  \\\n",
       "0             2.0         1.0       0.5  incomplete   \n",
       "1             0.0         0.0       1.0   incorrect   \n",
       "2             0.0         1.0       0.0     correct   \n",
       "3             0.0         0.5       0.5  incomplete   \n",
       "4             2.0         1.0       0.5  incomplete   \n",
       "..            ...         ...       ...         ...   \n",
       "995           1.0         1.0       1.0     correct   \n",
       "996           1.0         1.0       1.0     correct   \n",
       "997           0.0         0.0       1.0   incorrect   \n",
       "998           1.0         1.0       1.0     correct   \n",
       "999           1.0         1.0       1.0     correct   \n",
       "\n",
       "                                              feedback  \\\n",
       "0    Your answer includes the correct overall struc...   \n",
       "1    Your answer contains a few critical errors tha...   \n",
       "2    Your answer meets all the required criteria. Y...   \n",
       "3    Your answer covers the basic structure require...   \n",
       "4    Your answer correctly implements the generatio...   \n",
       "..                                                 ...   \n",
       "995  Your answer successfully implements the steps ...   \n",
       "996  Your answer aligns well with the requirements ...   \n",
       "997  The answer contains inaccuracies in the standa...   \n",
       "998  Your answer correctly implemented the requirem...   \n",
       "999  Your solution correctly assigns the value to v...   \n",
       "\n",
       "                                                  hint  points  \\\n",
       "0    Review how to assign colors based on factor le...     1.0   \n",
       "1    Focus on how to correctly compute the probabil...     0.0   \n",
       "2                                                          1.0   \n",
       "3    Review how the geometric distribution is imple...     0.5   \n",
       "4    Consider elaborating on the relationship betwe...     1.0   \n",
       "..                                                 ...     ...   \n",
       "995  Continue practicing with similar plotting task...     1.0   \n",
       "996  Continue practicing plotting and customizing g...     1.0   \n",
       "997  Review the concept of standard deviation and e...     0.0   \n",
       "998  Continue practicing how to manipulate vectors ...     1.0   \n",
       "999  Continue practicing creating vectors and manip...     1.0   \n",
       "\n",
       "    passedRubricsIds                failedRubricsIds  maxPoints  minPoints  \\\n",
       "0                 []  [color_assignment, commentary]        2.0          0   \n",
       "1                 []                       [1, 2, 3]        1.0          0   \n",
       "2                 []                              []        1.0          0   \n",
       "3                 []   [parameters, expected output]        1.0          0   \n",
       "4                 []                           [N/A]        2.0          0   \n",
       "..               ...                             ...        ...        ...   \n",
       "995               []                              []        1.0          0   \n",
       "996               []                              []        1.0          0   \n",
       "997               []                          [1, 2]        1.0          0   \n",
       "998               []                              []        1.0          0   \n",
       "999               []                              []        1.0          0   \n",
       "\n",
       "     pointStep  \n",
       "0          0.5  \n",
       "1          0.5  \n",
       "2          0.5  \n",
       "3          0.5  \n",
       "4          0.5  \n",
       "..         ...  \n",
       "995        0.5  \n",
       "996        0.5  \n",
       "997        0.5  \n",
       "998        0.5  \n",
       "999        0.5  \n",
       "\n",
       "[1000 rows x 12 columns]"
      ],
      "text/html": [
       "<div>\n",
       "<style scoped>\n",
       "    .dataframe tbody tr th:only-of-type {\n",
       "        vertical-align: middle;\n",
       "    }\n",
       "\n",
       "    .dataframe tbody tr th {\n",
       "        vertical-align: top;\n",
       "    }\n",
       "\n",
       "    .dataframe thead th {\n",
       "        text-align: right;\n",
       "    }\n",
       "</style>\n",
       "<table border=\"1\" class=\"dataframe\">\n",
       "  <thead>\n",
       "    <tr style=\"text-align: right;\">\n",
       "      <th></th>\n",
       "      <th>human_points</th>\n",
       "      <th>gpt_points</th>\n",
       "      <th>accuracy</th>\n",
       "      <th>status</th>\n",
       "      <th>feedback</th>\n",
       "      <th>hint</th>\n",
       "      <th>points</th>\n",
       "      <th>passedRubricsIds</th>\n",
       "      <th>failedRubricsIds</th>\n",
       "      <th>maxPoints</th>\n",
       "      <th>minPoints</th>\n",
       "      <th>pointStep</th>\n",
       "    </tr>\n",
       "  </thead>\n",
       "  <tbody>\n",
       "    <tr>\n",
       "      <th>0</th>\n",
       "      <td>2.0</td>\n",
       "      <td>1.0</td>\n",
       "      <td>0.5</td>\n",
       "      <td>incomplete</td>\n",
       "      <td>Your answer includes the correct overall struc...</td>\n",
       "      <td>Review how to assign colors based on factor le...</td>\n",
       "      <td>1.0</td>\n",
       "      <td>[]</td>\n",
       "      <td>[color_assignment, commentary]</td>\n",
       "      <td>2.0</td>\n",
       "      <td>0</td>\n",
       "      <td>0.5</td>\n",
       "    </tr>\n",
       "    <tr>\n",
       "      <th>1</th>\n",
       "      <td>0.0</td>\n",
       "      <td>0.0</td>\n",
       "      <td>1.0</td>\n",
       "      <td>incorrect</td>\n",
       "      <td>Your answer contains a few critical errors tha...</td>\n",
       "      <td>Focus on how to correctly compute the probabil...</td>\n",
       "      <td>0.0</td>\n",
       "      <td>[]</td>\n",
       "      <td>[1, 2, 3]</td>\n",
       "      <td>1.0</td>\n",
       "      <td>0</td>\n",
       "      <td>0.5</td>\n",
       "    </tr>\n",
       "    <tr>\n",
       "      <th>2</th>\n",
       "      <td>0.0</td>\n",
       "      <td>1.0</td>\n",
       "      <td>0.0</td>\n",
       "      <td>correct</td>\n",
       "      <td>Your answer meets all the required criteria. Y...</td>\n",
       "      <td></td>\n",
       "      <td>1.0</td>\n",
       "      <td>[]</td>\n",
       "      <td>[]</td>\n",
       "      <td>1.0</td>\n",
       "      <td>0</td>\n",
       "      <td>0.5</td>\n",
       "    </tr>\n",
       "    <tr>\n",
       "      <th>3</th>\n",
       "      <td>0.0</td>\n",
       "      <td>0.5</td>\n",
       "      <td>0.5</td>\n",
       "      <td>incomplete</td>\n",
       "      <td>Your answer covers the basic structure require...</td>\n",
       "      <td>Review how the geometric distribution is imple...</td>\n",
       "      <td>0.5</td>\n",
       "      <td>[]</td>\n",
       "      <td>[parameters, expected output]</td>\n",
       "      <td>1.0</td>\n",
       "      <td>0</td>\n",
       "      <td>0.5</td>\n",
       "    </tr>\n",
       "    <tr>\n",
       "      <th>4</th>\n",
       "      <td>2.0</td>\n",
       "      <td>1.0</td>\n",
       "      <td>0.5</td>\n",
       "      <td>incomplete</td>\n",
       "      <td>Your answer correctly implements the generatio...</td>\n",
       "      <td>Consider elaborating on the relationship betwe...</td>\n",
       "      <td>1.0</td>\n",
       "      <td>[]</td>\n",
       "      <td>[N/A]</td>\n",
       "      <td>2.0</td>\n",
       "      <td>0</td>\n",
       "      <td>0.5</td>\n",
       "    </tr>\n",
       "    <tr>\n",
       "      <th>...</th>\n",
       "      <td>...</td>\n",
       "      <td>...</td>\n",
       "      <td>...</td>\n",
       "      <td>...</td>\n",
       "      <td>...</td>\n",
       "      <td>...</td>\n",
       "      <td>...</td>\n",
       "      <td>...</td>\n",
       "      <td>...</td>\n",
       "      <td>...</td>\n",
       "      <td>...</td>\n",
       "      <td>...</td>\n",
       "    </tr>\n",
       "    <tr>\n",
       "      <th>995</th>\n",
       "      <td>1.0</td>\n",
       "      <td>1.0</td>\n",
       "      <td>1.0</td>\n",
       "      <td>correct</td>\n",
       "      <td>Your answer successfully implements the steps ...</td>\n",
       "      <td>Continue practicing with similar plotting task...</td>\n",
       "      <td>1.0</td>\n",
       "      <td>[]</td>\n",
       "      <td>[]</td>\n",
       "      <td>1.0</td>\n",
       "      <td>0</td>\n",
       "      <td>0.5</td>\n",
       "    </tr>\n",
       "    <tr>\n",
       "      <th>996</th>\n",
       "      <td>1.0</td>\n",
       "      <td>1.0</td>\n",
       "      <td>1.0</td>\n",
       "      <td>correct</td>\n",
       "      <td>Your answer aligns well with the requirements ...</td>\n",
       "      <td>Continue practicing plotting and customizing g...</td>\n",
       "      <td>1.0</td>\n",
       "      <td>[]</td>\n",
       "      <td>[]</td>\n",
       "      <td>1.0</td>\n",
       "      <td>0</td>\n",
       "      <td>0.5</td>\n",
       "    </tr>\n",
       "    <tr>\n",
       "      <th>997</th>\n",
       "      <td>0.0</td>\n",
       "      <td>0.0</td>\n",
       "      <td>1.0</td>\n",
       "      <td>incorrect</td>\n",
       "      <td>The answer contains inaccuracies in the standa...</td>\n",
       "      <td>Review the concept of standard deviation and e...</td>\n",
       "      <td>0.0</td>\n",
       "      <td>[]</td>\n",
       "      <td>[1, 2]</td>\n",
       "      <td>1.0</td>\n",
       "      <td>0</td>\n",
       "      <td>0.5</td>\n",
       "    </tr>\n",
       "    <tr>\n",
       "      <th>998</th>\n",
       "      <td>1.0</td>\n",
       "      <td>1.0</td>\n",
       "      <td>1.0</td>\n",
       "      <td>correct</td>\n",
       "      <td>Your answer correctly implemented the requirem...</td>\n",
       "      <td>Continue practicing how to manipulate vectors ...</td>\n",
       "      <td>1.0</td>\n",
       "      <td>[]</td>\n",
       "      <td>[]</td>\n",
       "      <td>1.0</td>\n",
       "      <td>0</td>\n",
       "      <td>0.5</td>\n",
       "    </tr>\n",
       "    <tr>\n",
       "      <th>999</th>\n",
       "      <td>1.0</td>\n",
       "      <td>1.0</td>\n",
       "      <td>1.0</td>\n",
       "      <td>correct</td>\n",
       "      <td>Your solution correctly assigns the value to v...</td>\n",
       "      <td>Continue practicing creating vectors and manip...</td>\n",
       "      <td>1.0</td>\n",
       "      <td>[]</td>\n",
       "      <td>[]</td>\n",
       "      <td>1.0</td>\n",
       "      <td>0</td>\n",
       "      <td>0.5</td>\n",
       "    </tr>\n",
       "  </tbody>\n",
       "</table>\n",
       "<p>1000 rows × 12 columns</p>\n",
       "</div>"
      ]
     },
     "execution_count": 224,
     "metadata": {},
     "output_type": "execute_result"
    }
   ],
   "execution_count": 224
  },
  {
   "metadata": {
    "ExecuteTime": {
     "end_time": "2024-12-13T07:32:37.030553Z",
     "start_time": "2024-12-13T07:32:36.767693Z"
    }
   },
   "cell_type": "code",
   "source": [
    "save_evaluation_result(stat_tracker_no_solutions, 'results/stat_evaluation_no_solutions_result.csv')\n",
    "save_evaluation_result(mat_tracker_no_solutions, 'results/mat_evaluation_no_solutions_result.csv')"
   ],
   "id": "475e4e381fb2fdfa",
   "outputs": [
    {
     "data": {
      "text/plain": [
       "     human_points  gpt_points  accuracy      status  \\\n",
       "0             1.0         1.0       1.0     correct   \n",
       "1             0.5         0.0       0.5   incorrect   \n",
       "2             1.0         1.0       1.0     correct   \n",
       "3             1.0         0.5       0.5  incomplete   \n",
       "4             0.5         0.0       0.5   incorrect   \n",
       "..            ...         ...       ...         ...   \n",
       "995           2.0         1.0       0.5  incomplete   \n",
       "996           0.5         0.0       0.5   incorrect   \n",
       "997           2.0         1.0       0.5  incomplete   \n",
       "998           0.5         0.0       0.5   incorrect   \n",
       "999           1.0         1.0       1.0     correct   \n",
       "\n",
       "                                              feedback  \\\n",
       "0    Your answer correctly provides the name of the...   \n",
       "1    Your answer contains several logical issues th...   \n",
       "2    Your answer successfully meets the requirement...   \n",
       "3    Your answer shows some understanding of the pr...   \n",
       "4    Your approach to calculating the confidence le...   \n",
       "..                                                 ...   \n",
       "995  The answer correctly generates the three trans...   \n",
       "996  The calculation for P[A] and P[B] is performed...   \n",
       "997  Your answer correctly calculates the trimmed m...   \n",
       "998  Your answer contains a critical typo in the fu...   \n",
       "999  Your answer successfully creates the three his...   \n",
       "\n",
       "                                                  hint  points  \\\n",
       "0                                                          1.0   \n",
       "1    Review the concept of conditional probability ...     0.0   \n",
       "2                                                          1.0   \n",
       "3    Ensure that you elaborate on how your calculat...     0.5   \n",
       "4    Review the concepts of confidence intervals, s...     0.0   \n",
       "..                                                 ...     ...   \n",
       "995  Consider providing a more detailed analysis of...     1.0   \n",
       "996  Review how to calculate the joint probability ...     0.0   \n",
       "997  Focus on the implications of the difference be...     1.0   \n",
       "998  Carefully check your variable names in the `ir...     0.0   \n",
       "999  Continue to focus on the details of your code,...     1.0   \n",
       "\n",
       "    passedRubricsIds                  failedRubricsIds  maxPoints  minPoints  \\\n",
       "0                 []                                []        1.0        0.0   \n",
       "1                 []       [rubric1, rubric2, rubric3]        1.0        0.0   \n",
       "2                 []                                []        1.0        0.0   \n",
       "3                 []                [rubric1, rubric2]        1.0        0.0   \n",
       "4                 []  [conf_interval, calc_conf_level]        1.0        0.0   \n",
       "..               ...                               ...        ...        ...   \n",
       "995               []                             [N/A]        2.0        0.0   \n",
       "996               []         [probA, probB, probAandB]        1.0        0.0   \n",
       "997               []        [rubric_id_1, rubric_id_2]        2.0        0.0   \n",
       "998               []                         [1, 2, 3]        1.0        0.0   \n",
       "999               []                                []        1.0        0.0   \n",
       "\n",
       "     pointStep  \n",
       "0          0.5  \n",
       "1          0.5  \n",
       "2          0.5  \n",
       "3          0.5  \n",
       "4          0.5  \n",
       "..         ...  \n",
       "995        0.5  \n",
       "996        0.5  \n",
       "997        0.5  \n",
       "998        0.5  \n",
       "999        0.5  \n",
       "\n",
       "[1000 rows x 12 columns]"
      ],
      "text/html": [
       "<div>\n",
       "<style scoped>\n",
       "    .dataframe tbody tr th:only-of-type {\n",
       "        vertical-align: middle;\n",
       "    }\n",
       "\n",
       "    .dataframe tbody tr th {\n",
       "        vertical-align: top;\n",
       "    }\n",
       "\n",
       "    .dataframe thead th {\n",
       "        text-align: right;\n",
       "    }\n",
       "</style>\n",
       "<table border=\"1\" class=\"dataframe\">\n",
       "  <thead>\n",
       "    <tr style=\"text-align: right;\">\n",
       "      <th></th>\n",
       "      <th>human_points</th>\n",
       "      <th>gpt_points</th>\n",
       "      <th>accuracy</th>\n",
       "      <th>status</th>\n",
       "      <th>feedback</th>\n",
       "      <th>hint</th>\n",
       "      <th>points</th>\n",
       "      <th>passedRubricsIds</th>\n",
       "      <th>failedRubricsIds</th>\n",
       "      <th>maxPoints</th>\n",
       "      <th>minPoints</th>\n",
       "      <th>pointStep</th>\n",
       "    </tr>\n",
       "  </thead>\n",
       "  <tbody>\n",
       "    <tr>\n",
       "      <th>0</th>\n",
       "      <td>1.0</td>\n",
       "      <td>1.0</td>\n",
       "      <td>1.0</td>\n",
       "      <td>correct</td>\n",
       "      <td>Your answer correctly provides the name of the...</td>\n",
       "      <td></td>\n",
       "      <td>1.0</td>\n",
       "      <td>[]</td>\n",
       "      <td>[]</td>\n",
       "      <td>1.0</td>\n",
       "      <td>0.0</td>\n",
       "      <td>0.5</td>\n",
       "    </tr>\n",
       "    <tr>\n",
       "      <th>1</th>\n",
       "      <td>0.5</td>\n",
       "      <td>0.0</td>\n",
       "      <td>0.5</td>\n",
       "      <td>incorrect</td>\n",
       "      <td>Your answer contains several logical issues th...</td>\n",
       "      <td>Review the concept of conditional probability ...</td>\n",
       "      <td>0.0</td>\n",
       "      <td>[]</td>\n",
       "      <td>[rubric1, rubric2, rubric3]</td>\n",
       "      <td>1.0</td>\n",
       "      <td>0.0</td>\n",
       "      <td>0.5</td>\n",
       "    </tr>\n",
       "    <tr>\n",
       "      <th>2</th>\n",
       "      <td>1.0</td>\n",
       "      <td>1.0</td>\n",
       "      <td>1.0</td>\n",
       "      <td>correct</td>\n",
       "      <td>Your answer successfully meets the requirement...</td>\n",
       "      <td></td>\n",
       "      <td>1.0</td>\n",
       "      <td>[]</td>\n",
       "      <td>[]</td>\n",
       "      <td>1.0</td>\n",
       "      <td>0.0</td>\n",
       "      <td>0.5</td>\n",
       "    </tr>\n",
       "    <tr>\n",
       "      <th>3</th>\n",
       "      <td>1.0</td>\n",
       "      <td>0.5</td>\n",
       "      <td>0.5</td>\n",
       "      <td>incomplete</td>\n",
       "      <td>Your answer shows some understanding of the pr...</td>\n",
       "      <td>Ensure that you elaborate on how your calculat...</td>\n",
       "      <td>0.5</td>\n",
       "      <td>[]</td>\n",
       "      <td>[rubric1, rubric2]</td>\n",
       "      <td>1.0</td>\n",
       "      <td>0.0</td>\n",
       "      <td>0.5</td>\n",
       "    </tr>\n",
       "    <tr>\n",
       "      <th>4</th>\n",
       "      <td>0.5</td>\n",
       "      <td>0.0</td>\n",
       "      <td>0.5</td>\n",
       "      <td>incorrect</td>\n",
       "      <td>Your approach to calculating the confidence le...</td>\n",
       "      <td>Review the concepts of confidence intervals, s...</td>\n",
       "      <td>0.0</td>\n",
       "      <td>[]</td>\n",
       "      <td>[conf_interval, calc_conf_level]</td>\n",
       "      <td>1.0</td>\n",
       "      <td>0.0</td>\n",
       "      <td>0.5</td>\n",
       "    </tr>\n",
       "    <tr>\n",
       "      <th>...</th>\n",
       "      <td>...</td>\n",
       "      <td>...</td>\n",
       "      <td>...</td>\n",
       "      <td>...</td>\n",
       "      <td>...</td>\n",
       "      <td>...</td>\n",
       "      <td>...</td>\n",
       "      <td>...</td>\n",
       "      <td>...</td>\n",
       "      <td>...</td>\n",
       "      <td>...</td>\n",
       "      <td>...</td>\n",
       "    </tr>\n",
       "    <tr>\n",
       "      <th>995</th>\n",
       "      <td>2.0</td>\n",
       "      <td>1.0</td>\n",
       "      <td>0.5</td>\n",
       "      <td>incomplete</td>\n",
       "      <td>The answer correctly generates the three trans...</td>\n",
       "      <td>Consider providing a more detailed analysis of...</td>\n",
       "      <td>1.0</td>\n",
       "      <td>[]</td>\n",
       "      <td>[N/A]</td>\n",
       "      <td>2.0</td>\n",
       "      <td>0.0</td>\n",
       "      <td>0.5</td>\n",
       "    </tr>\n",
       "    <tr>\n",
       "      <th>996</th>\n",
       "      <td>0.5</td>\n",
       "      <td>0.0</td>\n",
       "      <td>0.5</td>\n",
       "      <td>incorrect</td>\n",
       "      <td>The calculation for P[A] and P[B] is performed...</td>\n",
       "      <td>Review how to calculate the joint probability ...</td>\n",
       "      <td>0.0</td>\n",
       "      <td>[]</td>\n",
       "      <td>[probA, probB, probAandB]</td>\n",
       "      <td>1.0</td>\n",
       "      <td>0.0</td>\n",
       "      <td>0.5</td>\n",
       "    </tr>\n",
       "    <tr>\n",
       "      <th>997</th>\n",
       "      <td>2.0</td>\n",
       "      <td>1.0</td>\n",
       "      <td>0.5</td>\n",
       "      <td>incomplete</td>\n",
       "      <td>Your answer correctly calculates the trimmed m...</td>\n",
       "      <td>Focus on the implications of the difference be...</td>\n",
       "      <td>1.0</td>\n",
       "      <td>[]</td>\n",
       "      <td>[rubric_id_1, rubric_id_2]</td>\n",
       "      <td>2.0</td>\n",
       "      <td>0.0</td>\n",
       "      <td>0.5</td>\n",
       "    </tr>\n",
       "    <tr>\n",
       "      <th>998</th>\n",
       "      <td>0.5</td>\n",
       "      <td>0.0</td>\n",
       "      <td>0.5</td>\n",
       "      <td>incorrect</td>\n",
       "      <td>Your answer contains a critical typo in the fu...</td>\n",
       "      <td>Carefully check your variable names in the `ir...</td>\n",
       "      <td>0.0</td>\n",
       "      <td>[]</td>\n",
       "      <td>[1, 2, 3]</td>\n",
       "      <td>1.0</td>\n",
       "      <td>0.0</td>\n",
       "      <td>0.5</td>\n",
       "    </tr>\n",
       "    <tr>\n",
       "      <th>999</th>\n",
       "      <td>1.0</td>\n",
       "      <td>1.0</td>\n",
       "      <td>1.0</td>\n",
       "      <td>correct</td>\n",
       "      <td>Your answer successfully creates the three his...</td>\n",
       "      <td>Continue to focus on the details of your code,...</td>\n",
       "      <td>1.0</td>\n",
       "      <td>[]</td>\n",
       "      <td>[]</td>\n",
       "      <td>1.0</td>\n",
       "      <td>0.0</td>\n",
       "      <td>0.5</td>\n",
       "    </tr>\n",
       "  </tbody>\n",
       "</table>\n",
       "<p>1000 rows × 12 columns</p>\n",
       "</div>"
      ]
     },
     "execution_count": 225,
     "metadata": {},
     "output_type": "execute_result"
    }
   ],
   "execution_count": 225
  },
  {
   "metadata": {},
   "cell_type": "code",
   "source": "",
   "id": "6a797810fda68376",
   "outputs": [],
   "execution_count": null
  }
 ],
 "metadata": {
  "kernelspec": {
   "display_name": "Python 3",
   "language": "python",
   "name": "python3"
  },
  "language_info": {
   "codemirror_mode": {
    "name": "ipython",
    "version": 2
   },
   "file_extension": ".py",
   "mimetype": "text/x-python",
   "name": "python",
   "nbconvert_exporter": "python",
   "pygments_lexer": "ipython2",
   "version": "2.7.6"
  }
 },
 "nbformat": 4,
 "nbformat_minor": 5
}
