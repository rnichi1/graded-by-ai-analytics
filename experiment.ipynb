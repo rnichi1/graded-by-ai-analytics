{
 "cells": [
  {
   "metadata": {},
   "cell_type": "markdown",
   "source": [
    "# Evaluate the data with the backend\n",
    "We are evaluating the gpt integration by simulating student responses from previous real data and comparing the feedback and results with real human grading."
   ],
   "id": "cceee7792bad98c9"
  },
  {
   "metadata": {},
   "cell_type": "markdown",
   "source": "## Load and Prepare Mat/Stat Data",
   "id": "9954a037639ed9b"
  },
  {
   "cell_type": "code",
   "id": "initial_id",
   "metadata": {
    "collapsed": true,
    "ExecuteTime": {
     "end_time": "2025-01-06T14:57:56.136436Z",
     "start_time": "2025-01-06T14:57:55.838754Z"
    }
   },
   "source": "import pandas as pd",
   "outputs": [],
   "execution_count": 1
  },
  {
   "metadata": {
    "ExecuteTime": {
     "end_time": "2025-01-06T14:57:56.433472Z",
     "start_time": "2025-01-06T14:57:56.137737Z"
    }
   },
   "cell_type": "code",
   "source": [
    "# Load and clean tasks_df\n",
    "tasks_df = pd.read_csv('data/tasks_df.csv')\n",
    "\n",
    "# Remove rows with `_de` in the `instruction_file_name` to avoid duplicates\n",
    "tasks_df = tasks_df[~tasks_df['instruction_file_name'].str.contains('_de', na=False)]\n",
    "\n",
    "# Load other datasets\n",
    "submissions_df = pd.read_csv('data/submissions_df.csv')\n",
    "users_df = pd.read_csv('data/users_df.csv')\n",
    "\n",
    "# Print summaries\n",
    "print(\"---Cleaned Tasks---\")\n",
    "print(tasks_df.head())\n",
    "print(f\"Total tasks after removing _de: {len(tasks_df)}\")\n",
    "\n",
    "print(\"---Submissions---\")\n",
    "print(submissions_df.head())\n",
    "\n",
    "print(\"---Users---\")\n",
    "print(users_df.head())\n"
   ],
   "id": "3a521bf7aaa78864",
   "outputs": [
    {
     "name": "stdout",
     "output_type": "stream",
     "text": [
      "---Cleaned Tasks---\n",
      "    id            slug  assignment_id  max_points  solution_file_id  \\\n",
      "0  402  1_week1_sta120            302         1.0               606   \n",
      "1  403  2_week1_sta120            302         1.0               611   \n",
      "2  753  2_week8_sta120            652         1.0              1261   \n",
      "3  709  3_week6_sta120            603         1.0              1146   \n",
      "4  404  3_week1_sta120            302         1.0               617   \n",
      "\n",
      "  solution_file_name solution_file_mime_type  \\\n",
      "0           script.R              text/plain   \n",
      "1           script.R              text/plain   \n",
      "2           script.R              text/plain   \n",
      "3           script.R              text/plain   \n",
      "4           script.R              text/plain   \n",
      "\n",
      "                                            solution  instruction_file_id  \\\n",
      "0  png(file = \"solution.png\")\\nrequire(fields) # ...                  602   \n",
      "1                                 demo(persp) \\n\\n\\n                  607   \n",
      "2   png(file=\"solution.png\")\\nmu <- c(1, 2)\\n sig...                 1257   \n",
      "3  n <- 95\\nx <- 8\\nex_CI <- binom.test(x, n)$con...                 1142   \n",
      "4  png(file=\"solution.png\")\\ndat <- read.csv(\"res...                  612   \n",
      "\n",
      "  instruction_file_name instruction_file_mime_type  \\\n",
      "0       instructions.md                 text/plain   \n",
      "1       instructions.md                 text/plain   \n",
      "2       instructions.md                 text/plain   \n",
      "3       instructions.md                 text/plain   \n",
      "4       instructions.md                 text/plain   \n",
      "\n",
      "                                         instruction  course_slug  \n",
      "0  Require the package fields. Display the volcan...  fs24-sta120  \n",
      "1  Use the the R help function to find out the pu...  fs24-sta120  \n",
      "2  Plot the density of $X$ (as defined in the pre...  fs24-sta120  \n",
      "3  Suppose that among $n=95$ Swiss males, eight a...  fs24-sta120  \n",
      "4  On www.isleroyalewolf.org/data/data/home.html ...  fs24-sta120  \n",
      "Total tasks after removing _de: 116\n",
      "---Submissions---\n",
      "       id  points  valid  evaluation_id                      user_id  \\\n",
      "0  357735     1.0   True          49202  julianpatrick.stoerr@uzh.ch   \n",
      "1  357739     0.0   True          49204            floxmas@gmail.com   \n",
      "2  357741     1.0   True          49203  julianpatrick.stoerr@uzh.ch   \n",
      "3  350328     0.0   True          47315  anjana.thatheeskumar@uzh.ch   \n",
      "4  350330     1.0   True          47315  anjana.thatheeskumar@uzh.ch   \n",
      "\n",
      "   best_score                                            content  task_id  \n",
      "0         1.0  png(file = \"solution.png\")\\n\\n## Uniforme Vert...      761  \n",
      "1         1.0  png(file = \"solution.png\")\\n\\n## Normalverteil...      762  \n",
      "2         1.0  png(file = \"solution.png\")\\n\\n## Normalverteil...      762  \n",
      "3         1.0  png(file = \"solution.png\")\\n\\n## Normalverteil...      762  \n",
      "4         1.0  png(file = \"solution.png\")\\n\\n## Normalverteil...      762  \n",
      "---Users---\n",
      "                                user_id                 email  \\\n",
      "0  d95603c0-5a0f-4c9a-85f2-f2036892966d        student@uzh.ch   \n",
      "1  a08fc0d2-854a-4860-9f12-6c06b17df93e     supervisor@uzh.ch   \n",
      "2  c3b197c2-6295-4b30-a764-d06d6935f9d5  shubhi.pareek@uzh.ch   \n",
      "3  b2e59824-54a6-4dd2-aff5-b1c87c04b2f9                   NaN   \n",
      "4  7a5d43de-f501-4a44-9edb-6fa564804984                   NaN   \n",
      "\n",
      "                           username  \n",
      "0                    student@uzh.ch  \n",
      "1                 supervisor@uzh.ch  \n",
      "2              shubhi.pareek@uzh.ch  \n",
      "3  service-account-realm-management  \n",
      "4                             admin  \n"
     ]
    }
   ],
   "execution_count": 2
  },
  {
   "metadata": {
    "ExecuteTime": {
     "end_time": "2025-01-06T20:03:38.443612Z",
     "start_time": "2025-01-06T20:03:38.432757Z"
    }
   },
   "cell_type": "code",
   "source": "print(tasks_df)",
   "id": "91205e2a7a9cd9a",
   "outputs": [
    {
     "name": "stdout",
     "output_type": "stream",
     "text": [
      "      id             slug  assignment_id  max_points  solution_file_id  \\\n",
      "0    402   1_week1_sta120            302         1.0               606   \n",
      "1    403   2_week1_sta120            302         1.0               611   \n",
      "2    753   2_week8_sta120            652         1.0              1261   \n",
      "3    709   3_week6_sta120            603         1.0              1146   \n",
      "4    404   3_week1_sta120            302         1.0               617   \n",
      "..   ...              ...            ...         ...               ...   \n",
      "157  860  3_week10_mat183            754         1.0              1553   \n",
      "159  861  4_week10_mat183            754         2.0              1559   \n",
      "161  862  1_week11_mat183            755         1.0              1565   \n",
      "164  864  3_week11_mat183            755         1.0              1577   \n",
      "166  865  4_week11_mat183            755         2.0              1583   \n",
      "\n",
      "    solution_file_name solution_file_mime_type  \\\n",
      "0             script.R              text/plain   \n",
      "1             script.R              text/plain   \n",
      "2             script.R              text/plain   \n",
      "3             script.R              text/plain   \n",
      "4             script.R              text/plain   \n",
      "..                 ...                     ...   \n",
      "157           script.R              text/plain   \n",
      "159           script.R              text/plain   \n",
      "161           script.R              text/plain   \n",
      "164           script.R              text/plain   \n",
      "166           script.R              text/plain   \n",
      "\n",
      "                                              solution  instruction_file_id  \\\n",
      "0    png(file = \"solution.png\")\\nrequire(fields) # ...                  602   \n",
      "1                                   demo(persp) \\n\\n\\n                  607   \n",
      "2     png(file=\"solution.png\")\\nmu <- c(1, 2)\\n sig...                 1257   \n",
      "3    n <- 95\\nx <- 8\\nex_CI <- binom.test(x, n)$con...                 1142   \n",
      "4    png(file=\"solution.png\")\\ndat <- read.csv(\"res...                  612   \n",
      "..                                                 ...                  ...   \n",
      "157  counts <- c(580, 331, 493, 525, 420, 522, 468,...                 1548   \n",
      "159  png(file = \"solution.png\")\\nset.seed(10) #dami...                 1554   \n",
      "161  # Let's take some observations from the 'iris'...                 1560   \n",
      "164  png(file = \"solution.png\")\\nbanknote <- read.t...                 1572   \n",
      "166  banknote <- read.table(\"http://stat.ethz.ch/Te...                 1578   \n",
      "\n",
      "    instruction_file_name instruction_file_mime_type  \\\n",
      "0         instructions.md                 text/plain   \n",
      "1         instructions.md                 text/plain   \n",
      "2         instructions.md                 text/plain   \n",
      "3         instructions.md                 text/plain   \n",
      "4         instructions.md                 text/plain   \n",
      "..                    ...                        ...   \n",
      "157       instructions.md                 text/plain   \n",
      "159       instructions.md                 text/plain   \n",
      "161       instructions.md                 text/plain   \n",
      "164       instructions.md                 text/plain   \n",
      "166       instructions.md                 text/plain   \n",
      "\n",
      "                                           instruction  course_slug  \n",
      "0    Require the package fields. Display the volcan...  fs24-sta120  \n",
      "1    Use the the R help function to find out the pu...  fs24-sta120  \n",
      "2    Plot the density of $X$ (as defined in the pre...  fs24-sta120  \n",
      "3    Suppose that among $n=95$ Swiss males, eight a...  fs24-sta120  \n",
      "4    On www.isleroyalewolf.org/data/data/home.html ...  fs24-sta120  \n",
      "..                                                 ...          ...  \n",
      "157  Peter is not happy with this interval from par...  fs24-mat183  \n",
      "159  Heidi eyes another patch of land and ventures ...  fs24-mat183  \n",
      "161  The most important hypothesis tests are alread...  fs24-mat183  \n",
      "164  Plot the density functions ($density()$) of th...  fs24-mat183  \n",
      "166  Compare the two groups of banknotes directly w...  fs24-mat183  \n",
      "\n",
      "[116 rows x 13 columns]\n"
     ]
    }
   ],
   "execution_count": 65
  },
  {
   "metadata": {},
   "cell_type": "markdown",
   "source": "### Integrity Checks\n",
   "id": "3a61c1056c2f200b"
  },
  {
   "metadata": {
    "ExecuteTime": {
     "end_time": "2025-01-06T14:57:56.979074Z",
     "start_time": "2025-01-06T14:57:56.973967Z"
    }
   },
   "cell_type": "code",
   "source": [
    "# Check for mismatches in slugs and course_slug\n",
    "tasks_with_mismatch = tasks_df[\n",
    "    ((tasks_df['slug'].str.contains('sta')) & (tasks_df['course_slug'] == 'fs24-mat183')) |\n",
    "    ((tasks_df['slug'].str.contains('mat')) & (tasks_df['course_slug'] == 'fs24-sta120'))\n",
    "]\n",
    "\n",
    "# Print mismatches, if any\n",
    "if not tasks_with_mismatch.empty:\n",
    "    print(\"Mismatches found between slug and course_slug:\")\n",
    "    print(tasks_with_mismatch)\n",
    "else:\n",
    "    print(\"No mismatches found between slug and course_slug.\")\n"
   ],
   "id": "9701eb31476099c8",
   "outputs": [
    {
     "name": "stdout",
     "output_type": "stream",
     "text": [
      "No mismatches found between slug and course_slug.\n"
     ]
    }
   ],
   "execution_count": 3
  },
  {
   "metadata": {
    "ExecuteTime": {
     "end_time": "2025-01-06T14:57:57.334439Z",
     "start_time": "2025-01-06T14:57:57.293154Z"
    }
   },
   "cell_type": "code",
   "source": [
    "# Merge submissions and tasks\n",
    "combined_data = submissions_df.merge(tasks_df, left_on=\"task_id\", right_on=\"id\")\n",
    "\n",
    "# Check for mismatches in slug and course_slug\n",
    "merged_mismatches = combined_data[\n",
    "    ((combined_data['slug'].str.contains('sta')) & (combined_data['course_slug'] == 'fs24-mat183')) |\n",
    "    ((combined_data['slug'].str.contains('mat')) & (combined_data['course_slug'] == 'fs24-sta120'))\n",
    "]\n",
    "\n",
    "# Print mismatches after the merge\n",
    "if not merged_mismatches.empty:\n",
    "    print(\"Mismatches found in combined_data after the merge:\")\n",
    "    print(merged_mismatches[['task_id', 'slug', 'course_slug']])\n",
    "else:\n",
    "    print(\"No mismatches found in combined_data after the merge.\")\n",
    "    \n",
    "\n"
   ],
   "id": "83b90bf09bab1eff",
   "outputs": [
    {
     "name": "stdout",
     "output_type": "stream",
     "text": [
      "No mismatches found in combined_data after the merge.\n"
     ]
    }
   ],
   "execution_count": 4
  },
  {
   "metadata": {
    "ExecuteTime": {
     "end_time": "2025-01-06T14:57:57.787550Z",
     "start_time": "2025-01-06T14:57:57.785602Z"
    }
   },
   "cell_type": "code",
   "source": [
    "print(len(combined_data))\n",
    "print(len(submissions_df))"
   ],
   "id": "99b6c00f826a05fe",
   "outputs": [
    {
     "name": "stdout",
     "output_type": "stream",
     "text": [
      "55289\n",
      "55289\n"
     ]
    }
   ],
   "execution_count": 5
  },
  {
   "metadata": {
    "ExecuteTime": {
     "end_time": "2025-01-06T14:57:58.100416Z",
     "start_time": "2025-01-06T14:57:58.097767Z"
    }
   },
   "cell_type": "code",
   "source": [
    "# Count duplicate task IDs in tasks_df\n",
    "duplicate_task_ids = tasks_df['id'].duplicated().sum()\n",
    "print(f\"Duplicate IDs in tasks_df: {duplicate_task_ids}\")"
   ],
   "id": "9393e03aee6c5253",
   "outputs": [
    {
     "name": "stdout",
     "output_type": "stream",
     "text": [
      "Duplicate IDs in tasks_df: 0\n"
     ]
    }
   ],
   "execution_count": 6
  },
  {
   "metadata": {},
   "cell_type": "markdown",
   "source": "## Load and Prepare Banking Data",
   "id": "8e74ffba3776590b"
  },
  {
   "metadata": {
    "ExecuteTime": {
     "end_time": "2025-01-06T14:57:58.774913Z",
     "start_time": "2025-01-06T14:57:58.771029Z"
    }
   },
   "cell_type": "code",
   "source": [
    "\n",
    "\n",
    "def filter_grading_data_by_points(grading_data: pd.DataFrame) -> pd.DataFrame:\n",
    "    \"\"\"\n",
    "    Filters the grading data to remove rows where points are not divisible by 0.5.\n",
    "    \n",
    "    Args:\n",
    "        grading_data (pd.DataFrame): The DataFrame containing grading data, including a 'points_assigned' column.\n",
    "    \n",
    "    Returns:\n",
    "        pd.DataFrame: The filtered DataFrame with only rows where points are divisible by 0.5.\n",
    "    \"\"\"\n",
    "    # Ensure the 'points_assigned' column exists\n",
    "    if 'points_assigned' not in grading_data.columns:\n",
    "        raise ValueError(\"The 'points_assigned' column is missing from the grading data.\")\n",
    "    \n",
    "    # Filter rows where 'points_assigned' is divisible by 0.5\n",
    "    filtered_data = grading_data[grading_data['points_assigned'] % 0.5 == 0]\n",
    "    \n",
    "    return filtered_data\n"
   ],
   "id": "c4b8496c22b33e0b",
   "outputs": [],
   "execution_count": 7
  },
  {
   "metadata": {
    "ExecuteTime": {
     "end_time": "2025-01-06T14:58:11.146495Z",
     "start_time": "2025-01-06T14:57:59.335507Z"
    }
   },
   "cell_type": "code",
   "source": [
    "# Load datasets\n",
    "exam_data = pd.read_csv(\"data_banking/exam_data.csv\")\n",
    "grading_data = pd.read_csv(\"data_banking/grading.csv\")\n",
    "responses_data = pd.read_csv(\"data_banking/responses.csv\")\n",
    "\n",
    "# Filter grading data to remove inconsistent points\n",
    "grading_data = filter_grading_data_by_points(grading_data)\n",
    "\n",
    "# Transform the banking data into the required format\n",
    "banking_data = []\n",
    "\n",
    "for _, response in responses_data.iterrows():\n",
    "    # Match exam data by exam_id, exercise_id, and exercise_index\n",
    "    matched_exam_data = exam_data[\n",
    "        (exam_data[\"exam_id\"] == response[\"exam_id\"]) &\n",
    "        (exam_data[\"exercise_id\"] == response[\"exercise_id\"]) &\n",
    "        (exam_data[\"exercise_index\"] == response[\"exercise_index\"])\n",
    "    ]\n",
    "\n",
    "    # Ensure there's a match\n",
    "    if matched_exam_data.empty:\n",
    "        print(f\"No match found in exam_data for response: {response['answer_identifier']}\")\n",
    "        continue\n",
    "        \n",
    "    rubrics_key = f\"{response['exercise_id']}_{response['exercise_index']}\"\n",
    "    rubrics = []\n",
    "    \n",
    "    for _, rubric in matched_exam_data.iterrows():\n",
    "        # Match grading data by answer_identifier and rubric_id\n",
    "        points_assigned = grading_data.loc[\n",
    "            (grading_data[\"answer_identifier\"] == response[\"answer_identifier\"]) &\n",
    "            (grading_data[\"rubric_id\"] == rubric[\"rubric_id\"]),\n",
    "            \"points_assigned\"\n",
    "        ].values\n",
    "        rubrics.append({\n",
    "            \"id\": str(rubric[\"rubric_id\"]),\n",
    "            \"title\": rubric[\"rubric_title\"],\n",
    "            \"points\": rubric[\"rubric_points\"],\n",
    "            \"points_assigned\": round(points_assigned[0] * 2) / 2 if len(points_assigned) > 0 else 0  # Round to nearest 0.5\n",
    "        })\n",
    "        \n",
    "    # Skip empty student answers as they are trivially 0 points\n",
    "    if not response[\"student_answer\"] or response[\"student_answer\"] is None or pd.isna(response[\"student_answer\"]) or response[\"student_answer\"] == \"\":\n",
    "        continue\n",
    "    \n",
    "    if len(rubrics) == 0:\n",
    "        print(f\"No rubrics found for response: {response['answer_identifier']}\")\n",
    "        \n",
    "    banking_data.append({\n",
    "        \"id\": response[\"answer_identifier\"],  # Unique identifier for submission\n",
    "        \"instruction\": matched_exam_data.iloc[0][\"exercise_questions\"],\n",
    "        \"points\": sum([r[\"points_assigned\"] for r in rubrics]),  # Total points assigned\n",
    "        \"valid\": True,\n",
    "        \"solution\": None, # No solution provided, Rubrics are used for evaluation\n",
    "        \"evaluation_id\": response[\"exam_id\"],  # Use exam_id as evaluation_id\n",
    "        \"content\": response[\"student_answer\"],  # Student's submission\n",
    "        \"task_id\": f\"banking_{response['exercise_id']}_{response['exercise_index']}\",  # Unique task ID\n",
    "        \"maxPoints\": matched_exam_data.iloc[0][\"exercise_points\"],  # Max points for the exercise\n",
    "        \"minPoints\": 0,  # Default minPoints\n",
    "        \"pointStep\": 0.5,  # Default pointStep\n",
    "        \"course_slug\": \"fs24-banking\",  # Course slug for banking dataset\n",
    "        \"rubrics\": rubrics,  # Rubrics for this submission\n",
    "    })\n",
    "\n",
    "# Convert to DataFrame\n",
    "banking_df = pd.DataFrame(banking_data)\n"
   ],
   "id": "3f6b41b4fe1e37b",
   "outputs": [],
   "execution_count": 8
  },
  {
   "metadata": {
    "ExecuteTime": {
     "end_time": "2025-01-06T14:58:11.161292Z",
     "start_time": "2025-01-06T14:58:11.159002Z"
    }
   },
   "cell_type": "code",
   "source": [
    "print(f\"Missing max_points in tasks_df: {tasks_df['max_points'].isna().sum()}\")\n",
    "print(f\"Missing maxPoints in banking_df: {banking_df['maxPoints'].isna().sum()}\")\n"
   ],
   "id": "f7df4a9e31e54fec",
   "outputs": [
    {
     "name": "stdout",
     "output_type": "stream",
     "text": [
      "Missing max_points in tasks_df: 0\n",
      "Missing maxPoints in banking_df: 0\n"
     ]
    }
   ],
   "execution_count": 10
  },
  {
   "metadata": {},
   "cell_type": "markdown",
   "source": "### Stratified Sampling",
   "id": "fcdb31bae89f51b1"
  },
  {
   "metadata": {
    "ExecuteTime": {
     "end_time": "2025-01-06T14:58:12.084025Z",
     "start_time": "2025-01-06T14:58:11.162533Z"
    }
   },
   "cell_type": "code",
   "source": [
    "import matplotlib.pyplot as plt\n",
    "from helpers.stratified_sample import stratified_random_sample\n",
    "\n",
    "# Combine submissions and tasks into one dataset\n",
    "combined_data = submissions_df.merge(tasks_df, left_on=\"task_id\", right_on=\"id\")\n",
    "\n",
    "combined_data.rename(columns={\"max_points\": \"maxPoints\"}, inplace=True)\n",
    "\n",
    "# Rename columns for consistency with other datasets\n",
    "banking_df.rename(columns={\"id\": \"id_x\"}, inplace=True)\n",
    "# Combine with existing data\n",
    "combined_data = pd.concat([combined_data, banking_df], ignore_index=True)\n",
    "# Rename columns for consistent field names\n",
    "\n",
    "# Convert to a list of dictionaries for stratified sampling\n",
    "combined_data_dict = combined_data.to_dict(orient=\"records\")\n",
    "\n",
    "# Apply stratified sampling\n",
    "sampled_data_by_course = stratified_random_sample(\n",
    "    combined_data_dict,\n",
    "    num_groups=6,  # 6 Groups of maxPoints to diversify difficulty\n",
    "    exercise_sample_size=10,  # Ensure diversity in exercises\n",
    "    submissions_per_exercise=10  # Uniform submissions per exercise\n",
    ")\n",
    "\n",
    "# Separate sampled data into stat, mat, and banking\n",
    "evaluation_data_stat_rand = sampled_data_by_course.get(\"fs24-sta120\", [])\n",
    "evaluation_data_mat_rand = sampled_data_by_course.get(\"fs24-mat183\", [])\n",
    "evaluation_data_banking_rand = sampled_data_by_course.get(\"fs24-banking\", [])\n",
    "\n",
    "# Check stratified sampling results\n",
    "def count_submissions_by_exercise(data):\n",
    "    counts = {}\n",
    "    for entry in data:\n",
    "        task_id = entry[\"task_id\"]\n",
    "        counts[task_id] = counts.get(task_id, 0) + 1\n",
    "    return counts\n",
    "\n",
    "# Count submissions per exercise for each course\n",
    "counts_stat = count_submissions_by_exercise(evaluation_data_stat_rand)\n",
    "counts_mat = count_submissions_by_exercise(evaluation_data_mat_rand)\n",
    "counts_banking = count_submissions_by_exercise(evaluation_data_banking_rand)\n",
    "\n",
    "# Count unique exercises\n",
    "unique_exercises_stat = len(counts_stat)\n",
    "unique_exercises_mat = len(counts_mat)\n",
    "unique_exercises_banking = len(counts_banking)\n",
    "\n",
    "# Print results\n",
    "print(f\"Total sampled submissions (Stat): {len(evaluation_data_stat_rand)}\")\n",
    "print(f\"Total unique exercises (Stat): {unique_exercises_stat}\")\n",
    "print(f\"Total sampled submissions (Mat): {len(evaluation_data_mat_rand)}\")\n",
    "print(f\"Total unique exercises (Mat): {unique_exercises_mat}\")\n",
    "print(f\"Total sampled submissions (Banking): {len(evaluation_data_banking_rand)}\")\n",
    "print(f\"Total unique exercises (Banking): {unique_exercises_banking}\")\n",
    "\n",
    "# Convert counts to DataFrames for visualization\n",
    "counts_stat_df = pd.DataFrame(list(counts_stat.items()), columns=[\"Exercise\", \"Submissions\"])\n",
    "counts_mat_df = pd.DataFrame(list(counts_mat.items()), columns=[\"Exercise\", \"Submissions\"])\n",
    "counts_banking_df = pd.DataFrame(list(counts_banking.items()), columns=[\"Exercise\", \"Submissions\"])\n",
    "\n",
    "# Plot the distribution of submissions per exercise for each course\n",
    "def plot_submissions_distribution(df, title):\n",
    "    plt.figure(figsize=(16, 9))\n",
    "    plt.bar(df[\"Exercise\"].astype(str), df[\"Submissions\"])\n",
    "    plt.xlabel(\"Exercise ID\")\n",
    "    plt.ylabel(\"Number of Submissions\")\n",
    "    plt.title(title)\n",
    "    plt.xticks(rotation=90)\n",
    "    plt.tight_layout()\n",
    "    plt.show()\n",
    "\n",
    "plot_submissions_distribution(counts_stat_df, \"Distribution of Submissions per Exercise (Stat Data)\")\n",
    "plot_submissions_distribution(counts_mat_df, \"Distribution of Submissions per Exercise (Mat Data)\")\n",
    "plot_submissions_distribution(counts_banking_df, \"Distribution of Submissions per Exercise (Banking Data)\")\n",
    "\n",
    "# Final integrity checks\n",
    "print(f\"Unique exercises in Stat set: {len(set(d['task_id'] for d in evaluation_data_stat_rand))}\")\n",
    "print(f\"Unique exercises in Mat set: {len(set(d['task_id'] for d in evaluation_data_mat_rand))}\")\n",
    "print(f\"Unique exercises in Banking set: {len(set(d['task_id'] for d in evaluation_data_banking_rand))}\")\n"
   ],
   "id": "fc9f8c7252b4c8fd",
   "outputs": [
    {
     "name": "stdout",
     "output_type": "stream",
     "text": [
      "Total sampled submissions (Stat): 100\n",
      "Total unique exercises (Stat): 10\n",
      "Total sampled submissions (Mat): 100\n",
      "Total unique exercises (Mat): 10\n",
      "Total sampled submissions (Banking): 100\n",
      "Total unique exercises (Banking): 10\n"
     ]
    },
    {
     "data": {
      "text/plain": [
       "<Figure size 1600x900 with 1 Axes>"
      ],
      "image/png": "[encoded data removed]"
     },
     "metadata": {},
     "output_type": "display_data"
    },
    {
     "data": {
      "text/plain": [
       "<Figure size 1600x900 with 1 Axes>"
      ],
      "image/png": "[encoded data removed]"
     },
     "metadata": {},
     "output_type": "display_data"
    },
    {
     "data": {
      "text/plain": [
       "<Figure size 1600x900 with 1 Axes>"
      ],
      "image/png": "[encoded data removed]"
     },
     "metadata": {},
     "output_type": "display_data"
    },
    {
     "name": "stdout",
     "output_type": "stream",
     "text": [
      "Unique exercises in Stat set: 10\n",
      "Unique exercises in Mat set: 10\n",
      "Unique exercises in Banking set: 10\n"
     ]
    }
   ],
   "execution_count": 11
  },
  {
   "metadata": {
    "ExecuteTime": {
     "end_time": "2025-01-06T15:22:16.942260Z",
     "start_time": "2025-01-06T15:22:16.913215Z"
    }
   },
   "cell_type": "code",
   "source": [
    "import os\n",
    "from datetime import datetime\n",
    "\n",
    "# Convert the datasets to DataFrames\n",
    "stat_df = pd.DataFrame(evaluation_data_stat_rand)\n",
    "mat_df = pd.DataFrame(evaluation_data_mat_rand)\n",
    "banking_df = pd.DataFrame(evaluation_data_banking_rand)\n",
    "\n",
    "# Create a folder for outputs\n",
    "output_folder = \"stratified_samples\"\n",
    "os.makedirs(output_folder, exist_ok=True)\n",
    "\n",
    "# Add a timestamp for versioning\n",
    "timestamp = datetime.now().strftime(\"%Y%m%d_%H%M%S\")\n",
    "\n",
    "# Save files with timestamp\n",
    "stat_df.to_csv(f\"{output_folder}/evaluation_data_stat_rand_{timestamp}.csv\", index=False)\n",
    "mat_df.to_csv(f\"{output_folder}/evaluation_data_mat_rand_{timestamp}.csv\", index=False)\n",
    "banking_df.to_csv(f\"{output_folder}/evaluation_data_banking_rand_{timestamp}.csv\", index=False)\n",
    "\n",
    "print(\"Datasets saved with timestamps.\")\n"
   ],
   "id": "68d5138a8270ea76",
   "outputs": [
    {
     "name": "stdout",
     "output_type": "stream",
     "text": [
      "Datasets saved with timestamps.\n"
     ]
    }
   ],
   "execution_count": 34
  },
  {
   "metadata": {},
   "cell_type": "markdown",
   "source": [
    "# Evaluation\n",
    "We use parallelism here to speed up the evaluation process. We evaluate the submissions using the LLM and compare the results with the human-assigned points."
   ],
   "id": "e277b25cd2041f69"
  },
  {
   "metadata": {
    "ExecuteTime": {
     "end_time": "2025-01-06T14:58:12.091603Z",
     "start_time": "2025-01-06T14:58:12.087919Z"
    }
   },
   "cell_type": "code",
   "source": [
    "def calculate_weighted_accuracy(data):\n",
    "    total_weighted_error = 0\n",
    "    total_weight = 0\n",
    "\n",
    "    for entry in data:\n",
    "        human_points = entry['human_points']\n",
    "        llm_points = entry['gpt_points']\n",
    "        max_points = entry['submission']['maxPoints']\n",
    "        \n",
    "        if max_points == 0:\n",
    "            continue\n",
    "\n",
    "        weight = 1 / max_points  # Inverse weighting by maxPoints\n",
    "        error = abs(human_points - llm_points) / max_points\n",
    "\n",
    "        total_weighted_error += weight * error\n",
    "        total_weight += weight\n",
    "\n",
    "    return 1 - (total_weighted_error / total_weight if total_weight > 0 else 0)\n",
    "\n",
    "\n",
    "def calculate_bias(tracker):\n",
    "    \"\"\"\n",
    "    Calculate overestimation and underestimation bias from the tracker.\n",
    "    \"\"\"\n",
    "    over_bias = 0\n",
    "    under_bias = 0\n",
    "    total_tasks = len(tracker)\n",
    "\n",
    "    for entry in tracker:\n",
    "        human_points = entry[\"human_points\"]\n",
    "        llm_points = entry[\"gpt_points\"]\n",
    "        diff = llm_points - human_points\n",
    "\n",
    "        if diff > 0:\n",
    "            over_bias += diff\n",
    "        else:\n",
    "            under_bias += abs(diff)\n",
    "\n",
    "    over_bias = over_bias / total_tasks if total_tasks > 0 else 0\n",
    "    under_bias = under_bias / total_tasks if total_tasks > 0 else 0\n",
    "\n",
    "    return {\"overestimation\": over_bias, \"underestimation\": under_bias}\n"
   ],
   "id": "98fdca22bc946da",
   "outputs": [],
   "execution_count": 13
  },
  {
   "metadata": {
    "ExecuteTime": {
     "end_time": "2025-01-07T12:44:48.252132Z",
     "start_time": "2025-01-07T12:44:48.247519Z"
    }
   },
   "cell_type": "code",
   "source": [
    "import concurrent.futures\n",
    "import random\n",
    "\n",
    "# Careful not to use too many threads due to rate limiting\n",
    "def parallel_evaluate(data, func, num_threads=4, batch_size=100, solution=False, cot=False, voting=1, few_shot_examples=None):\n",
    "    \"\"\"\n",
    "    Parallelizes the evaluation process using threads.\n",
    "    \"\"\"\n",
    "    random.shuffle(data)\n",
    "    data_batches = [data[i:i + batch_size] for i in range(0, len(data), batch_size)]\n",
    "\n",
    "    combined_tracker = []\n",
    "    combined_logs = []\n",
    "    batch_accuracies = []\n",
    "    combined_biases = {\"overestimation\": 0, \"underestimation\": 0}\n",
    "    total_batches = 0\n",
    "\n",
    "    def wrapper(batch):\n",
    "        \"\"\"\n",
    "        Wrapper to pass additional arguments to func.\n",
    "        \"\"\"\n",
    "        return func(batch, solution, cot, voting, few_shot_examples)\n",
    "\n",
    "    with concurrent.futures.ThreadPoolExecutor(max_workers=num_threads) as executor:\n",
    "        results = list(executor.map(wrapper, data_batches))\n",
    "\n",
    "    for res_tracker, batch_accuracy, res_logs, bias in results:\n",
    "        combined_tracker.extend(res_tracker)\n",
    "        combined_logs.extend(res_logs)\n",
    "        batch_accuracies.append(batch_accuracy)\n",
    "\n",
    "        # Combine biases\n",
    "        combined_biases[\"overestimation\"] += bias[\"overestimation\"]\n",
    "        combined_biases[\"underestimation\"] += bias[\"underestimation\"]\n",
    "        total_batches += 1\n",
    "\n",
    "    # Finalize biases by averaging\n",
    "    if total_batches > 0:\n",
    "        combined_biases[\"overestimation\"] /= total_batches\n",
    "        combined_biases[\"underestimation\"] /= total_batches\n",
    "\n",
    "    overall_accuracy = sum(batch_accuracies) / len(batch_accuracies) if batch_accuracies else 0\n",
    "\n",
    "    return combined_tracker, overall_accuracy, combined_logs, combined_biases\n"
   ],
   "id": "d7c6851ca1dfaccc",
   "outputs": [],
   "execution_count": 81
  },
  {
   "metadata": {
    "ExecuteTime": {
     "end_time": "2025-01-07T20:11:42.157001Z",
     "start_time": "2025-01-07T20:11:42.139378Z"
    }
   },
   "cell_type": "code",
   "source": [
    "import copy\n",
    "import requests\n",
    "from tqdm.notebook import tqdm\n",
    "\n",
    "\n",
    "# Function to evaluate the submissions using the LLM\n",
    "def evaluate(to_evaluate, solution=False, cot=False, voting=1, few_shot_examples=None):\n",
    "    EVALUATION_URL = \"http://localhost:4000/evaluate\"\n",
    "    tracker = []\n",
    "    accuracy_tracker = []\n",
    "    logs = []\n",
    "\n",
    "    def calculate_accuracy(human_points, llm_points, max_points):\n",
    "        if max_points == 0:\n",
    "            return 1  # Avoid division by zero\n",
    "        diff = abs(human_points - llm_points)\n",
    "        return 1 - diff / max_points\n",
    "\n",
    "    for idx, submission in enumerate(tqdm(to_evaluate, desc=\"Evaluating submissions\"), start=1):\n",
    "        # Prepare payload for the API\n",
    "        payload = prepare_payload(submission, solution=solution, cot=cot, voting=voting, few_shot_examples=few_shot_examples)\n",
    "        \n",
    "        try:\n",
    "            # Make API call for evaluation\n",
    "            res = requests.post(EVALUATION_URL, json=payload, headers={\"Content-Type\": \"application/json\"})\n",
    "            res.raise_for_status()\n",
    "            evaluation_result = res.json()\n",
    "            \n",
    "\n",
    "            # Extract LLM-assigned points and rubric data\n",
    "            llm_points = evaluation_result.get(\"points\", 0)\n",
    "            max_points = payload[\"maxPoints\"]\n",
    "            human_points = submission.get(\"human_points\", 0)\n",
    "\n",
    "            # Calculate accuracy\n",
    "            accuracy = calculate_accuracy(human_points, llm_points, max_points)\n",
    "\n",
    "            tracker.append({\n",
    "                \"human_points\": human_points,\n",
    "                \"gpt_points\": llm_points,\n",
    "                \"accuracy\": accuracy,\n",
    "                \"evaluation_result\": evaluation_result,\n",
    "                \"submission\": submission,  # Store the original submission\n",
    "            })\n",
    "            accuracy_tracker.append(accuracy)\n",
    "\n",
    "            # Add logs\n",
    "            logs.append(f\"Submission {idx} Result: {evaluation_result}\")\n",
    "            logs.append(f\"Human Points: {human_points}, GPT Points: {llm_points}\")\n",
    "            logs.append(f\"Accuracy: {accuracy:.2%}\")\n",
    "        except requests.exceptions.RequestException as e:\n",
    "            print(f\"Error evaluating submission {idx}: {e}\")\n",
    "            print(f\"Invalid payload?: {payload}\")\n",
    "            logs.append(f\"Error evaluating submission {idx}: {e}\")\n",
    "\n",
    "    # Calculate metrics\n",
    "    accuracy = calculate_weighted_accuracy(tracker)\n",
    "    bias = calculate_bias(tracker)\n",
    "\n",
    "    return tracker, accuracy, logs, bias\n",
    "\n",
    "\n",
    "def prepare_payload(submission, solution=False, cot=False, voting=1, few_shot_examples=None):\n",
    "    \"\"\"\n",
    "    Prepare the payload for a specific submission, ensuring only relevant few-shot examples are included.\n",
    "    \"\"\"\n",
    "    # Create a deep copy to avoid modifying the original\n",
    "    submission_copy = copy.deepcopy(submission)\n",
    "\n",
    "    # Adjust optional fields\n",
    "    if not solution:\n",
    "        submission_copy.pop(\"modelSolution\", \"No solution provided\")  # Remove modelSolution if not using solution\n",
    "        submission_copy.pop(\"rubrics\", [])  # Remove rubrics if not using solution\n",
    "\n",
    "    # Add chain of thought and voting parameters\n",
    "    submission_copy[\"chainOfThought\"] = cot\n",
    "    submission_copy[\"votingCount\"] = voting\n",
    "\n",
    "    # Convert np.float64 to float for numeric fields\n",
    "    submission_copy[\"maxPoints\"] = float(submission_copy.get(\"maxPoints\", 0))\n",
    "    submission_copy[\"minPoints\"] = float(submission_copy.get(\"minPoints\", 0))\n",
    "    submission_copy[\"pointStep\"] = float(submission_copy.get(\"pointStep\", 0))\n",
    "    \n",
    "    # Add few-shot examples if provided and if task ID matches\n",
    "    task_id = submission_copy[\"task_id\"]\n",
    "    if few_shot_examples and task_id in few_shot_examples:\n",
    "        submission_copy[\"fewShotExamples\"] = few_shot_examples[task_id]  # Only include examples for this task_id\n",
    "\n",
    "    return {\n",
    "        \"question\": submission_copy[\"question\"],\n",
    "        \"answer\": submission_copy[\"answer\"],\n",
    "        \"rubrics\": submission_copy.get(\"rubrics\", []),\n",
    "        \"modelSolution\": submission_copy.get(\"modelSolution\", \"No Solution Provided\"),\n",
    "        \"maxPoints\": submission_copy[\"maxPoints\"],\n",
    "        \"minPoints\": submission_copy[\"minPoints\"],\n",
    "        \"pointStep\": submission_copy[\"pointStep\"],\n",
    "        \"temperature\": 0.2,\n",
    "        \"llmType\": \"gpt\",\n",
    "        \"chainOfThought\": cot,\n",
    "        \"votingCount\": voting,\n",
    "        \"fewShotExamples\": submission_copy.get(\"fewShotExamples\", None),  # Include task-specific few-shot examples\n",
    "    }\n",
    "\n"
   ],
   "id": "7407f570301313f1",
   "outputs": [],
   "execution_count": 235
  },
  {
   "metadata": {},
   "cell_type": "markdown",
   "source": "## Setup",
   "id": "55fe6bfa67f3757f"
  },
  {
   "metadata": {
    "ExecuteTime": {
     "end_time": "2025-01-07T12:44:59.653483Z",
     "start_time": "2025-01-07T12:44:59.651546Z"
    }
   },
   "cell_type": "code",
   "source": [
    "\n",
    "# Parallel evaluation setup\n",
    "num_threads = 4  # Adjust based on your CPU cores, keep it at max 4 due to rate limits.\n",
    "batch_size = 25"
   ],
   "id": "9600a39b2b165765",
   "outputs": [],
   "execution_count": 82
  },
  {
   "metadata": {},
   "cell_type": "markdown",
   "source": [
    "## Evaluate each case\n",
    "We evaluate the submissions using different strategies to see how they affect the accuracy of the LLM."
   ],
   "id": "a56cb79f9581283c"
  },
  {
   "metadata": {},
   "cell_type": "markdown",
   "source": [
    "### Without Voting, CoT and Solutions\n",
    "This represents the most basic evaluation setup, accuracy should be lowest here.\n"
   ],
   "id": "43be5d33b1876c1f"
  },
  {
   "metadata": {
    "ExecuteTime": {
     "end_time": "2025-01-06T14:59:25.207056Z",
     "start_time": "2025-01-06T14:58:12.187396Z"
    }
   },
   "cell_type": "code",
   "source": [
    "# evaluate random subset of stat without including solutions\n",
    "bank_tracker_no_solutions, bank_accuracy_no_solutions, bank_logs_no_solutions, bank_bias_no_solutions = parallel_evaluate(\n",
    "    evaluation_data_banking_rand, func=evaluate, num_threads=num_threads, batch_size=batch_size\n",
    ")\n",
    "\n"
   ],
   "id": "baba902f0231c57c",
   "outputs": [
    {
     "data": {
      "text/plain": [
       "Evaluating submissions:   0%|          | 0/25 [00:00<?, ?it/s]"
      ],
      "application/vnd.jupyter.widget-view+json": {
       "version_major": 2,
       "version_minor": 0,
       "model_id": "2dcc147ee68e41e7958c165b7d5096ce"
      }
     },
     "metadata": {},
     "output_type": "display_data"
    },
    {
     "data": {
      "text/plain": [
       "Evaluating submissions:   0%|          | 0/25 [00:00<?, ?it/s]"
      ],
      "application/vnd.jupyter.widget-view+json": {
       "version_major": 2,
       "version_minor": 0,
       "model_id": "6fe76611a9594a4897ec6829b50b20d9"
      }
     },
     "metadata": {},
     "output_type": "display_data"
    },
    {
     "data": {
      "text/plain": [
       "Evaluating submissions:   0%|          | 0/25 [00:00<?, ?it/s]"
      ],
      "application/vnd.jupyter.widget-view+json": {
       "version_major": 2,
       "version_minor": 0,
       "model_id": "d45d76e4b70f4238b25a3a59e063a9a7"
      }
     },
     "metadata": {},
     "output_type": "display_data"
    },
    {
     "data": {
      "text/plain": [
       "Evaluating submissions:   0%|          | 0/25 [00:00<?, ?it/s]"
      ],
      "application/vnd.jupyter.widget-view+json": {
       "version_major": 2,
       "version_minor": 0,
       "model_id": "9d195d931534420f8cab830c36c402d0"
      }
     },
     "metadata": {},
     "output_type": "display_data"
    }
   ],
   "execution_count": 16
  },
  {
   "metadata": {},
   "cell_type": "code",
   "source": [
    "# evaluate random subset of stat without including solutions\n",
    "stat_tracker_no_solutions, stat_accuracy_no_solutions, stat_logs_no_solutions, stat_bias_no_solutions = parallel_evaluate(\n",
    "    evaluation_data_stat_rand, func=evaluate, num_threads=num_threads, batch_size=batch_size\n",
    ")"
   ],
   "id": "de4f0f8a3adfd160",
   "outputs": [],
   "execution_count": null
  },
  {
   "metadata": {
    "ExecuteTime": {
     "end_time": "2025-01-06T15:07:53.068557Z",
     "start_time": "2025-01-06T15:06:46.579490Z"
    }
   },
   "cell_type": "code",
   "source": "mat_tracker_no_solutions, mat_accuracy_no_solutions, mat_logs_no_solutions, mat_bias_no_solutions = parallel_evaluate(evaluation_data_mat_rand, func=evaluate, num_threads=num_threads, batch_size=batch_size)\n",
   "id": "109ede9a981f9c65",
   "outputs": [
    {
     "data": {
      "text/plain": [
       "Evaluating submissions:   0%|          | 0/25 [00:00<?, ?it/s]"
      ],
      "application/vnd.jupyter.widget-view+json": {
       "version_major": 2,
       "version_minor": 0,
       "model_id": "bf80696340e04b31a2ce2a8be51b3cec"
      }
     },
     "metadata": {},
     "output_type": "display_data"
    },
    {
     "data": {
      "text/plain": [
       "Evaluating submissions:   0%|          | 0/25 [00:00<?, ?it/s]"
      ],
      "application/vnd.jupyter.widget-view+json": {
       "version_major": 2,
       "version_minor": 0,
       "model_id": "dfbafcca3baa4c1fa75ba1fb618ac2dc"
      }
     },
     "metadata": {},
     "output_type": "display_data"
    },
    {
     "data": {
      "text/plain": [
       "Evaluating submissions:   0%|          | 0/25 [00:00<?, ?it/s]"
      ],
      "application/vnd.jupyter.widget-view+json": {
       "version_major": 2,
       "version_minor": 0,
       "model_id": "daea1ebc190743b28ae4eb41c8c6862c"
      }
     },
     "metadata": {},
     "output_type": "display_data"
    },
    {
     "data": {
      "text/plain": [
       "Evaluating submissions:   0%|          | 0/25 [00:00<?, ?it/s]"
      ],
      "application/vnd.jupyter.widget-view+json": {
       "version_major": 2,
       "version_minor": 0,
       "model_id": "bb7550d8c159417ba5879ab5ecf0e666"
      }
     },
     "metadata": {},
     "output_type": "display_data"
    }
   ],
   "execution_count": 22
  },
  {
   "metadata": {},
   "cell_type": "markdown",
   "source": [
    "### With Solutions\n",
    "We add the solutions to the evaluation data to see how it affects the accuracy of the LLM."
   ],
   "id": "be5305dd7c43adab"
  },
  {
   "metadata": {
    "ExecuteTime": {
     "end_time": "2025-01-06T15:18:24.158044Z",
     "start_time": "2025-01-06T15:17:10.759759Z"
    }
   },
   "cell_type": "code",
   "source": [
    "\n",
    "bank_tracker, bank_accuracy, bank_logs, bank_bias = parallel_evaluate(evaluation_data_banking_rand, func=evaluate, num_threads=num_threads, batch_size=batch_size, solution=True)"
   ],
   "id": "ded2e1efc199c819",
   "outputs": [
    {
     "data": {
      "text/plain": [
       "Evaluating submissions:   0%|          | 0/25 [00:00<?, ?it/s]"
      ],
      "application/vnd.jupyter.widget-view+json": {
       "version_major": 2,
       "version_minor": 0,
       "model_id": "d3623d43fabf47d29c10f6ab8983563c"
      }
     },
     "metadata": {},
     "output_type": "display_data"
    },
    {
     "data": {
      "text/plain": [
       "Evaluating submissions:   0%|          | 0/25 [00:00<?, ?it/s]"
      ],
      "application/vnd.jupyter.widget-view+json": {
       "version_major": 2,
       "version_minor": 0,
       "model_id": "01ae6536773c4a498b83bd54aeeb9fd2"
      }
     },
     "metadata": {},
     "output_type": "display_data"
    },
    {
     "data": {
      "text/plain": [
       "Evaluating submissions:   0%|          | 0/25 [00:00<?, ?it/s]"
      ],
      "application/vnd.jupyter.widget-view+json": {
       "version_major": 2,
       "version_minor": 0,
       "model_id": "e4e470d4c28f4d088aceceaafd9d9f24"
      }
     },
     "metadata": {},
     "output_type": "display_data"
    },
    {
     "data": {
      "text/plain": [
       "Evaluating submissions:   0%|          | 0/25 [00:00<?, ?it/s]"
      ],
      "application/vnd.jupyter.widget-view+json": {
       "version_major": 2,
       "version_minor": 0,
       "model_id": "f45c41e99b0a4e21a8c80caf37ce4d7c"
      }
     },
     "metadata": {},
     "output_type": "display_data"
    }
   ],
   "execution_count": 31
  },
  {
   "metadata": {
    "ExecuteTime": {
     "end_time": "2025-01-06T15:11:35.933941Z",
     "start_time": "2025-01-06T15:10:26.576507Z"
    }
   },
   "cell_type": "code",
   "source": [
    "\n",
    "stat_tracker, stat_accuracy, stat_logs, stat_bias = parallel_evaluate(evaluation_data_stat_rand, func=evaluate, num_threads=num_threads, batch_size=batch_size, solution=True)"
   ],
   "id": "cb6c2fe2b1c796a8",
   "outputs": [
    {
     "data": {
      "text/plain": [
       "Evaluating submissions:   0%|          | 0/25 [00:00<?, ?it/s]"
      ],
      "application/vnd.jupyter.widget-view+json": {
       "version_major": 2,
       "version_minor": 0,
       "model_id": "3b1cf6f94e644ffb97a480187e2f4037"
      }
     },
     "metadata": {},
     "output_type": "display_data"
    },
    {
     "data": {
      "text/plain": [
       "Evaluating submissions:   0%|          | 0/25 [00:00<?, ?it/s]"
      ],
      "application/vnd.jupyter.widget-view+json": {
       "version_major": 2,
       "version_minor": 0,
       "model_id": "e90caa5f568c442f9ed247162523400f"
      }
     },
     "metadata": {},
     "output_type": "display_data"
    },
    {
     "data": {
      "text/plain": [
       "Evaluating submissions:   0%|          | 0/25 [00:00<?, ?it/s]"
      ],
      "application/vnd.jupyter.widget-view+json": {
       "version_major": 2,
       "version_minor": 0,
       "model_id": "20d47f952a404d73971413363e78d05c"
      }
     },
     "metadata": {},
     "output_type": "display_data"
    },
    {
     "data": {
      "text/plain": [
       "Evaluating submissions:   0%|          | 0/25 [00:00<?, ?it/s]"
      ],
      "application/vnd.jupyter.widget-view+json": {
       "version_major": 2,
       "version_minor": 0,
       "model_id": "cd6d811178374ae69281ac174c3d9a80"
      }
     },
     "metadata": {},
     "output_type": "display_data"
    }
   ],
   "execution_count": 26
  },
  {
   "metadata": {
    "ExecuteTime": {
     "end_time": "2025-01-06T15:13:32.314563Z",
     "start_time": "2025-01-06T15:12:12.885364Z"
    }
   },
   "cell_type": "code",
   "source": "mat_tracker, mat_accuracy, mat_logs, mat_bias = parallel_evaluate(evaluation_data_mat_rand, func=evaluate, num_threads=num_threads, batch_size=batch_size, solution=True)",
   "id": "c54b0ab0d7b821b9",
   "outputs": [
    {
     "data": {
      "text/plain": [
       "Evaluating submissions:   0%|          | 0/25 [00:00<?, ?it/s]"
      ],
      "application/vnd.jupyter.widget-view+json": {
       "version_major": 2,
       "version_minor": 0,
       "model_id": "9d4c3cf0747542d395042250ff605368"
      }
     },
     "metadata": {},
     "output_type": "display_data"
    },
    {
     "data": {
      "text/plain": [
       "Evaluating submissions:   0%|          | 0/25 [00:00<?, ?it/s]"
      ],
      "application/vnd.jupyter.widget-view+json": {
       "version_major": 2,
       "version_minor": 0,
       "model_id": "ac8b65cf431e44a790a18de4705541e6"
      }
     },
     "metadata": {},
     "output_type": "display_data"
    },
    {
     "data": {
      "text/plain": [
       "Evaluating submissions:   0%|          | 0/25 [00:00<?, ?it/s]"
      ],
      "application/vnd.jupyter.widget-view+json": {
       "version_major": 2,
       "version_minor": 0,
       "model_id": "2d62867db756441f82ef14d2b0f6d5df"
      }
     },
     "metadata": {},
     "output_type": "display_data"
    },
    {
     "data": {
      "text/plain": [
       "Evaluating submissions:   0%|          | 0/25 [00:00<?, ?it/s]"
      ],
      "application/vnd.jupyter.widget-view+json": {
       "version_major": 2,
       "version_minor": 0,
       "model_id": "fe83e425f11b4e3f81d3c6906fb2fce8"
      }
     },
     "metadata": {},
     "output_type": "display_data"
    }
   ],
   "execution_count": 28
  },
  {
   "metadata": {},
   "cell_type": "markdown",
   "source": [
    "### With Solutions and Voting\n",
    "Here we add voting, meaning we evaluate the submissions multiple times and take the average of the points assigned by the LLM. This happens in the backend."
   ],
   "id": "e278fc42e2dd9e7d"
  },
  {
   "metadata": {
    "ExecuteTime": {
     "end_time": "2025-01-07T12:57:47.828970Z",
     "start_time": "2025-01-07T12:57:47.826933Z"
    }
   },
   "cell_type": "code",
   "source": [
    "num_threads = 2 # Due to rate limits we should not go over 2, voting makes more calls\n",
    "batch_size = 50 # 100/2"
   ],
   "id": "8a68f6dd69fcf10d",
   "outputs": [],
   "execution_count": 98
  },
  {
   "metadata": {
    "ExecuteTime": {
     "end_time": "2025-01-06T15:31:08.281923Z",
     "start_time": "2025-01-06T15:24:27.147195Z"
    }
   },
   "cell_type": "code",
   "source": [
    "\n",
    "bank_tracker_voting, bank_accuracy_voting, bank_logs_voting, bank_bias_voting = parallel_evaluate(evaluation_data_banking_rand, func=evaluate, num_threads=num_threads, batch_size=batch_size, solution=True, voting=3)\n"
   ],
   "id": "c4e9663c86ef484c",
   "outputs": [
    {
     "data": {
      "text/plain": [
       "Evaluating submissions:   0%|          | 0/50 [00:00<?, ?it/s]"
      ],
      "application/vnd.jupyter.widget-view+json": {
       "version_major": 2,
       "version_minor": 0,
       "model_id": "4d1760293b264b85bcf30fd97379e159"
      }
     },
     "metadata": {},
     "output_type": "display_data"
    },
    {
     "data": {
      "text/plain": [
       "Evaluating submissions:   0%|          | 0/50 [00:00<?, ?it/s]"
      ],
      "application/vnd.jupyter.widget-view+json": {
       "version_major": 2,
       "version_minor": 0,
       "model_id": "54b80e6d6b9a49819944afae8f50376c"
      }
     },
     "metadata": {},
     "output_type": "display_data"
    }
   ],
   "execution_count": 35
  },
  {
   "metadata": {
    "ExecuteTime": {
     "end_time": "2025-01-06T15:38:40.405752Z",
     "start_time": "2025-01-06T15:32:05.669082Z"
    }
   },
   "cell_type": "code",
   "source": "stat_tracker_voting, stat_accuracy_voting, stat_logs_voting, state_bias_voting = parallel_evaluate(evaluation_data_stat_rand, func=evaluate, num_threads=num_threads, batch_size=batch_size, solution=True, voting=3)",
   "id": "8b2e918a6d00c245",
   "outputs": [
    {
     "data": {
      "text/plain": [
       "Evaluating submissions:   0%|          | 0/50 [00:00<?, ?it/s]"
      ],
      "application/vnd.jupyter.widget-view+json": {
       "version_major": 2,
       "version_minor": 0,
       "model_id": "0af7c6d43c8d4afeb7e3fb66705bf3da"
      }
     },
     "metadata": {},
     "output_type": "display_data"
    },
    {
     "data": {
      "text/plain": [
       "Evaluating submissions:   0%|          | 0/50 [00:00<?, ?it/s]"
      ],
      "application/vnd.jupyter.widget-view+json": {
       "version_major": 2,
       "version_minor": 0,
       "model_id": "b56dc75bfcaf40839286247c12b39764"
      }
     },
     "metadata": {},
     "output_type": "display_data"
    }
   ],
   "execution_count": 38
  },
  {
   "metadata": {
    "ExecuteTime": {
     "end_time": "2025-01-06T16:19:53.175628Z",
     "start_time": "2025-01-06T16:12:23.785280Z"
    }
   },
   "cell_type": "code",
   "source": "mat_tracker_voting, mat_accuracy_voting, mat_logs_voting, mat_bias_voting = parallel_evaluate(evaluation_data_mat_rand, func=evaluate, num_threads=num_threads, batch_size=batch_size, solution=True, voting=3)",
   "id": "64e71ef141043a94",
   "outputs": [
    {
     "data": {
      "text/plain": [
       "Evaluating submissions:   0%|          | 0/50 [00:00<?, ?it/s]"
      ],
      "application/vnd.jupyter.widget-view+json": {
       "version_major": 2,
       "version_minor": 0,
       "model_id": "525e5cd17b8846249c3bc9c91e9a982f"
      }
     },
     "metadata": {},
     "output_type": "display_data"
    },
    {
     "data": {
      "text/plain": [
       "Evaluating submissions:   0%|          | 0/50 [00:00<?, ?it/s]"
      ],
      "application/vnd.jupyter.widget-view+json": {
       "version_major": 2,
       "version_minor": 0,
       "model_id": "7cc4a9d7f93044ae832b92a95b4cba48"
      }
     },
     "metadata": {},
     "output_type": "display_data"
    }
   ],
   "execution_count": 47
  },
  {
   "metadata": {},
   "cell_type": "markdown",
   "source": "### With Solutions, Voting and CoT",
   "id": "18a9dd4a94174582"
  },
  {
   "metadata": {
    "ExecuteTime": {
     "end_time": "2025-01-06T16:56:24.077681Z",
     "start_time": "2025-01-06T16:49:52.667953Z"
    }
   },
   "cell_type": "code",
   "source": "bank_tracker_cot, bank_accuracy_cot, bank_logs_cot, bank_bias_cot = parallel_evaluate(evaluation_data_banking_rand, func=evaluate, num_threads=num_threads, batch_size=batch_size, solution=True, voting=3, cot=True)",
   "id": "78906a2c57bf820b",
   "outputs": [
    {
     "data": {
      "text/plain": [
       "Evaluating submissions:   0%|          | 0/50 [00:00<?, ?it/s]"
      ],
      "application/vnd.jupyter.widget-view+json": {
       "version_major": 2,
       "version_minor": 0,
       "model_id": "178ef970164b4b52bb984a791cda0d5c"
      }
     },
     "metadata": {},
     "output_type": "display_data"
    },
    {
     "data": {
      "text/plain": [
       "Evaluating submissions:   0%|          | 0/50 [00:00<?, ?it/s]"
      ],
      "application/vnd.jupyter.widget-view+json": {
       "version_major": 2,
       "version_minor": 0,
       "model_id": "2b34e70fd0e541689ca2b584dc3c97d5"
      }
     },
     "metadata": {},
     "output_type": "display_data"
    }
   ],
   "execution_count": 52
  },
  {
   "metadata": {
    "ExecuteTime": {
     "end_time": "2025-01-06T19:21:33.208042Z",
     "start_time": "2025-01-06T19:14:41.350492Z"
    }
   },
   "cell_type": "code",
   "source": "stat_tracker_cot, stat_accuracy_cot, stat_logs_cot, stat_bias_cot = parallel_evaluate(evaluation_data_stat_rand, func=evaluate, num_threads=num_threads, batch_size=batch_size, solution=True, voting=3, cot=True)",
   "id": "cc2a9a5e37f5ac82",
   "outputs": [
    {
     "data": {
      "text/plain": [
       "Evaluating submissions:   0%|          | 0/50 [00:00<?, ?it/s]"
      ],
      "application/vnd.jupyter.widget-view+json": {
       "version_major": 2,
       "version_minor": 0,
       "model_id": "255454dfb0e3427aa5a7f981f12a428b"
      }
     },
     "metadata": {},
     "output_type": "display_data"
    },
    {
     "data": {
      "text/plain": [
       "Evaluating submissions:   0%|          | 0/50 [00:00<?, ?it/s]"
      ],
      "application/vnd.jupyter.widget-view+json": {
       "version_major": 2,
       "version_minor": 0,
       "model_id": "db29ccb0fddd4cc19804c6fdc16550b6"
      }
     },
     "metadata": {},
     "output_type": "display_data"
    }
   ],
   "execution_count": 56
  },
  {
   "metadata": {
    "ExecuteTime": {
     "end_time": "2025-01-06T19:36:29.778840Z",
     "start_time": "2025-01-06T19:29:06.305267Z"
    }
   },
   "cell_type": "code",
   "source": "mat_tracker_cot, mat_accuracy_cot, mat_logs_cot, mat_bias_cot = parallel_evaluate(evaluation_data_mat_rand, func=evaluate, num_threads=num_threads, batch_size=batch_size, solution=True, voting=3, cot=True)",
   "id": "e2f0b543f1ed0b97",
   "outputs": [
    {
     "data": {
      "text/plain": [
       "Evaluating submissions:   0%|          | 0/50 [00:00<?, ?it/s]"
      ],
      "application/vnd.jupyter.widget-view+json": {
       "version_major": 2,
       "version_minor": 0,
       "model_id": "3800f13901a745dd88a1411026b6d77d"
      }
     },
     "metadata": {},
     "output_type": "display_data"
    },
    {
     "data": {
      "text/plain": [
       "Evaluating submissions:   0%|          | 0/50 [00:00<?, ?it/s]"
      ],
      "application/vnd.jupyter.widget-view+json": {
       "version_major": 2,
       "version_minor": 0,
       "model_id": "4c1f6b663ba3485386f6ec87f0a9b0ea"
      }
     },
     "metadata": {},
     "output_type": "display_data"
    }
   ],
   "execution_count": 60
  },
  {
   "metadata": {},
   "cell_type": "markdown",
   "source": "### With Solutions, Voting, CoT and Few-Shot",
   "id": "4a8ab71bd36b21cf"
  },
  {
   "metadata": {
    "ExecuteTime": {
     "end_time": "2025-01-07T12:57:56.801387Z",
     "start_time": "2025-01-07T12:57:56.722148Z"
    }
   },
   "cell_type": "code",
   "source": [
    "from collections import defaultdict\n",
    "\n",
    "# Filter remaining submissions not in the stratified samples\n",
    "def filter_remaining_submissions(all_data, stratified_samples, course_slug):\n",
    "    \"\"\"\n",
    "    Filter submissions not included in the stratified samples and ensure they belong to the correct course.\n",
    "\n",
    "    Args:\n",
    "    - all_data: List of all submissions.\n",
    "    - stratified_samples: List of submissions included in the stratified test sets.\n",
    "    - course_slug: The course slug to filter for (e.g., \"fs24-sta120\" or \"fs24-mat183\").\n",
    "\n",
    "    Returns:\n",
    "    - Remaining submissions grouped by task_id.\n",
    "    \"\"\"\n",
    "    stratified_ids = {entry[\"id_x\"] for entry in stratified_samples}\n",
    "    remaining_data = [\n",
    "        entry for entry in all_data\n",
    "        if entry[\"id_x\"] not in stratified_ids and entry[\"course_slug\"] == course_slug\n",
    "    ]\n",
    "\n",
    "    # Group remaining submissions by task_id\n",
    "    grouped_data = defaultdict(list)\n",
    "    for entry in remaining_data:\n",
    "        grouped_data[entry[\"task_id\"]].append(entry)\n",
    "\n",
    "    return grouped_data\n",
    "\n",
    "# Get remaining submissions for Stat and Mat datasets\n",
    "remaining_data_stat = filter_remaining_submissions(combined_data_dict, evaluation_data_stat_rand, \"fs24-sta120\")\n",
    "remaining_data_mat = filter_remaining_submissions(combined_data_dict, evaluation_data_mat_rand, \"fs24-mat183\")\n",
    "remaining_data_banking = filter_remaining_submissions(combined_data_dict, evaluation_data_banking_rand, \"fs24-banking\")\n",
    "\n",
    "print(f\"Remaining submissions (Stat): {sum(len(v) for v in remaining_data_stat.values())}\")\n",
    "print(f\"Remaining submissions (Mat): {sum(len(v) for v in remaining_data_mat.values())}\")\n",
    "print(f\"Remaining submissions (Banking): {sum(len(v) for v in remaining_data_banking.values())}\")\n",
    "\n",
    "print(f\"Total submissions to evaluate (Stat): {len(evaluation_data_stat_rand)}\")\n",
    "print(f\"Total submissions to evaluate (Mat): {len(evaluation_data_mat_rand)}\")\n",
    "print(f\"Total submissions to evaluate (Banking): {len(evaluation_data_banking_rand)}\")\n",
    "\n"
   ],
   "id": "e5c5fbfd321cec30",
   "outputs": [
    {
     "name": "stdout",
     "output_type": "stream",
     "text": [
      "Remaining submissions (Stat): 18175\n",
      "Remaining submissions (Mat): 36922\n",
      "Remaining submissions (Banking): 3554\n",
      "Total submissions to evaluate (Stat): 100\n",
      "Total submissions to evaluate (Mat): 100\n",
      "Total submissions to evaluate (Banking): 100\n"
     ]
    }
   ],
   "execution_count": 99
  },
  {
   "metadata": {
    "ExecuteTime": {
     "end_time": "2025-01-07T16:36:32.620788Z",
     "start_time": "2025-01-07T16:36:32.613375Z"
    }
   },
   "cell_type": "code",
   "source": [
    "def prepare_few_shot_examples_for_stat_mat(stratified_data, remaining_data):\n",
    "    \"\"\"\n",
    "    Prepares Few-Shot examples from the remaining submissions for exercises included in the stratified data.\n",
    "\n",
    "    Args:\n",
    "    - stratified_data: List of submissions in the stratified sample.\n",
    "    - remaining_data: Dictionary of remaining submissions grouped by task_id.\n",
    "\n",
    "    Returns:\n",
    "    - Few-Shot examples for exercises in the stratified sample, including highest, lowest, and intermediate points.\n",
    "    \"\"\"\n",
    "    # Get the set of task_ids included in the stratified data\n",
    "    stratified_task_ids = {entry[\"task_id\"] for entry in stratified_data}\n",
    "\n",
    "    few_shot_examples = {}\n",
    "\n",
    "    for task_id in stratified_task_ids:\n",
    "        # Get submissions for this task_id from the remaining data\n",
    "        submissions = remaining_data.get(task_id, [])\n",
    "\n",
    "        # Sort submissions by points\n",
    "        sorted_submissions = sorted(submissions, key=lambda x: x[\"points\"])\n",
    "\n",
    "        # Prepare few-shot examples based on the number of available submissions\n",
    "        if len(sorted_submissions) >= 3:\n",
    "            # Use highest, lowest, and intermediate points\n",
    "            highest = sorted_submissions[-1]\n",
    "            lowest = sorted_submissions[0]\n",
    "            intermediate = sorted_submissions[len(sorted_submissions) // 2]\n",
    "            few_shot_examples[task_id] = [\n",
    "                {\n",
    "                    \"answer\": highest[\"content\"],\n",
    "                    \"points\": str(highest[\"points\"]),\n",
    "                },\n",
    "                {\n",
    "                    \"answer\": intermediate[\"content\"],\n",
    "                    \"points\": str(intermediate[\"points\"]),\n",
    "                },\n",
    "                {\n",
    "                    \"answer\": lowest[\"content\"],\n",
    "                    \"points\": str(lowest[\"points\"]),\n",
    "                },\n",
    "            ]\n",
    "        elif len(sorted_submissions) == 2:\n",
    "            # Use highest and lowest, duplicate the intermediate\n",
    "            highest = sorted_submissions[-1]\n",
    "            lowest = sorted_submissions[0]\n",
    "            few_shot_examples[task_id] = [\n",
    "                {\n",
    "                    \"answer\": highest[\"content\"],\n",
    "                    \"points\": str(highest[\"points\"]),\n",
    "                },\n",
    "                {\n",
    "                    \"answer\": lowest[\"content\"],\n",
    "                    \"points\": str(lowest[\"points\"]),\n",
    "                },\n",
    "            ]\n",
    "        elif len(sorted_submissions) == 1:\n",
    "            # Use the only available submission\n",
    "            highest = sorted_submissions[0]\n",
    "            few_shot_examples[task_id] = [\n",
    "                {\n",
    "                    \"answer\": highest[\"content\"],\n",
    "                    \"points\": str(highest[\"points\"]),\n",
    "                }\n",
    "            ]\n",
    "        # If no submissions are available, skip this task_id\n",
    "        else:\n",
    "            continue\n",
    "\n",
    "    return few_shot_examples\n"
   ],
   "id": "89aeeaacd936f310",
   "outputs": [],
   "execution_count": 211
  },
  {
   "metadata": {
    "ExecuteTime": {
     "end_time": "2025-01-07T16:36:33.721052Z",
     "start_time": "2025-01-07T16:36:33.714198Z"
    }
   },
   "cell_type": "code",
   "source": [
    "import json\n",
    "\n",
    "def prepare_few_shot_examples_for_banking(stratified_data, remaining_data):\n",
    "    \"\"\"\n",
    "    Prepares Few-Shot examples from the remaining submissions for exercises included in the stratified data.\n",
    "\n",
    "    Args:\n",
    "    - stratified_data: List of submissions in the stratified sample.\n",
    "    - remaining_data: Dictionary of remaining submissions grouped by task_id.\n",
    "\n",
    "    Returns:\n",
    "    - Few-Shot examples for exercises in the stratified sample, including highest, lowest, and intermediate points.\n",
    "      Each example contains rubric-level human grading as a JSON string.\n",
    "    \"\"\"\n",
    "    # Get the set of task_ids included in the stratified data\n",
    "    stratified_task_ids = {entry[\"task_id\"] for entry in stratified_data}\n",
    "\n",
    "    few_shot_examples = {}\n",
    "\n",
    "    for task_id in stratified_task_ids:\n",
    "        # Get submissions for this task_id from the remaining data\n",
    "        submissions = remaining_data.get(task_id, [])\n",
    "\n",
    "        # Calculate total human-assigned points for each submission\n",
    "        for submission in submissions:\n",
    "            submission[\"human_points\"] = sum(\n",
    "                r.get(\"points_assigned\", 0) for r in submission.get(\"rubrics\", [])\n",
    "            )\n",
    "\n",
    "        # Sort submissions by total human-assigned points\n",
    "        sorted_submissions = sorted(submissions, key=lambda x: x[\"human_points\"])\n",
    "\n",
    "        # Prepare few-shot examples based on the number of available submissions\n",
    "        if len(sorted_submissions) >= 3:\n",
    "            # Use highest, lowest, and intermediate points\n",
    "            highest = sorted_submissions[-1]\n",
    "            lowest = sorted_submissions[0]\n",
    "            intermediate = sorted_submissions[len(sorted_submissions) // 2]\n",
    "            few_shot_examples[task_id] = [\n",
    "                {\n",
    "                    \"answer\": highest[\"content\"],\n",
    "                    \"points\": json.dumps([\n",
    "                        {\"id\": rubric[\"id\"], \"points_assigned\": rubric[\"points_assigned\"]}\n",
    "                        for rubric in highest.get(\"rubrics\", [])\n",
    "                    ]),\n",
    "                },\n",
    "                {\n",
    "                    \"answer\": intermediate[\"content\"],\n",
    "                    \"points\": json.dumps([\n",
    "                        {\"id\": rubric[\"id\"], \"points_assigned\": rubric[\"points_assigned\"]}\n",
    "                        for rubric in intermediate.get(\"rubrics\", [])\n",
    "                    ]),\n",
    "                },\n",
    "                {\n",
    "                    \"answer\": lowest[\"content\"],\n",
    "                    \"points\": json.dumps([\n",
    "                        {\"id\": rubric[\"id\"], \"points_assigned\": rubric[\"points_assigned\"]}\n",
    "                        for rubric in lowest.get(\"rubrics\", [])\n",
    "                    ]),\n",
    "                },\n",
    "            ]\n",
    "        elif len(sorted_submissions) == 2:\n",
    "            # Use highest and lowest, duplicate the intermediate\n",
    "            highest = sorted_submissions[-1]\n",
    "            lowest = sorted_submissions[0]\n",
    "            few_shot_examples[task_id] = [\n",
    "                {\n",
    "                    \"answer\": highest[\"content\"],\n",
    "                    \"points\": json.dumps([\n",
    "                        {\"id\": rubric[\"id\"], \"points_assigned\": rubric[\"points_assigned\"]}\n",
    "                        for rubric in highest.get(\"rubrics\", [])\n",
    "                    ]),\n",
    "                },\n",
    "                {\n",
    "                    \"answer\": lowest[\"content\"],\n",
    "                    \"points\": json.dumps([\n",
    "                        {\"id\": rubric[\"id\"], \"points_assigned\": rubric[\"points_assigned\"]}\n",
    "                        for rubric in lowest.get(\"rubrics\", [])\n",
    "                    ]),\n",
    "                },\n",
    "            ]\n",
    "        elif len(sorted_submissions) == 1:\n",
    "            # Use the only available submission\n",
    "            highest = sorted_submissions[0]\n",
    "            few_shot_examples[task_id] = [\n",
    "                {\n",
    "                    \"answer\": highest[\"content\"],\n",
    "                    \"points\": json.dumps([\n",
    "                        {\"id\": rubric[\"id\"], \"points_assigned\": rubric[\"points_assigned\"]}\n",
    "                        for rubric in highest.get(\"rubrics\", [])\n",
    "                    ]),\n",
    "                }\n",
    "            ]\n",
    "        # If no submissions are available, skip this task_id\n",
    "        else:\n",
    "            continue\n",
    "\n",
    "    return few_shot_examples\n"
   ],
   "id": "901fc8c3eb95858c",
   "outputs": [],
   "execution_count": 212
  },
  {
   "metadata": {},
   "cell_type": "markdown",
   "source": "#### Integrity Check for Few-Shot Examples",
   "id": "ca1a02d4efddbe02"
  },
  {
   "metadata": {
    "ExecuteTime": {
     "end_time": "2025-01-07T16:36:35.211935Z",
     "start_time": "2025-01-07T16:36:35.189754Z"
    }
   },
   "cell_type": "code",
   "source": [
    "# Prepare few-shot examples for Stat, Mat, and Banking datasets\n",
    "few_shot_examples_stat = prepare_few_shot_examples_for_stat_mat(evaluation_data_stat_rand, remaining_data_stat)\n",
    "few_shot_examples_mat = prepare_few_shot_examples_for_stat_mat(evaluation_data_mat_rand, remaining_data_mat)\n",
    "few_shot_examples_banking = prepare_few_shot_examples_for_banking(evaluation_data_banking_rand, remaining_data_banking)\n",
    "\n",
    "# Get unique task IDs for each dataset\n",
    "stat_task_ids = {entry[\"task_id\"] for entry in evaluation_data_stat_rand}\n",
    "mat_task_ids = {entry[\"task_id\"] for entry in evaluation_data_mat_rand}\n",
    "banking_task_ids = {entry[\"task_id\"] for entry in evaluation_data_banking_rand}\n",
    "\n",
    "print(f\"Total unique tasks in Stat stratified: {len(stat_task_ids)}\")\n",
    "print(f\"Total unique tasks in Mat stratified: {len(mat_task_ids)}\")\n",
    "print(f\"Total unique tasks in Banking stratified: {len(banking_task_ids)}\")\n",
    "\n",
    "# Check for overlaps between datasets\n",
    "stat_mat_overlap = stat_task_ids.intersection(mat_task_ids)\n",
    "stat_banking_overlap = stat_task_ids.intersection(banking_task_ids)\n",
    "mat_banking_overlap = mat_task_ids.intersection(banking_task_ids)\n",
    "\n",
    "print(f\"Overlap in Stat and Mat task IDs: {len(stat_mat_overlap)}\")\n",
    "print(f\"Overlap in Stat and Banking task IDs: {len(stat_banking_overlap)}\")\n",
    "print(f\"Overlap in Mat and Banking task IDs: {len(mat_banking_overlap)}\")\n",
    "\n",
    "# Check course slugs in remaining data\n",
    "stat_remaining_courses = {entry[\"course_slug\"] for entries in remaining_data_stat.values() for entry in entries}\n",
    "mat_remaining_courses = {entry[\"course_slug\"] for entries in remaining_data_mat.values() for entry in entries}\n",
    "banking_remaining_courses = {entry[\"course_slug\"] for entries in remaining_data_banking.values() for entry in entries}\n",
    "\n",
    "print(f\"Courses in Stat remaining data: {stat_remaining_courses}\")\n",
    "print(f\"Courses in Mat remaining data: {mat_remaining_courses}\")\n",
    "print(f\"Courses in Banking remaining data: {banking_remaining_courses}\")\n",
    "\n",
    "# Few-shot example counts\n",
    "print(f\"Few-Shot Examples (Stat): {len(few_shot_examples_stat)} tasks\")\n",
    "print(f\"Few-Shot Examples (Mat): {len(few_shot_examples_mat)} tasks\")\n",
    "print(f\"Few-Shot Examples (Banking): {len(few_shot_examples_banking)} tasks\")\n",
    "\n",
    "# Check task IDs in the few-shot examples for each dataset\n",
    "stat_few_shot_task_ids = set(few_shot_examples_stat.keys())\n",
    "mat_few_shot_task_ids = set(few_shot_examples_mat.keys())\n",
    "banking_few_shot_task_ids = set(few_shot_examples_banking.keys())\n",
    "\n",
    "print(f\"Task IDs in Stat Few-Shot: {stat_few_shot_task_ids}\")\n",
    "print(f\"Task IDs in Mat Few-Shot: {mat_few_shot_task_ids}\")\n",
    "print(f\"Task IDs in Banking Few-Shot: {banking_few_shot_task_ids}\")\n",
    "\n",
    "# Filter remaining submissions by course_slug for each dataset\n",
    "remaining_data_stat = {\n",
    "    task_id: entries\n",
    "    for task_id, entries in remaining_data_stat.items()\n",
    "    if any(entry[\"course_slug\"] == \"fs24-sta120\" for entry in entries)\n",
    "}\n",
    "\n",
    "remaining_data_mat = {\n",
    "    task_id: entries\n",
    "    for task_id, entries in remaining_data_mat.items()\n",
    "    if any(entry[\"course_slug\"] == \"fs24-mat183\" for entry in entries)\n",
    "}\n",
    "\n",
    "remaining_data_banking = {\n",
    "    task_id: entries\n",
    "    for task_id, entries in remaining_data_banking.items()\n",
    "    if any(entry[\"course_slug\"] == \"fs24-banking\" for entry in entries)\n",
    "}\n",
    "\n",
    "print(f\"Filtered remaining tasks for Stat: {len(remaining_data_stat)}\")\n",
    "print(f\"Filtered remaining tasks for Mat: {len(remaining_data_mat)}\")\n",
    "print(f\"Filtered remaining tasks for Banking: {len(remaining_data_banking)}\")\n"
   ],
   "id": "5501269416b535c9",
   "outputs": [
    {
     "name": "stdout",
     "output_type": "stream",
     "text": [
      "Total unique tasks in Stat stratified: 10\n",
      "Total unique tasks in Mat stratified: 10\n",
      "Total unique tasks in Banking stratified: 10\n",
      "Overlap in Stat and Mat task IDs: 0\n",
      "Overlap in Stat and Banking task IDs: 0\n",
      "Overlap in Mat and Banking task IDs: 0\n",
      "Courses in Stat remaining data: {'fs24-sta120'}\n",
      "Courses in Mat remaining data: {'fs24-mat183'}\n",
      "Courses in Banking remaining data: {'fs24-banking'}\n",
      "Few-Shot Examples (Stat): 9 tasks\n",
      "Few-Shot Examples (Mat): 10 tasks\n",
      "Few-Shot Examples (Banking): 10 tasks\n",
      "Task IDs in Stat Few-Shot: {609, 610, 707, 772, 712, 809, 754, 855, 766}\n",
      "Task IDs in Mat Few-Shot: {860, 560, 660, 661, 758, 503, 757, 763, 764, 702}\n",
      "Task IDs in Banking Few-Shot: {'banking_13_12', 'banking_9_8', 'banking_18_17', 'banking_14_13', 'banking_16_15', 'banking_15_14', 'banking_17_16', 'banking_7_6', 'banking_12_11', 'banking_11_10'}\n",
      "Filtered remaining tasks for Stat: 61\n",
      "Filtered remaining tasks for Mat: 52\n",
      "Filtered remaining tasks for Banking: 19\n"
     ]
    }
   ],
   "execution_count": 213
  },
  {
   "metadata": {
    "ExecuteTime": {
     "end_time": "2025-01-07T13:52:51.281558Z",
     "start_time": "2025-01-07T13:46:36.758128Z"
    }
   },
   "cell_type": "code",
   "source": "bank_tracker_few_shot, bank_accuracy_few_shot, bank_logs_few_shot, bank_bias_few_shot = parallel_evaluate(evaluation_data_banking_rand, func=evaluate, num_threads=num_threads, batch_size=batch_size, solution=True, voting=3, cot=True, few_shot_examples=few_shot_examples_banking)",
   "id": "b75512a9a36ec2dd",
   "outputs": [
    {
     "data": {
      "text/plain": [
       "Evaluating submissions:   0%|          | 0/50 [00:00<?, ?it/s]"
      ],
      "application/vnd.jupyter.widget-view+json": {
       "version_major": 2,
       "version_minor": 0,
       "model_id": "4d94f92c34584a27a0f3b88f0966f589"
      }
     },
     "metadata": {},
     "output_type": "display_data"
    },
    {
     "data": {
      "text/plain": [
       "Evaluating submissions:   0%|          | 0/50 [00:00<?, ?it/s]"
      ],
      "application/vnd.jupyter.widget-view+json": {
       "version_major": 2,
       "version_minor": 0,
       "model_id": "836923617591492b93d56c8a089d7327"
      }
     },
     "metadata": {},
     "output_type": "display_data"
    }
   ],
   "execution_count": 136
  },
  {
   "metadata": {
    "ExecuteTime": {
     "end_time": "2025-01-07T14:00:45.199040Z",
     "start_time": "2025-01-07T14:00:45.197134Z"
    }
   },
   "cell_type": "code",
   "source": [
    "num_threads = 4\n",
    "batch_size = 25 # 100/4"
   ],
   "id": "8c49714d9d24b939",
   "outputs": [],
   "execution_count": 141
  },
  {
   "metadata": {
    "ExecuteTime": {
     "end_time": "2025-01-07T14:16:30.331154Z",
     "start_time": "2025-01-07T14:13:05.779145Z"
    }
   },
   "cell_type": "code",
   "source": "stat_tracker_few_shot, stat_accuracy_few_shot, stat_logs_few_shot, stat_bias_few_shot = parallel_evaluate(evaluation_data_stat_rand, func=evaluate, num_threads=num_threads, batch_size=batch_size, solution=True, voting=3, cot=True, few_shot_examples=few_shot_examples_stat)",
   "id": "b580a99a5cbbff56",
   "outputs": [
    {
     "data": {
      "text/plain": [
       "Evaluating submissions:   0%|          | 0/25 [00:00<?, ?it/s]"
      ],
      "application/vnd.jupyter.widget-view+json": {
       "version_major": 2,
       "version_minor": 0,
       "model_id": "7adef444695a4932ae94721866afba7e"
      }
     },
     "metadata": {},
     "output_type": "display_data"
    },
    {
     "data": {
      "text/plain": [
       "Evaluating submissions:   0%|          | 0/25 [00:00<?, ?it/s]"
      ],
      "application/vnd.jupyter.widget-view+json": {
       "version_major": 2,
       "version_minor": 0,
       "model_id": "72792da7ec844a03a3bc05d7a05d3e22"
      }
     },
     "metadata": {},
     "output_type": "display_data"
    },
    {
     "data": {
      "text/plain": [
       "Evaluating submissions:   0%|          | 0/25 [00:00<?, ?it/s]"
      ],
      "application/vnd.jupyter.widget-view+json": {
       "version_major": 2,
       "version_minor": 0,
       "model_id": "46872a104abc48f89eaea0acac8fccca"
      }
     },
     "metadata": {},
     "output_type": "display_data"
    },
    {
     "data": {
      "text/plain": [
       "Evaluating submissions:   0%|          | 0/25 [00:00<?, ?it/s]"
      ],
      "application/vnd.jupyter.widget-view+json": {
       "version_major": 2,
       "version_minor": 0,
       "model_id": "0d401d66baee4206916cf9fa3cabee08"
      }
     },
     "metadata": {},
     "output_type": "display_data"
    }
   ],
   "execution_count": 149
  },
  {
   "metadata": {
    "ExecuteTime": {
     "end_time": "2025-01-07T20:05:32.205066Z",
     "start_time": "2025-01-07T20:01:36.999890Z"
    }
   },
   "cell_type": "code",
   "source": "mat_tracker_few_shot, mat_accuracy_few_shot, mat_logs_few_shot, mat_bias_few_shot = parallel_evaluate(evaluation_data_mat_rand, func=evaluate, num_threads=num_threads, batch_size=batch_size, solution=True, voting=3, cot=False, few_shot_examples=few_shot_examples_mat)",
   "id": "5354bf2aecf64ef3",
   "outputs": [
    {
     "data": {
      "text/plain": [
       "Evaluating submissions:   0%|          | 0/25 [00:00<?, ?it/s]"
      ],
      "application/vnd.jupyter.widget-view+json": {
       "version_major": 2,
       "version_minor": 0,
       "model_id": "23b2da5640bd4590ad7bedbcbd6baf11"
      }
     },
     "metadata": {},
     "output_type": "display_data"
    },
    {
     "data": {
      "text/plain": [
       "Evaluating submissions:   0%|          | 0/25 [00:00<?, ?it/s]"
      ],
      "application/vnd.jupyter.widget-view+json": {
       "version_major": 2,
       "version_minor": 0,
       "model_id": "b5c54033d395400b9d53287d750f9170"
      }
     },
     "metadata": {},
     "output_type": "display_data"
    },
    {
     "data": {
      "text/plain": [
       "Evaluating submissions:   0%|          | 0/25 [00:00<?, ?it/s]"
      ],
      "application/vnd.jupyter.widget-view+json": {
       "version_major": 2,
       "version_minor": 0,
       "model_id": "2ff0f8a10e7444d5962a629f6adae949"
      }
     },
     "metadata": {},
     "output_type": "display_data"
    },
    {
     "data": {
      "text/plain": [
       "Evaluating submissions:   0%|          | 0/25 [00:00<?, ?it/s]"
      ],
      "application/vnd.jupyter.widget-view+json": {
       "version_major": 2,
       "version_minor": 0,
       "model_id": "6e374caa382344a4bfe12562e76bb388"
      }
     },
     "metadata": {},
     "output_type": "display_data"
    }
   ],
   "execution_count": 230
  },
  {
   "metadata": {},
   "cell_type": "markdown",
   "source": [
    "### Few Shot without CoT and voting\n",
    "For the sake of comparison, we can evaluate the datasets with few-shot learning but without CoT or voting. This will help us understand the impact of these strategies on the evaluation results better."
   ],
   "id": "fb88a52a25dbbd55"
  },
  {
   "metadata": {
    "ExecuteTime": {
     "end_time": "2025-01-07T16:29:48.246656Z",
     "start_time": "2025-01-07T16:25:25.495436Z"
    }
   },
   "cell_type": "code",
   "source": "bank_tracker_few_shot_no_cot_no_voting, bank_accuracy_few_shot_no_cot_no_voting, bank_logs_few_shot_no_cot_no_voting, bank_bias_few_shot_no_cot_no_voting = parallel_evaluate(evaluation_data_banking_rand, func=evaluate, num_threads=num_threads, batch_size=batch_size, solution=True, voting=1, cot=False, few_shot_examples=few_shot_examples_banking)",
   "id": "851dc9000344ba04",
   "outputs": [
    {
     "data": {
      "text/plain": [
       "Evaluating submissions:   0%|          | 0/25 [00:00<?, ?it/s]"
      ],
      "application/vnd.jupyter.widget-view+json": {
       "version_major": 2,
       "version_minor": 0,
       "model_id": "bdc8ad6933994d2a93c8aee1d36a10a0"
      }
     },
     "metadata": {},
     "output_type": "display_data"
    },
    {
     "data": {
      "text/plain": [
       "Evaluating submissions:   0%|          | 0/25 [00:00<?, ?it/s]"
      ],
      "application/vnd.jupyter.widget-view+json": {
       "version_major": 2,
       "version_minor": 0,
       "model_id": "5a6124ca2859413891e9d0c02623812b"
      }
     },
     "metadata": {},
     "output_type": "display_data"
    },
    {
     "data": {
      "text/plain": [
       "Evaluating submissions:   0%|          | 0/25 [00:00<?, ?it/s]"
      ],
      "application/vnd.jupyter.widget-view+json": {
       "version_major": 2,
       "version_minor": 0,
       "model_id": "5e261ca008a041508cde4dea2a36fd38"
      }
     },
     "metadata": {},
     "output_type": "display_data"
    },
    {
     "data": {
      "text/plain": [
       "Evaluating submissions:   0%|          | 0/25 [00:00<?, ?it/s]"
      ],
      "application/vnd.jupyter.widget-view+json": {
       "version_major": 2,
       "version_minor": 0,
       "model_id": "49d4e3ebfbe140689453086df0d1c623"
      }
     },
     "metadata": {},
     "output_type": "display_data"
    }
   ],
   "execution_count": 197
  },
  {
   "metadata": {},
   "cell_type": "markdown",
   "source": [
    "### All strategies with GPT 4o\n",
    "The model was changed in the backend specifically to the 4o model instead of 4o-mini. This is much more expensive and the rate limit is lower so we opted to doing this only once with all strategies applied. It is to be noted that this might run into rate limits, so voting could be omitted."
   ],
   "id": "2240158ab74aeabf"
  },
  {
   "metadata": {
    "ExecuteTime": {
     "end_time": "2025-01-08T15:26:36.648455Z",
     "start_time": "2025-01-08T15:26:36.642071Z"
    }
   },
   "cell_type": "code",
   "source": [
    "num_threads = 1 # So we don't run into rate limits.\n",
    "batch_size = 100 # 100/4"
   ],
   "id": "cc3619d5201764f6",
   "outputs": [],
   "execution_count": 256
  },
  {
   "metadata": {
    "ExecuteTime": {
     "end_time": "2025-01-07T20:19:11.365659Z",
     "start_time": "2025-01-07T20:12:37.030261Z"
    }
   },
   "cell_type": "code",
   "source": "bank_tracker_4o, bank_accuracy_4o, bank_logs_4o, bank_bias_4o = parallel_evaluate(evaluation_data_banking_rand, func=evaluate, num_threads=num_threads, batch_size=batch_size, solution=True, voting=3, cot=True, few_shot_examples=few_shot_examples_banking)",
   "id": "2bd04866ca371b7d",
   "outputs": [
    {
     "data": {
      "text/plain": [
       "Evaluating submissions:   0%|          | 0/100 [00:00<?, ?it/s]"
      ],
      "application/vnd.jupyter.widget-view+json": {
       "version_major": 2,
       "version_minor": 0,
       "model_id": "b0bfd42774b34ee183e0939162f95bfd"
      }
     },
     "metadata": {},
     "output_type": "display_data"
    }
   ],
   "execution_count": 239
  },
  {
   "metadata": {
    "ExecuteTime": {
     "end_time": "2025-01-08T06:43:53.456796Z",
     "start_time": "2025-01-08T06:37:48.113329Z"
    }
   },
   "cell_type": "code",
   "source": "stat_tracker_4o, stat_accuracy_4o, stat_logs_4o, stat_bias_4o = parallel_evaluate(evaluation_data_stat_rand, func=evaluate, num_threads=num_threads, batch_size=batch_size, solution=True, voting=3, cot=True, few_shot_examples=few_shot_examples_stat)",
   "id": "9fe80eae796dfb7b",
   "outputs": [
    {
     "data": {
      "text/plain": [
       "Evaluating submissions:   0%|          | 0/100 [00:00<?, ?it/s]"
      ],
      "application/vnd.jupyter.widget-view+json": {
       "version_major": 2,
       "version_minor": 0,
       "model_id": "a48b122cb4dd49d39ffc6faaeebcfb81"
      }
     },
     "metadata": {},
     "output_type": "display_data"
    }
   ],
   "execution_count": 247
  },
  {
   "metadata": {
    "ExecuteTime": {
     "end_time": "2025-01-08T06:51:15.709300Z",
     "start_time": "2025-01-08T06:45:46.333939Z"
    }
   },
   "cell_type": "code",
   "source": "mat_tracker_4o, mat_accuracy_4o, mat_logs_4o, mat_bias_4o = parallel_evaluate(evaluation_data_mat_rand, func=evaluate, num_threads=num_threads, batch_size=batch_size, solution=True, voting=3, cot=True, few_shot_examples=few_shot_examples_stat)",
   "id": "f72e091abd5d5f7",
   "outputs": [
    {
     "data": {
      "text/plain": [
       "Evaluating submissions:   0%|          | 0/100 [00:00<?, ?it/s]"
      ],
      "application/vnd.jupyter.widget-view+json": {
       "version_major": 2,
       "version_minor": 0,
       "model_id": "d51ab040fc0a4b7cab518e27c6a69df2"
      }
     },
     "metadata": {},
     "output_type": "display_data"
    }
   ],
   "execution_count": 249
  },
  {
   "metadata": {},
   "cell_type": "markdown",
   "source": "## Save the results",
   "id": "9d743393a0d6103e"
  },
  {
   "metadata": {
    "ExecuteTime": {
     "end_time": "2025-01-08T07:14:29.693620Z",
     "start_time": "2025-01-08T07:14:29.685916Z"
    }
   },
   "cell_type": "code",
   "source": [
    "\n",
    "def save_evaluation_result_with_versioning(tracker, filename, folder):\n",
    "    \"\"\"\n",
    "    Save the evaluation results from a list of dictionaries to a CSV file, appending the current date to the file name.\n",
    "\n",
    "    Args:\n",
    "        tracker (list): A list of dictionaries containing evaluation data.\n",
    "        filename (str): The base name of the file to save the results to.\n",
    "        folder (str): The folder where the file should be saved.\n",
    "    \"\"\"\n",
    "\n",
    "    # Ensure the folder exists\n",
    "    if not os.path.exists(folder):\n",
    "        os.makedirs(folder, exist_ok=True)\n",
    "\n",
    "    # Define the full path for the file\n",
    "    full_path = os.path.join(folder, filename)\n",
    "\n",
    "    # Convert the tracker list to a DataFrame\n",
    "    df = pd.DataFrame(tracker)\n",
    "\n",
    "    # Save the resulting DataFrame to the file\n",
    "    df.to_csv(full_path, index=False)\n",
    "\n",
    "    # Return the full path for verification\n",
    "    return full_path\n"
   ],
   "id": "182ac693cf134466",
   "outputs": [],
   "execution_count": 254
  },
  {
   "metadata": {
    "ExecuteTime": {
     "end_time": "2025-01-08T07:14:31.728261Z",
     "start_time": "2025-01-08T07:14:31.620560Z"
    }
   },
   "cell_type": "code",
   "source": [
    "\n",
    "\n",
    "save_evaluation_result_with_versioning(stat_tracker_no_solutions, 'stat_evaluation_no_solutions_result.csv', 'results')\n",
    "save_evaluation_result_with_versioning(mat_tracker_no_solutions, 'mat_evaluation_no_solutions_result.csv', 'results')\n",
    "save_evaluation_result_with_versioning(bank_tracker_no_solutions, 'bank_evaluation_no_solutions_result.csv', 'results')\n",
    "\n",
    "save_evaluation_result_with_versioning(stat_tracker, 'stat_evaluation_result.csv', 'results')\n",
    "save_evaluation_result_with_versioning(mat_tracker, 'mat_evaluation_result.csv', 'results')\n",
    "save_evaluation_result_with_versioning(bank_tracker, 'bank_evaluation_result.csv', 'results')\n",
    "\n",
    "save_evaluation_result_with_versioning(stat_tracker_voting, 'stat_evaluation_voting_result.csv', 'results')\n",
    "save_evaluation_result_with_versioning(mat_tracker_voting, 'mat_evaluation_voting_result.csv', 'results')\n",
    "save_evaluation_result_with_versioning(bank_tracker_voting, 'bank_evaluation_voting_result.csv', 'results')\n",
    "\n",
    "save_evaluation_result_with_versioning(stat_tracker_cot, 'stat_evaluation_voting_cot_result.csv', 'results')\n",
    "save_evaluation_result_with_versioning(mat_tracker_cot, 'mat_evaluation_voting_cot_result.csv', 'results')\n",
    "save_evaluation_result_with_versioning(bank_tracker_cot, 'bank_evaluation_voting_cot_result.csv', 'results')\n",
    "\n",
    "save_evaluation_result_with_versioning(stat_tracker_few_shot, 'stat_evaluation_few_shot_result.csv', 'results')\n",
    "save_evaluation_result_with_versioning(mat_tracker_few_shot, 'mat_evaluation_few_shot_result.csv', 'results')\n",
    "save_evaluation_result_with_versioning(bank_tracker_few_shot, 'bank_evaluation_few_shot_result.csv', 'results')\n",
    "\n",
    "save_evaluation_result_with_versioning(stat_tracker_4o, 'stat_evaluation_4o_result.csv', 'results')\n",
    "save_evaluation_result_with_versioning(mat_tracker_4o, 'mat_evaluation_4o_result.csv', 'results')\n",
    "save_evaluation_result_with_versioning(bank_tracker_4o, 'bank_evaluation_4o_result.csv', 'results')\n",
    "\n"
   ],
   "id": "9221778a79aebfb1",
   "outputs": [
    {
     "data": {
      "text/plain": [
       "'results/bank_evaluation_4o_result.csv'"
      ]
     },
     "execution_count": 255,
     "metadata": {},
     "output_type": "execute_result"
    }
   ],
   "execution_count": 255
  }
 ],
 "metadata": {
  "kernelspec": {
   "display_name": "Python 3",
   "language": "python",
   "name": "python3"
  },
  "language_info": {
   "codemirror_mode": {
    "name": "ipython",
    "version": 2
   },
   "file_extension": ".py",
   "mimetype": "text/x-python",
   "name": "python",
   "nbconvert_exporter": "python",
   "pygments_lexer": "ipython2",
   "version": "2.7.6"
  }
 },
 "nbformat": 4,
 "nbformat_minor": 5
}
