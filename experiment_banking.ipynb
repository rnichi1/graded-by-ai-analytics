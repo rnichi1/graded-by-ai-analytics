{
 "cells": [
  {
   "metadata": {
    "ExecuteTime": {
     "end_time": "2024-12-13T08:47:34.046275Z",
     "start_time": "2024-12-13T08:47:34.039013Z"
    }
   },
   "cell_type": "code",
   "source": [
    "import copy\n",
    "import requests\n",
    "from tqdm.notebook import tqdm\n",
    "\n",
    "\n"
   ],
   "id": "42ed5cbcd36ec595",
   "outputs": [],
   "execution_count": 211
  },
  {
   "metadata": {
    "ExecuteTime": {
     "end_time": "2024-12-13T08:47:34.063325Z",
     "start_time": "2024-12-13T08:47:34.059472Z"
    }
   },
   "cell_type": "code",
   "source": [
    "from helpers.parallel_evaluate import parallel_evaluate\n",
    "\n",
    "# For Parallel Evaluation\n",
    "num_threads = 4\n",
    "batch_size = 250"
   ],
   "id": "b4f5fdd144c76057",
   "outputs": [],
   "execution_count": 212
  },
  {
   "metadata": {
    "ExecuteTime": {
     "end_time": "2024-12-13T08:47:34.066992Z",
     "start_time": "2024-12-13T08:47:34.064714Z"
    }
   },
   "cell_type": "code",
   "source": [
    "import pandas as pd\n",
    "\n",
    "def filter_grading_data_by_points(grading_data: pd.DataFrame) -> pd.DataFrame:\n",
    "    \"\"\"\n",
    "    Filters the grading data to remove rows where points are not divisible by 0.5.\n",
    "    \n",
    "    Args:\n",
    "        grading_data (pd.DataFrame): The DataFrame containing grading data, including a 'points_assigned' column.\n",
    "    \n",
    "    Returns:\n",
    "        pd.DataFrame: The filtered DataFrame with only rows where points are divisible by 0.5.\n",
    "    \"\"\"\n",
    "    # Ensure the 'points_assigned' column exists\n",
    "    if 'points_assigned' not in grading_data.columns:\n",
    "        raise ValueError(\"The 'points_assigned' column is missing from the grading data.\")\n",
    "    \n",
    "    # Filter rows where 'points_assigned' is divisible by 0.5\n",
    "    filtered_data = grading_data[grading_data['points_assigned'] % 0.5 == 0]\n",
    "    \n",
    "    return filtered_data\n"
   ],
   "id": "5cf6536b2eb9072b",
   "outputs": [],
   "execution_count": 213
  },
  {
   "metadata": {
    "ExecuteTime": {
     "end_time": "2024-12-13T08:47:50.774398Z",
     "start_time": "2024-12-13T08:47:34.067632Z"
    }
   },
   "cell_type": "code",
   "source": [
    "import pandas as pd\n",
    "\n",
    "# Load CSVs\n",
    "exam_data_path = \"data_banking/exam_data.csv\"\n",
    "grading_data_path = \"data_banking/grading.csv\"\n",
    "adjustments_data_path = \"data_banking/point_adjustments.csv\"\n",
    "responses_data_path = \"data_banking/responses.csv\"\n",
    "\n",
    "# Load CSVs into DataFrames\n",
    "exam_data = pd.read_csv(exam_data_path)\n",
    "grading_data = pd.read_csv(grading_data_path)\n",
    "\n",
    "# Remove inconsistent point allocations so accuracy computation is not impacted.\n",
    "grading_data = filter_grading_data_by_points(grading_data)\n",
    "\n",
    "responses_data = pd.read_csv(responses_data_path)\n",
    "\n",
    "data = []\n",
    "\n",
    "# Iterate over rows in `responses_data`\n",
    "for _, submission in responses_data.iterrows():\n",
    "    \n",
    "    rubrics = []\n",
    "    for _, d in exam_data.iterrows():\n",
    "        if (\n",
    "            d[\"exam_id\"] == submission[\"exam_id\"]\n",
    "            and d[\"exercise_id\"] == submission[\"exercise_id\"]\n",
    "            and d[\"exercise_index\"] == submission[\"exercise_index\"]\n",
    "        ):\n",
    "            # Find the points assigned from grading_data\n",
    "            points_assigned = grading_data.loc[\n",
    "                (grading_data[\"answer_identifier\"] == submission[\"answer_identifier\"]) &\n",
    "                (grading_data[\"rubric_id\"] == d[\"rubric_id\"]),\n",
    "                \"points_assigned\"\n",
    "            ].values\n",
    "            rubrics.append(\n",
    "                {\n",
    "                    \"id\": str(d[\"rubric_id\"]),\n",
    "                    \"title\": d[\"rubric_title\"],\n",
    "                    \"points\": d[\"rubric_points\"],\n",
    "                    \"points_assigned\": points_assigned[0] if len(points_assigned) > 0 else 0\n",
    "                }\n",
    "            )\n",
    "    data.append({\n",
    "        \"question\": exam_data.loc[\n",
    "            (exam_data[\"exam_id\"] == submission[\"exam_id\"]) &\n",
    "            (exam_data[\"exercise_id\"] == submission[\"exercise_id\"]) &\n",
    "            (exam_data[\"exercise_index\"] == submission[\"exercise_index\"]),\n",
    "            \"exercise_questions\"\n",
    "        ].values[0] if not exam_data.empty else \"\",  # Question text from exam_data\n",
    "        \"answer\": submission.get(\"student_answer\", \"\"),  # Student's answer4\n",
    "        \"maxPoints\": exam_data.loc[\n",
    "            (exam_data[\"exam_id\"] == submission[\"exam_id\"]) &\n",
    "            (exam_data[\"exercise_id\"] == submission[\"exercise_id\"]) &\n",
    "            (exam_data[\"exercise_index\"] == submission[\"exercise_index\"]),\n",
    "            \"exercise_points\"\n",
    "        ].values[0] if not exam_data.empty else 0,  # Max points for the exercise\n",
    "        \"minPoints\": 0,  # Assuming minPoints is not provided explicitly in the data\n",
    "        \"rubrics\": rubrics,  # Constructed rubrics list\n",
    "        \"pointStep\": 0.5,  # Default point step\n",
    "        \"llmType\": \"gpt\"  # Static field\n",
    "    })\n",
    "\n",
    "\n",
    "print(len(data))\n",
    "print(data[:5])"
   ],
   "id": "972a1461a0e9a08d",
   "outputs": [
    {
     "name": "stdout",
     "output_type": "stream",
     "text": [
      "3819\n",
      "[{'question': 'Bank A vergibt auf der Aktivseite nur Kredite mit einer Laufzeit von mindestens 10 Jahren, während Bank B nur Kredite mit einer Laufzeit bis maximal 7 Jahre vergibt. Auf der Passiv-seite nehmen beide Banken gleichermassen Depositen an und haben nach allem, was man weiss, vergleichbare Depositoren. Keine der Banken nutzt andere Instrumente, die das Zins-risiko beeinflussen. Welchen Teilen des Zinsrisikos sind die beiden Banken ausgesetzt? Begründe deine Antworten.', 'answer': 'Markstrukturrisiko: Das aufgrund der Makrtsturkturänderung von seiten des Kunden die Zinskosten nicht mehr bezahlt werden können und so ein verlust für die bank resultiert. \\\\n Zinsbindungsdauerrisiko: Aufgrund der Unterschiedlichen Zinsbindungsdauer, kann es sein dass der passivzins angepasst werden muss und aber der Aktivzins für die Hypothek fest bleibt und sich dadurch die Marge verkleiner rsp. negativ werden könnte', 'maxPoints': np.float64(2.0), 'minPoints': 0, 'rubrics': [{'id': '1', 'title': 'Die Antwort nennt das Repricing Risk.', 'points': 0.5, 'points_assigned': np.float64(0.5)}, {'id': '2', 'title': 'Die Antwort beschreibt das Repricing Risk so, dass sich Aktiv- und Passivzinsen zu unterschiedlichen Zeiten ändern, da sie unterschiedliche Zinsbindungsdauern besitzen.', 'points': 0.5, 'points_assigned': np.float64(0.5)}, {'id': '3', 'title': 'Die Antwort nennt das Yield Curve Risk.', 'points': 0.5, 'points_assigned': np.float64(0.0)}, {'id': '4', 'title': 'Die Antwort beschreibt das Yield Curve Risk so, dass die Zinskurve steiler oder flacher wird, also dass sich kurz- und langfristige Zinsen unterschiedlich stark verändern.', 'points': 0.5, 'points_assigned': np.float64(0.0)}], 'pointStep': 0.5, 'llmType': 'gpt'}, {'question': 'Bank A vergibt auf der Aktivseite nur Kredite mit einer Laufzeit von mindestens 10 Jahren, während Bank B nur Kredite mit einer Laufzeit bis maximal 7 Jahre vergibt. Auf der Passiv-seite nehmen beide Banken gleichermassen Depositen an und haben nach allem, was man weiss, vergleichbare Depositoren. Keine der Banken nutzt andere Instrumente, die das Zins-risiko beeinflussen. Welchen Teilen des Zinsrisikos sind die beiden Banken ausgesetzt? Begründe deine Antworten.', 'answer': 'Basis Risk: \\\\n Unterschiedliches Risiko der Aktiv- und Passivzinsen aufgrund von unterschliedlichen Zinsbindungsdauern.', 'maxPoints': np.float64(2.0), 'minPoints': 0, 'rubrics': [{'id': '1', 'title': 'Die Antwort nennt das Repricing Risk.', 'points': 0.5, 'points_assigned': np.float64(0.0)}, {'id': '2', 'title': 'Die Antwort beschreibt das Repricing Risk so, dass sich Aktiv- und Passivzinsen zu unterschiedlichen Zeiten ändern, da sie unterschiedliche Zinsbindungsdauern besitzen.', 'points': 0.5, 'points_assigned': np.float64(0.5)}, {'id': '3', 'title': 'Die Antwort nennt das Yield Curve Risk.', 'points': 0.5, 'points_assigned': np.float64(0.0)}, {'id': '4', 'title': 'Die Antwort beschreibt das Yield Curve Risk so, dass die Zinskurve steiler oder flacher wird, also dass sich kurz- und langfristige Zinsen unterschiedlich stark verändern.', 'points': 0.5, 'points_assigned': np.float64(0.0)}], 'pointStep': 0.5, 'llmType': 'gpt'}, {'question': 'Bank A vergibt auf der Aktivseite nur Kredite mit einer Laufzeit von mindestens 10 Jahren, während Bank B nur Kredite mit einer Laufzeit bis maximal 7 Jahre vergibt. Auf der Passiv-seite nehmen beide Banken gleichermassen Depositen an und haben nach allem, was man weiss, vergleichbare Depositoren. Keine der Banken nutzt andere Instrumente, die das Zins-risiko beeinflussen. Welchen Teilen des Zinsrisikos sind die beiden Banken ausgesetzt? Begründe deine Antworten.', 'answer': 'Sie haben beide das Problem der Liquidität, da bei beiden Banken die Depositen jederzeit abgehoben werden können, die Kredite aber längerfristig gebunden sind. Zudem haben sie das Risiko der Zinsbindungsdauer, da die Zinsbindung der Aktivseite meist länger ist wie die Zinsbindung der Passivseite.', 'maxPoints': np.float64(2.0), 'minPoints': 0, 'rubrics': [{'id': '1', 'title': 'Die Antwort nennt das Repricing Risk.', 'points': 0.5, 'points_assigned': np.float64(0.0)}, {'id': '2', 'title': 'Die Antwort beschreibt das Repricing Risk so, dass sich Aktiv- und Passivzinsen zu unterschiedlichen Zeiten ändern, da sie unterschiedliche Zinsbindungsdauern besitzen.', 'points': 0.5, 'points_assigned': np.float64(0.5)}, {'id': '3', 'title': 'Die Antwort nennt das Yield Curve Risk.', 'points': 0.5, 'points_assigned': np.float64(0.5)}, {'id': '4', 'title': 'Die Antwort beschreibt das Yield Curve Risk so, dass die Zinskurve steiler oder flacher wird, also dass sich kurz- und langfristige Zinsen unterschiedlich stark verändern.', 'points': 0.5, 'points_assigned': np.float64(0.0)}], 'pointStep': 0.5, 'llmType': 'gpt'}, {'question': 'Bank A vergibt auf der Aktivseite nur Kredite mit einer Laufzeit von mindestens 10 Jahren, während Bank B nur Kredite mit einer Laufzeit bis maximal 7 Jahre vergibt. Auf der Passiv-seite nehmen beide Banken gleichermassen Depositen an und haben nach allem, was man weiss, vergleichbare Depositoren. Keine der Banken nutzt andere Instrumente, die das Zins-risiko beeinflussen. Welchen Teilen des Zinsrisikos sind die beiden Banken ausgesetzt? Begründe deine Antworten.', 'answer': 'Die Banken haben durch die  unterschieldiche Zinsbindungsdauer zwischen Aktiv und Passivseite ein gewisses Zinsänderungsrisiko. Wenn der Zins steigt müssen sie den Depositoren einen höheren Zins zahlen wobei die Kredite einen fixen Zins haben. Ebenfalls ein Problem der langen Zinsbindungsdauer ist, wenn die Depositoren ihr Geld abziehen wollen, dann kann die Bank das Geld, dass sie in Kredite langfristig angelegt hat, nicht oder nur zu hohen Kosten liquidieren.', 'maxPoints': np.float64(2.0), 'minPoints': 0, 'rubrics': [{'id': '1', 'title': 'Die Antwort nennt das Repricing Risk.', 'points': 0.5, 'points_assigned': np.float64(0.0)}, {'id': '2', 'title': 'Die Antwort beschreibt das Repricing Risk so, dass sich Aktiv- und Passivzinsen zu unterschiedlichen Zeiten ändern, da sie unterschiedliche Zinsbindungsdauern besitzen.', 'points': 0.5, 'points_assigned': np.float64(0.5)}, {'id': '3', 'title': 'Die Antwort nennt das Yield Curve Risk.', 'points': 0.5, 'points_assigned': np.float64(0.5)}, {'id': '4', 'title': 'Die Antwort beschreibt das Yield Curve Risk so, dass die Zinskurve steiler oder flacher wird, also dass sich kurz- und langfristige Zinsen unterschiedlich stark verändern.', 'points': 0.5, 'points_assigned': np.float64(0.0)}], 'pointStep': 0.5, 'llmType': 'gpt'}, {'question': 'Bank A vergibt auf der Aktivseite nur Kredite mit einer Laufzeit von mindestens 10 Jahren, während Bank B nur Kredite mit einer Laufzeit bis maximal 7 Jahre vergibt. Auf der Passiv-seite nehmen beide Banken gleichermassen Depositen an und haben nach allem, was man weiss, vergleichbare Depositoren. Keine der Banken nutzt andere Instrumente, die das Zins-risiko beeinflussen. Welchen Teilen des Zinsrisikos sind die beiden Banken ausgesetzt? Begründe deine Antworten.', 'answer': 'Beide Banken haben längere Zinsbindungsdauern auf der Aktivseite (kreditvergabe) als auf der Passivseite (Depositen). \\\\n Sie sind dem Basisrisk ausgesetzt. \\\\n Zudem sind die dem allgemeinen Zinsrisko ausgesetzt, was auch bei gleichlangen Zinsbindungen auf Aktiv- und Passivseite besteht.', 'maxPoints': np.float64(2.0), 'minPoints': 0, 'rubrics': [{'id': '1', 'title': 'Die Antwort nennt das Repricing Risk.', 'points': 0.5, 'points_assigned': np.float64(0.0)}, {'id': '2', 'title': 'Die Antwort beschreibt das Repricing Risk so, dass sich Aktiv- und Passivzinsen zu unterschiedlichen Zeiten ändern, da sie unterschiedliche Zinsbindungsdauern besitzen.', 'points': 0.5, 'points_assigned': np.float64(0.5)}, {'id': '3', 'title': 'Die Antwort nennt das Yield Curve Risk.', 'points': 0.5, 'points_assigned': np.float64(0.0)}, {'id': '4', 'title': 'Die Antwort beschreibt das Yield Curve Risk so, dass die Zinskurve steiler oder flacher wird, also dass sich kurz- und langfristige Zinsen unterschiedlich stark verändern.', 'points': 0.5, 'points_assigned': np.float64(0.0)}], 'pointStep': 0.5, 'llmType': 'gpt'}]\n"
     ]
    }
   ],
   "execution_count": 214
  },
  {
   "metadata": {
    "ExecuteTime": {
     "end_time": "2024-12-13T08:47:50.780833Z",
     "start_time": "2024-12-13T08:47:50.775994Z"
    }
   },
   "cell_type": "code",
   "source": [
    "from helpers.stratified_sample import stratified_random_sample\n",
    "import random\n",
    "\n",
    "# Get well distributed sample (assuming maxPoints = rough difficulty)\n",
    "sample = stratified_random_sample(data, sample_size=1000, num_groups=10) \n"
   ],
   "id": "271a734921198969",
   "outputs": [],
   "execution_count": 215
  },
  {
   "metadata": {
    "ExecuteTime": {
     "end_time": "2024-12-13T08:56:43.781306Z",
     "start_time": "2024-12-13T08:47:50.781602Z"
    }
   },
   "cell_type": "code",
   "source": [
    "\n",
    "tracker, average_accuracy, logs = parallel_evaluate(sample, num_threads=num_threads, batch_size=batch_size, func=evaluate)\n",
    "\n",
    "print(f\"Average Accuracy Statistics: {average_accuracy:.2%}\")\n"
   ],
   "id": "63bbd4123a72d6c3",
   "outputs": [
    {
     "data": {
      "text/plain": [
       "Evaluating submissions:   0%|          | 0/250 [00:00<?, ?it/s]"
      ],
      "application/vnd.jupyter.widget-view+json": {
       "version_major": 2,
       "version_minor": 0,
       "model_id": "5263abff757f42ae9ad2fd80a6775b52"
      }
     },
     "metadata": {},
     "output_type": "display_data"
    },
    {
     "data": {
      "text/plain": [
       "Evaluating submissions:   0%|          | 0/250 [00:00<?, ?it/s]"
      ],
      "application/vnd.jupyter.widget-view+json": {
       "version_major": 2,
       "version_minor": 0,
       "model_id": "67ad14b067b14f1fb9061ea3ff5a01b0"
      }
     },
     "metadata": {},
     "output_type": "display_data"
    },
    {
     "data": {
      "text/plain": [
       "Evaluating submissions:   0%|          | 0/250 [00:00<?, ?it/s]"
      ],
      "application/vnd.jupyter.widget-view+json": {
       "version_major": 2,
       "version_minor": 0,
       "model_id": "d1349b5b3d014a8294891e1857b98ee9"
      }
     },
     "metadata": {},
     "output_type": "display_data"
    },
    {
     "data": {
      "text/plain": [
       "Evaluating submissions:   0%|          | 0/250 [00:00<?, ?it/s]"
      ],
      "application/vnd.jupyter.widget-view+json": {
       "version_major": 2,
       "version_minor": 0,
       "model_id": "6a38d7b52d7e4c719e13851d76fa139c"
      }
     },
     "metadata": {},
     "output_type": "display_data"
    },
    {
     "name": "stdout",
     "output_type": "stream",
     "text": [
      "Average Accuracy Statistics: 73.07%\n"
     ]
    }
   ],
   "execution_count": 216
  },
  {
   "metadata": {
    "ExecuteTime": {
     "end_time": "2024-12-13T08:56:43.795514Z",
     "start_time": "2024-12-13T08:56:43.783905Z"
    }
   },
   "cell_type": "code",
   "source": [
    "import copy\n",
    "import requests\n",
    "from tqdm.notebook import tqdm\n",
    "\n",
    "def evaluate_without_rubrics(to_evaluate):\n",
    "    EVALUATION_URL = \"http://localhost:4000/evaluate\"\n",
    "    tracker = []\n",
    "    accuracy_tracker = []\n",
    "    logs = []\n",
    "\n",
    "    # Calculates accuracy by comparing human-assigned points with LLM-assigned points\n",
    "    def calculate_accuracy(human_points, gpt_points, max_points):\n",
    "        if max_points == 0:\n",
    "            return 1  # Avoid division by zero\n",
    "        diff = abs(human_points - gpt_points)\n",
    "        return 1 - (diff / max_points)\n",
    "\n",
    "    for idx, submission in enumerate(tqdm(to_evaluate, desc=\"Evaluating submissions\"), start=1):\n",
    "        try:\n",
    "            # Create a deep copy of the submission to avoid mutating the original object\n",
    "            submission_copy = copy.deepcopy(submission)\n",
    "\n",
    "            # Remember rubrics containing assigned points\n",
    "            full_rubrics = submission_copy[\"rubrics\"]\n",
    "\n",
    "            # Extract human-assigned points (from points_assigned in full_rubrics)\n",
    "            human_points = sum(rubric[\"points_assigned\"] for rubric in full_rubrics)\n",
    "\n",
    "            # No rubrics\n",
    "            submission_copy[\"rubrics\"] = []\n",
    "            \n",
    "\n",
    "            # Make API call for evaluation\n",
    "            response = requests.post(EVALUATION_URL, json=submission_copy, headers={\"Content-Type\": \"application/json\"})\n",
    "            response.raise_for_status()\n",
    "            evaluation_result = response.json()\n",
    "\n",
    "            # Extract LLM-assigned points and rubric data\n",
    "            llm_points = evaluation_result.get(\"points\", 0)\n",
    "            max_points = submission_copy[\"maxPoints\"]\n",
    "\n",
    "            # Calculate accuracy\n",
    "            accuracy = calculate_accuracy(human_points, llm_points, max_points)\n",
    "\n",
    "            tracker.append({\n",
    "                \"human_points\": human_points,\n",
    "                \"gpt_points\": llm_points,\n",
    "                \"accuracy\": accuracy,\n",
    "                \"evaluation_result\": evaluation_result,\n",
    "                \"submission\": submission,  # Store the modified copy\n",
    "            })\n",
    "            accuracy_tracker.append(accuracy)\n",
    "\n",
    "            # Add logs\n",
    "            logs.append(f\"Submission {idx} Result: {evaluation_result}\")\n",
    "            logs.append(f\"Human Points: {human_points}, GPT Points: {llm_points}\")\n",
    "            logs.append(f\"Accuracy: {accuracy:.2%}\")\n",
    "        except requests.exceptions.RequestException as e:\n",
    "            logs.append(f\"Error evaluating submission {idx}: {e}\")\n",
    "\n",
    "    average_accuracy = sum(accuracy_tracker) / len(accuracy_tracker) if accuracy_tracker else 0\n",
    "\n",
    "    return tracker, average_accuracy, logs\n"
   ],
   "id": "73343f855f6af0fc",
   "outputs": [],
   "execution_count": 217
  },
  {
   "metadata": {
    "ExecuteTime": {
     "end_time": "2024-12-13T09:05:12.796249Z",
     "start_time": "2024-12-13T08:56:43.797070Z"
    }
   },
   "cell_type": "code",
   "source": [
    "# Reuse the small_set from above\n",
    "tracker_no_rubrics, average_accuracy_no_rubrics, logs_no_rubrics = parallel_evaluate(sample, num_threads=num_threads, batch_size=batch_size, func=evaluate_without_rubrics)\n",
    "print(f\"Average Accuracy Statistics: {average_accuracy_no_rubrics:.2%}\")\n",
    "\n"
   ],
   "id": "75e049da569bf884",
   "outputs": [
    {
     "data": {
      "text/plain": [
       "Evaluating submissions:   0%|          | 0/250 [00:00<?, ?it/s]"
      ],
      "application/vnd.jupyter.widget-view+json": {
       "version_major": 2,
       "version_minor": 0,
       "model_id": "6a3587e0a67a4321a82370d2221bf015"
      }
     },
     "metadata": {},
     "output_type": "display_data"
    },
    {
     "data": {
      "text/plain": [
       "Evaluating submissions:   0%|          | 0/250 [00:00<?, ?it/s]"
      ],
      "application/vnd.jupyter.widget-view+json": {
       "version_major": 2,
       "version_minor": 0,
       "model_id": "7342279c7d5943908753fdb73663567f"
      }
     },
     "metadata": {},
     "output_type": "display_data"
    },
    {
     "data": {
      "text/plain": [
       "Evaluating submissions:   0%|          | 0/250 [00:00<?, ?it/s]"
      ],
      "application/vnd.jupyter.widget-view+json": {
       "version_major": 2,
       "version_minor": 0,
       "model_id": "de3ab951cb834e889471860f14967079"
      }
     },
     "metadata": {},
     "output_type": "display_data"
    },
    {
     "data": {
      "text/plain": [
       "Evaluating submissions:   0%|          | 0/250 [00:00<?, ?it/s]"
      ],
      "application/vnd.jupyter.widget-view+json": {
       "version_major": 2,
       "version_minor": 0,
       "model_id": "8b5375fc092145499dabf72db994a821"
      }
     },
     "metadata": {},
     "output_type": "display_data"
    },
    {
     "name": "stdout",
     "output_type": "stream",
     "text": [
      "Average Accuracy Statistics: 69.70%\n"
     ]
    }
   ],
   "execution_count": 218
  },
  {
   "metadata": {
    "ExecuteTime": {
     "end_time": "2024-12-13T09:05:12.803968Z",
     "start_time": "2024-12-13T09:05:12.800598Z"
    }
   },
   "cell_type": "code",
   "source": [
    "print(tracker[0])\n",
    "print(tracker_no_rubrics[0])"
   ],
   "id": "4d1a2f2ba1353932",
   "outputs": [
    {
     "name": "stdout",
     "output_type": "stream",
     "text": [
      "{'human_points': np.float64(2.0), 'gpt_points': 1, 'accuracy': np.float64(0.5), 'evaluation_result': {'status': 'incomplete', 'feedback': \"Your answer identifies 'Character' and 'Conditions' as relevant factors for evaluating creditworthiness, which is correct. However, you did not describe 'Character' in sufficient detail, specifically regarding how the bank would assess the reputation, credit history, and previous business relationships of the potential borrower. Additionally, while you mentioned 'Conditions', the description lacks clarity on how they relate to the borrower's ability to service the debt considering various factors. To improve, ensure you provide detailed explanations for each concept, referencing how they specifically apply to the bank's evaluation process.\", 'hint': \"Focus on elaborating your descriptions to cover the specific assessment methods the bank might use for 'Character' and 'Conditions'. Understanding the implications of these factors in credit evaluations can enhance your answer.\", 'points': 1, 'passedRubricsIds': ['59', '63'], 'failedRubricsIds': ['60', '61', '62', '64']}, 'submission': {'question': 'Die Zürileu AG ersucht bei der Sparkasse Uetliberg einen Kredit über CHF 4 Mio. Die Spar-kasse konnte bei der Bonitätsprüfung ein Warenlager als ausreichendes Collateral, und eine genügend hohe Eigenkapitalquote (Capital) feststellen. Welche weiteren qualitativen oder quantitativen Faktoren könnte die Sparkasse gemäss der 5C-Systematik überprüfen, um die Bonität noch besser einschätzen zu können? Beschreibe die genannten Faktoren.', 'answer': 'Die Sparkasse könnte im Rahmen der Kreditwürdigkeit noch den Character der Zürileu AG überprüfen, das heisst bspw. die Reputation überprüfen. \\\\n Die Sparkasse könnte auch noch die Conditions des Kredites auf die Züirleu AG und das eingegangene Risiko abstimmen und die Tragbarkeit der Konditions überprüfen.', 'maxPoints': np.float64(2.0), 'minPoints': 0, 'rubrics': [{'id': '59', 'title': 'Die Antwort nennt Character oder Charakter als Lösung.', 'points': 0.5, 'points_assigned': np.float64(0.5)}, {'id': '60', 'title': 'Die Antwort beschreibt Character oder Charakter wie folgt: wie die Sparkasse den Ruf des potenziellen Kreditnehmers, dessen Kreditgeschichte und die Qualität bisheriger Geschäftsbeziehungen überprüft.', 'points': 0.5, 'points_assigned': np.float64(0.5)}, {'id': '61', 'title': 'Die Antwort nennt Capacity oder Kapazität als Lösung.', 'points': 0.5, 'points_assigned': np.float64(0.0)}, {'id': '62', 'title': 'Die Antwort beschreibt Capacity oder Kapazität wie folgt: ob der potenzielle Kreditnehmer rechtlich in der Lage ist, den Kredit aufzunehmen und ob er fähig ist, den Kreditverpflichtungen nachzukommen.', 'points': 0.5, 'points_assigned': np.float64(0.0)}, {'id': '63', 'title': 'Die Antwort nennt Conditions oder Konditionen als Lösung.', 'points': 0.5, 'points_assigned': np.float64(0.5)}, {'id': '64', 'title': 'Die Antwort beschreibt Conditions oder Konditionen wie folgt: Sie geht darauf ein, ob der Kreditnehmer in der Lage ist, die Kreditschulden und Zinsen aus seinen Einnahmen zu bedienen und berücksichtigt dabei, dass nicht alle Faktoren vom Kreditnehmer beeinflusst werden können.', 'points': 0.5, 'points_assigned': np.float64(0.5)}], 'pointStep': 0.5, 'llmType': 'gpt'}}\n",
      "{'human_points': np.float64(1.5), 'gpt_points': 2, 'accuracy': np.float64(0.9), 'evaluation_result': {'status': 'incomplete', 'feedback': 'Your answer touches on the Zinskanal (interest rate channel) and the Exchange Rate Channel, which is good. However, it lacks a third channel, which is necessary for completeness. Additionally, the explanation for the Asset Price Channel is incomplete, and it is important to detail how changes in interest rates specifically impact asset prices and, consequently, economic performance. For full credit, ensure all three channels are described fully and clearly connected to the effects on economic output (Y).', 'hint': 'Try to think of another transmission channel such as the credit channel or the wealth effect, and make sure to explain how each channel operates in relation to the interest rate change.', 'points': 2, 'passedRubricsIds': ['1'], 'failedRubricsIds': ['2', '3', '4']}, 'submission': {'question': 'Mittels Zinssatzanpassungen kann eine Zentralbank die Geldpolitik massgebend beeinflus-sen und steuern. Gegeben ist ein Referenzzinssatz von 1.50%. Die Zentralbank entscheidet auf Basis der aktuellen wirtschaftlichen Lage, den Zinssatz um 0.50% anzuheben. Wie wirkt sich die Anhebung auf die Wirtschaftsleistung (Y) aus? Beschreibe drei verschiedene Trans-missionskanäle und deren Mechanismus.', 'answer': 'Zinskanal: Depositenzins sollte auch steigen, Kunden sollten mehr Einlagen halten oder sparen, was zu weniger Investitionen führt, was zu weniger Wirtschaftsleistung führt. \\\\n Exchange rate channel: die heimische Währung wertet auf, dies führt zu höheren Kosten für das Ausland (Exporte teurer, weniger Übernachtungen) und reduziert daher die Wirtschaftsleistung. \\\\n Asset price Kanal', 'maxPoints': np.float64(5.0), 'minPoints': 0, 'rubrics': [{'id': '48', 'title': 'Die Antwort nennt den Interest Rate Channel.', 'points': 0.5, 'points_assigned': np.float64(0.5)}, {'id': '49', 'title': 'Die Antwort beschreibt den Interest Rate Channel so, dass bei steigenden Zinsen die Investitionen abnehmen, und somit die Wirtschaftsleistung sinkt.', 'points': 1.17, 'points_assigned': 0}, {'id': '50', 'title': 'Die Antwort nennt den Exchange Rate Channel.', 'points': 0.5, 'points_assigned': np.float64(0.5)}, {'id': '51', 'title': 'Die Antwort beschreibt den Exchange Rate Channel so, dass bei steigenden Zinsen die heimische Währung aufgewertet wird, somit die Netto-Exporte abnehmen, und somit die Wirtschaftsleistung sinkt.', 'points': 1.17, 'points_assigned': 0}, {'id': '52', 'title': 'Die Antwort nennt den Asset Price Channel.', 'points': 0.5, 'points_assigned': np.float64(0.5)}, {'id': '53', 'title': 'Die Antwort beschreibt den Asset Price Channel so, dass bei steigenden Zinsen Anleihen attraktiver, und Aktien weniger attraktiv werden, und somit die Aktienpreise sinken. Die Antwort muss speziell auf eine der beiden folgenden Situationen eingehen: 1) Wenn Tobin’s q relativ hoch ist, müssen Firmen weniger Aktien emittieren um ihre Investitionen zu finanzieren. Somit steigen die Investitionen und die Wirtschaftsleistung steigt. 2) Wenn Tobin’s q relativ tief ist, müssen Firmen mehr Aktien emittieren um ihre Investitionen zu finanzieren. Somit sinken die Investitionen und die Wirtschaftsleistung sinkt.', 'points': 1.17, 'points_assigned': np.float64(0.0)}, {'id': '54', 'title': 'Die Antwort beschreibt den Asset Price Channel so, dass bei steigenden Zinsen Anleihen attraktiver, und Aktien weniger attraktiv werden, und somit die Aktienpreise sinken. Damit sinkt auch das Gesamtvermögen, somit die Konsumation von Gütern, und somit sinkt die Wirtschaftsleistung.', 'points': 1.17, 'points_assigned': np.float64(0.0)}, {'id': '55', 'title': 'Die Antwort nennt den Credit Channel.', 'points': 0.5, 'points_assigned': np.float64(0.0)}, {'id': '56', 'title': 'Die Antwort beschreibt den Credit Channel so, dass bei steigenden Zinsen weniger Bankkredite nachgefragt werden. Damit sinken die Investitionen und somit auch die Wirtschaftsleistung.', 'points': 1.17, 'points_assigned': np.float64(0.0)}, {'id': '57', 'title': 'Die Antwort nennt den Deposit Channel.', 'points': 0.5, 'points_assigned': np.float64(0.0)}, {'id': '58', 'title': 'Die Antwort beschreibt den Deposit Channel so, dass bei steigenden Zinsen Banken ihre Depositenzinsen relativ weniger stark anhebt. Damit steigt ihr Depositenspread und Kunden fragen weniger Depositen-Services nach, das heisst, das Wachstum des Depositenvolumens sinkt. Mit weniger Depositen hat die Bank weniger Ressourcen zur Kreditvergabe, somit wird das Wirtschafts- und Preiswachstum weniger stimuliert und sinkt.', 'points': 1.17, 'points_assigned': np.float64(0.0)}], 'pointStep': 0.5, 'llmType': 'gpt'}}\n"
     ]
    }
   ],
   "execution_count": 219
  },
  {
   "metadata": {
    "ExecuteTime": {
     "end_time": "2024-12-13T09:07:57.622757Z",
     "start_time": "2024-12-13T09:07:57.617182Z"
    }
   },
   "cell_type": "code",
   "source": [
    "def save_evaluation_result(t, filename):\n",
    "    \"\"\"\n",
    "    Save the evaluation results from a list of dictionaries to a CSV file.\n",
    "    \n",
    "    Args:\n",
    "        t (list): A list of dictionaries containing evaluation data.\n",
    "        filename (str): The name of the file to save the results to.\n",
    "    \"\"\"\n",
    "    # Filter out non-dictionary items\n",
    "    valid_data = [item for item in t if isinstance(item, dict)]\n",
    "\n",
    "    if not valid_data:\n",
    "        raise ValueError(\"No valid dictionary items in tracker.\")\n",
    "\n",
    "    # Convert the tracker list to a DataFrame\n",
    "    df = pd.DataFrame(valid_data)\n",
    "\n",
    "    # Flatten 'evaluation_result'\n",
    "    eval_df = df['evaluation_result'].apply(pd.Series)\n",
    "\n",
    "    # Flatten 'submission' and drop the 'human_points' column from it\n",
    "    submission_df = df['submission'].apply(pd.Series)\n",
    "    submission_df = submission_df.drop(columns=['human_points', 'question', 'answer'], errors='ignore')\n",
    "\n",
    "    # Concatenate the flattened DataFrames with the original, after dropping the nested columns\n",
    "    df = pd.concat([df.drop(columns=['evaluation_result', 'submission']), eval_df, submission_df], axis=1)\n",
    "\n",
    "    # Save the resulting DataFrame to a CSV file\n",
    "    df.to_csv(filename, index=False)\n",
    "\n",
    "    # Optional: Return the DataFrame for verification if needed\n",
    "    return df\n"
   ],
   "id": "91c725685452a991",
   "outputs": [],
   "execution_count": 226
  },
  {
   "metadata": {
    "ExecuteTime": {
     "end_time": "2024-12-13T09:07:58.205555Z",
     "start_time": "2024-12-13T09:07:57.912203Z"
    }
   },
   "cell_type": "code",
   "source": [
    "save_evaluation_result(tracker, 'results/banking_with_rubrics_result.csv')\n",
    "save_evaluation_result(tracker_no_rubrics, 'results/banking_no_rubrics_result.csv')\n"
   ],
   "id": "33edd7c1694f5bf8",
   "outputs": [
    {
     "data": {
      "text/plain": [
       "     human_points  gpt_points  accuracy      status  \\\n",
       "0             1.5         2.0  0.900000  incomplete   \n",
       "1             0.0         1.0  0.333333  incomplete   \n",
       "2             1.0         1.0  1.000000  incomplete   \n",
       "3             1.0         0.0  0.333333   incorrect   \n",
       "4             1.0         1.0  1.000000  incomplete   \n",
       "..            ...         ...       ...         ...   \n",
       "842           0.0         1.0  0.500000  incomplete   \n",
       "843           0.5         0.5  1.000000  incomplete   \n",
       "844           1.0         1.0  1.000000  incomplete   \n",
       "845           0.0         1.0  0.333333  incomplete   \n",
       "846           2.0         1.0  0.500000  incomplete   \n",
       "\n",
       "                                              feedback  \\\n",
       "0    Your answer touches on the Zinskanal (interest...   \n",
       "1    Die Antwort enthält eine grundlegende Erklärun...   \n",
       "2    Your answer correctly identifies the situation...   \n",
       "3    Die Antwort erwähnt wichtige Punkte, wie den S...   \n",
       "4    Your answer identified a relevant qualitative ...   \n",
       "..                                                 ...   \n",
       "842  Ihre Antwort enthält Beispiele für makro- und ...   \n",
       "843  Your answer identifies that the statement made...   \n",
       "844  Your answer touches on the concept of 'Last Le...   \n",
       "845  Your answer touches on the concept of state bo...   \n",
       "846  Your answer addresses several risks, specifica...   \n",
       "\n",
       "                                                  hint  points  \\\n",
       "0    Try to think of another transmission channel s...     2.0   \n",
       "1    Versuche, weitere Informationen über die Auswi...     1.0   \n",
       "2    To improve, consider also discussing how 'Adve...     1.0   \n",
       "3    Überlege, welche spezifischen Ziele für die Ba...     0.0   \n",
       "4    Consider looking into other aspects of the 5C ...     1.0   \n",
       "..                                                 ...     ...   \n",
       "842  Versuchen Sie, die Zielsetzungen und Wirkungen...     1.0   \n",
       "843  Consider providing more context about the bank...     0.5   \n",
       "844  Consider looking into how implicit state guara...     1.0   \n",
       "845  Consider discussing how an implicit state guar...     1.0   \n",
       "846  Consider elaborating on how the different loan...     1.0   \n",
       "\n",
       "    passedRubricsIds             failedRubricsIds  maxPoints  minPoints  \\\n",
       "0                [1]                    [2, 3, 4]        5.0          0   \n",
       "1                 []                    [1, 2, 3]        1.5          0   \n",
       "2                [1]                       [2, 3]        1.5          0   \n",
       "3                 []                    [1, 2, 3]        1.5          0   \n",
       "4                [1]                       [2, 3]        2.0          0   \n",
       "..               ...                          ...        ...        ...   \n",
       "842           [1, 2]                          [3]        2.0          0   \n",
       "843               []                     [R1, R2]        1.0          0   \n",
       "844               []                    [1, 2, 3]        1.5          0   \n",
       "845               []  [rubric1, rubric2, rubric3]        1.5          0   \n",
       "846    [rubric_id_1]   [rubric_id_2, rubric_id_3]        2.0          0   \n",
       "\n",
       "                                               rubrics  pointStep llmType  \n",
       "0    [{'id': '48', 'title': 'Die Antwort nennt den ...        0.5     gpt  \n",
       "1    [{'id': '46', 'title': 'Die Antwort erklärt, d...        0.5     gpt  \n",
       "2    [{'id': '20', 'title': 'In der Antwort wird di...        0.5     gpt  \n",
       "3    [{'id': '33', 'title': 'Die Antwort nennt den ...        0.5     gpt  \n",
       "4    [{'id': '59', 'title': 'Die Antwort nennt Char...        0.5     gpt  \n",
       "..                                                 ...        ...     ...  \n",
       "842  [{'id': '38', 'title': 'Die Antwort gibt die E...        0.5     gpt  \n",
       "843  [{'id': '6', 'title': 'Die Antwort stimmt der ...        0.5     gpt  \n",
       "844  [{'id': '46', 'title': 'Die Antwort erklärt, d...        0.5     gpt  \n",
       "845  [{'id': '46', 'title': 'Die Antwort erklärt, d...        0.5     gpt  \n",
       "846  [{'id': '1', 'title': 'Die Antwort nennt das R...        0.5     gpt  \n",
       "\n",
       "[847 rows x 14 columns]"
      ],
      "text/html": [
       "<div>\n",
       "<style scoped>\n",
       "    .dataframe tbody tr th:only-of-type {\n",
       "        vertical-align: middle;\n",
       "    }\n",
       "\n",
       "    .dataframe tbody tr th {\n",
       "        vertical-align: top;\n",
       "    }\n",
       "\n",
       "    .dataframe thead th {\n",
       "        text-align: right;\n",
       "    }\n",
       "</style>\n",
       "<table border=\"1\" class=\"dataframe\">\n",
       "  <thead>\n",
       "    <tr style=\"text-align: right;\">\n",
       "      <th></th>\n",
       "      <th>human_points</th>\n",
       "      <th>gpt_points</th>\n",
       "      <th>accuracy</th>\n",
       "      <th>status</th>\n",
       "      <th>feedback</th>\n",
       "      <th>hint</th>\n",
       "      <th>points</th>\n",
       "      <th>passedRubricsIds</th>\n",
       "      <th>failedRubricsIds</th>\n",
       "      <th>maxPoints</th>\n",
       "      <th>minPoints</th>\n",
       "      <th>rubrics</th>\n",
       "      <th>pointStep</th>\n",
       "      <th>llmType</th>\n",
       "    </tr>\n",
       "  </thead>\n",
       "  <tbody>\n",
       "    <tr>\n",
       "      <th>0</th>\n",
       "      <td>1.5</td>\n",
       "      <td>2.0</td>\n",
       "      <td>0.900000</td>\n",
       "      <td>incomplete</td>\n",
       "      <td>Your answer touches on the Zinskanal (interest...</td>\n",
       "      <td>Try to think of another transmission channel s...</td>\n",
       "      <td>2.0</td>\n",
       "      <td>[1]</td>\n",
       "      <td>[2, 3, 4]</td>\n",
       "      <td>5.0</td>\n",
       "      <td>0</td>\n",
       "      <td>[{'id': '48', 'title': 'Die Antwort nennt den ...</td>\n",
       "      <td>0.5</td>\n",
       "      <td>gpt</td>\n",
       "    </tr>\n",
       "    <tr>\n",
       "      <th>1</th>\n",
       "      <td>0.0</td>\n",
       "      <td>1.0</td>\n",
       "      <td>0.333333</td>\n",
       "      <td>incomplete</td>\n",
       "      <td>Die Antwort enthält eine grundlegende Erklärun...</td>\n",
       "      <td>Versuche, weitere Informationen über die Auswi...</td>\n",
       "      <td>1.0</td>\n",
       "      <td>[]</td>\n",
       "      <td>[1, 2, 3]</td>\n",
       "      <td>1.5</td>\n",
       "      <td>0</td>\n",
       "      <td>[{'id': '46', 'title': 'Die Antwort erklärt, d...</td>\n",
       "      <td>0.5</td>\n",
       "      <td>gpt</td>\n",
       "    </tr>\n",
       "    <tr>\n",
       "      <th>2</th>\n",
       "      <td>1.0</td>\n",
       "      <td>1.0</td>\n",
       "      <td>1.000000</td>\n",
       "      <td>incomplete</td>\n",
       "      <td>Your answer correctly identifies the situation...</td>\n",
       "      <td>To improve, consider also discussing how 'Adve...</td>\n",
       "      <td>1.0</td>\n",
       "      <td>[1]</td>\n",
       "      <td>[2, 3]</td>\n",
       "      <td>1.5</td>\n",
       "      <td>0</td>\n",
       "      <td>[{'id': '20', 'title': 'In der Antwort wird di...</td>\n",
       "      <td>0.5</td>\n",
       "      <td>gpt</td>\n",
       "    </tr>\n",
       "    <tr>\n",
       "      <th>3</th>\n",
       "      <td>1.0</td>\n",
       "      <td>0.0</td>\n",
       "      <td>0.333333</td>\n",
       "      <td>incorrect</td>\n",
       "      <td>Die Antwort erwähnt wichtige Punkte, wie den S...</td>\n",
       "      <td>Überlege, welche spezifischen Ziele für die Ba...</td>\n",
       "      <td>0.0</td>\n",
       "      <td>[]</td>\n",
       "      <td>[1, 2, 3]</td>\n",
       "      <td>1.5</td>\n",
       "      <td>0</td>\n",
       "      <td>[{'id': '33', 'title': 'Die Antwort nennt den ...</td>\n",
       "      <td>0.5</td>\n",
       "      <td>gpt</td>\n",
       "    </tr>\n",
       "    <tr>\n",
       "      <th>4</th>\n",
       "      <td>1.0</td>\n",
       "      <td>1.0</td>\n",
       "      <td>1.000000</td>\n",
       "      <td>incomplete</td>\n",
       "      <td>Your answer identified a relevant qualitative ...</td>\n",
       "      <td>Consider looking into other aspects of the 5C ...</td>\n",
       "      <td>1.0</td>\n",
       "      <td>[1]</td>\n",
       "      <td>[2, 3]</td>\n",
       "      <td>2.0</td>\n",
       "      <td>0</td>\n",
       "      <td>[{'id': '59', 'title': 'Die Antwort nennt Char...</td>\n",
       "      <td>0.5</td>\n",
       "      <td>gpt</td>\n",
       "    </tr>\n",
       "    <tr>\n",
       "      <th>...</th>\n",
       "      <td>...</td>\n",
       "      <td>...</td>\n",
       "      <td>...</td>\n",
       "      <td>...</td>\n",
       "      <td>...</td>\n",
       "      <td>...</td>\n",
       "      <td>...</td>\n",
       "      <td>...</td>\n",
       "      <td>...</td>\n",
       "      <td>...</td>\n",
       "      <td>...</td>\n",
       "      <td>...</td>\n",
       "      <td>...</td>\n",
       "      <td>...</td>\n",
       "    </tr>\n",
       "    <tr>\n",
       "      <th>842</th>\n",
       "      <td>0.0</td>\n",
       "      <td>1.0</td>\n",
       "      <td>0.500000</td>\n",
       "      <td>incomplete</td>\n",
       "      <td>Ihre Antwort enthält Beispiele für makro- und ...</td>\n",
       "      <td>Versuchen Sie, die Zielsetzungen und Wirkungen...</td>\n",
       "      <td>1.0</td>\n",
       "      <td>[1, 2]</td>\n",
       "      <td>[3]</td>\n",
       "      <td>2.0</td>\n",
       "      <td>0</td>\n",
       "      <td>[{'id': '38', 'title': 'Die Antwort gibt die E...</td>\n",
       "      <td>0.5</td>\n",
       "      <td>gpt</td>\n",
       "    </tr>\n",
       "    <tr>\n",
       "      <th>843</th>\n",
       "      <td>0.5</td>\n",
       "      <td>0.5</td>\n",
       "      <td>1.000000</td>\n",
       "      <td>incomplete</td>\n",
       "      <td>Your answer identifies that the statement made...</td>\n",
       "      <td>Consider providing more context about the bank...</td>\n",
       "      <td>0.5</td>\n",
       "      <td>[]</td>\n",
       "      <td>[R1, R2]</td>\n",
       "      <td>1.0</td>\n",
       "      <td>0</td>\n",
       "      <td>[{'id': '6', 'title': 'Die Antwort stimmt der ...</td>\n",
       "      <td>0.5</td>\n",
       "      <td>gpt</td>\n",
       "    </tr>\n",
       "    <tr>\n",
       "      <th>844</th>\n",
       "      <td>1.0</td>\n",
       "      <td>1.0</td>\n",
       "      <td>1.000000</td>\n",
       "      <td>incomplete</td>\n",
       "      <td>Your answer touches on the concept of 'Last Le...</td>\n",
       "      <td>Consider looking into how implicit state guara...</td>\n",
       "      <td>1.0</td>\n",
       "      <td>[]</td>\n",
       "      <td>[1, 2, 3]</td>\n",
       "      <td>1.5</td>\n",
       "      <td>0</td>\n",
       "      <td>[{'id': '46', 'title': 'Die Antwort erklärt, d...</td>\n",
       "      <td>0.5</td>\n",
       "      <td>gpt</td>\n",
       "    </tr>\n",
       "    <tr>\n",
       "      <th>845</th>\n",
       "      <td>0.0</td>\n",
       "      <td>1.0</td>\n",
       "      <td>0.333333</td>\n",
       "      <td>incomplete</td>\n",
       "      <td>Your answer touches on the concept of state bo...</td>\n",
       "      <td>Consider discussing how an implicit state guar...</td>\n",
       "      <td>1.0</td>\n",
       "      <td>[]</td>\n",
       "      <td>[rubric1, rubric2, rubric3]</td>\n",
       "      <td>1.5</td>\n",
       "      <td>0</td>\n",
       "      <td>[{'id': '46', 'title': 'Die Antwort erklärt, d...</td>\n",
       "      <td>0.5</td>\n",
       "      <td>gpt</td>\n",
       "    </tr>\n",
       "    <tr>\n",
       "      <th>846</th>\n",
       "      <td>2.0</td>\n",
       "      <td>1.0</td>\n",
       "      <td>0.500000</td>\n",
       "      <td>incomplete</td>\n",
       "      <td>Your answer addresses several risks, specifica...</td>\n",
       "      <td>Consider elaborating on how the different loan...</td>\n",
       "      <td>1.0</td>\n",
       "      <td>[rubric_id_1]</td>\n",
       "      <td>[rubric_id_2, rubric_id_3]</td>\n",
       "      <td>2.0</td>\n",
       "      <td>0</td>\n",
       "      <td>[{'id': '1', 'title': 'Die Antwort nennt das R...</td>\n",
       "      <td>0.5</td>\n",
       "      <td>gpt</td>\n",
       "    </tr>\n",
       "  </tbody>\n",
       "</table>\n",
       "<p>847 rows × 14 columns</p>\n",
       "</div>"
      ]
     },
     "execution_count": 227,
     "metadata": {},
     "output_type": "execute_result"
    }
   ],
   "execution_count": 227
  },
  {
   "metadata": {
    "ExecuteTime": {
     "end_time": "2024-12-13T09:05:12.996184Z",
     "start_time": "2024-12-13T09:05:12.996052Z"
    }
   },
   "cell_type": "code",
   "source": [
    "for x in tracker:\n",
    "    if x[\"accuracy\"] < 0:\n",
    "        print(x)"
   ],
   "id": "8d4e544071a9289c",
   "outputs": [],
   "execution_count": null
  },
  {
   "metadata": {},
   "cell_type": "code",
   "source": "",
   "id": "70c9507fc9d30951",
   "outputs": [],
   "execution_count": null
  }
 ],
 "metadata": {
  "kernelspec": {
   "display_name": "Python 3",
   "language": "python",
   "name": "python3"
  },
  "language_info": {
   "codemirror_mode": {
    "name": "ipython",
    "version": 2
   },
   "file_extension": ".py",
   "mimetype": "text/x-python",
   "name": "python",
   "nbconvert_exporter": "python",
   "pygments_lexer": "ipython2",
   "version": "2.7.6"
  }
 },
 "nbformat": 4,
 "nbformat_minor": 5
}
